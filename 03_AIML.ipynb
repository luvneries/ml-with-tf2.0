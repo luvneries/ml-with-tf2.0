{
 "cells": [
  {
   "cell_type": "markdown",
   "metadata": {
    "colab_type": "text",
    "id": "ItAOJSyVos8y"
   },
   "source": [
    "# AIML\n",
    "\n",
    "This notebook contains different neural networks implemented in TF2.0"
   ]
  },
  {
   "cell_type": "code",
   "execution_count": 23,
   "metadata": {
    "colab": {
     "base_uri": "https://localhost:8080/",
     "height": 34
    },
    "colab_type": "code",
    "id": "3aBdPqwhlCiP",
    "outputId": "caf60eb2-6dbe-43ed-bf55-87af9cbb2f68"
   },
   "outputs": [
    {
     "data": {
      "text/plain": [
       "'2.0.0-beta1'"
      ]
     },
     "execution_count": 23,
     "metadata": {},
     "output_type": "execute_result"
    }
   ],
   "source": [
    "from IPython.core.interactiveshell import InteractiveShell\n",
    "InteractiveShell.ast_node_interactivity = 'all'\n",
    "\n",
    "import tensorflow as tf\n",
    "tf.__version__"
   ]
  },
  {
   "cell_type": "markdown",
   "metadata": {
    "colab_type": "text",
    "id": "lXycKBMQlMgn"
   },
   "source": [
    "# Regression"
   ]
  },
  {
   "cell_type": "markdown",
   "metadata": {
    "colab_type": "text",
    "id": "XILcA4wDlzkm"
   },
   "source": [
    "**Step1: Import modules and data**"
   ]
  },
  {
   "cell_type": "code",
   "execution_count": 24,
   "metadata": {
    "colab": {
     "base_uri": "https://localhost:8080/",
     "height": 34
    },
    "colab_type": "code",
    "id": "q2lLEIGxlZ4O",
    "outputId": "de0b1de3-e33a-4ec9-a7e8-333a2fcb778d"
   },
   "outputs": [],
   "source": [
    "import numpy as np\n",
    "\n",
    "import tensorflow as tf\n",
    "tf.random.set_seed=123\n",
    "\n",
    "import matplotlib.pyplot as plt\n",
    "%matplotlib inline\n",
    "\n",
    "from sklearn.datasets import load_boston\n",
    "from sklearn.preprocessing import scale\n",
    "\n",
    "features, prices = load_boston(True)"
   ]
  },
  {
   "cell_type": "markdown",
   "metadata": {
    "colab_type": "text",
    "id": "37C_Tz_qmJZM"
   },
   "source": [
    "**Step2: Preprocessing**"
   ]
  },
  {
   "cell_type": "code",
   "execution_count": 25,
   "metadata": {
    "colab": {},
    "colab_type": "code",
    "id": "oAsi0PD_mPsv"
   },
   "outputs": [],
   "source": [
    "# Split into train and test\n",
    "from sklearn.model_selection import train_test_split\n",
    "x_train, x_test, y_train, y_test = train_test_split(features, prices, test_size=0.2)\n",
    "\n",
    "# split train set into validation and leave test as unseen data\n",
    "x_train, x_valid, y_train, y_valid = train_test_split(x_train, y_train, test_size=0.2)"
   ]
  },
  {
   "cell_type": "code",
   "execution_count": 26,
   "metadata": {
    "colab": {},
    "colab_type": "code",
    "id": "iNAPFt6gmXTP"
   },
   "outputs": [],
   "source": [
    "# Preprocess and transform data\n",
    "x_train = tf.cast(scale(x_train), dtype=tf.float32)\n",
    "x_test = tf.cast(scale(x_test), dtype=tf.float32)\n",
    "x_valid = tf.cast(scale(x_valid), dtype=tf.float32)"
   ]
  },
  {
   "cell_type": "markdown",
   "metadata": {
    "colab_type": "text",
    "id": "DpD6UXzGmeai"
   },
   "source": [
    "**Step3: Build Regression model**"
   ]
  },
  {
   "cell_type": "code",
   "execution_count": 27,
   "metadata": {
    "colab": {},
    "colab_type": "code",
    "id": "uMx3XSODmm-U"
   },
   "outputs": [],
   "source": [
    "# Define hyper parameters\n",
    "learning_rate = 0.001\n",
    "epochs = 5\n",
    "\n",
    "# Initialize random values for weight and bias\n",
    "W = tf.Variable(tf.random.normal([13,1], mean=0.0, stddev=1.0, dtype=tf.float32))\n",
    "B = tf.Variable(tf.zeros(1), dtype=tf.float32)"
   ]
  },
  {
   "cell_type": "code",
   "execution_count": 28,
   "metadata": {
    "colab": {},
    "colab_type": "code",
    "id": "w6H6YJ6rmmpq"
   },
   "outputs": [],
   "source": [
    "# Define a prediction function\n",
    "def predict(x, weights, bias):\n",
    "    return tf.reduce_sum(tf.matmul(x, weights), axis=1, keepdims=True) + bias "
   ]
  },
  {
   "cell_type": "code",
   "execution_count": 29,
   "metadata": {
    "colab": {},
    "colab_type": "code",
    "id": "J3PTPJ1smmVw"
   },
   "outputs": [],
   "source": [
    "# Define a loss function \n",
    "def rmse(x, y, weights, bias):\n",
    "    error = predict(x, weights, bias) - y\n",
    "    squared_error = tf.square(error)\n",
    "    return tf.sqrt(tf.reduce_mean(squared_error))"
   ]
  },
  {
   "cell_type": "code",
   "execution_count": 30,
   "metadata": {
    "colab": {},
    "colab_type": "code",
    "id": "kDc3DOUXmmAn"
   },
   "outputs": [],
   "source": [
    "# Define derivate or optimizer\n",
    "def gradient(x, y, weights, bias):\n",
    "    with tf.GradientTape() as tape:\n",
    "        rmse_value = rmse(x, y, weights, bias)\n",
    "    return tape.gradient(rmse_value, [weights, bias])"
   ]
  },
  {
   "cell_type": "code",
   "execution_count": 31,
   "metadata": {
    "colab": {
     "base_uri": "https://localhost:8080/",
     "height": 34
    },
    "colab_type": "code",
    "id": "ZAaGohYdmlZC",
    "outputId": "19536de0-3e50-4b9e-bc53-5269ac40e789"
   },
   "outputs": [
    {
     "data": {
      "text/plain": [
       "<tf.Variable 'UnreadVariable' shape=(13, 1) dtype=float32, numpy=\n",
       "array([[-1.7576448 ],\n",
       "       [ 0.05011108],\n",
       "       [-1.7047981 ],\n",
       "       [-1.110106  ],\n",
       "       [ 2.5383947 ],\n",
       "       [ 0.6725887 ],\n",
       "       [ 0.40312243],\n",
       "       [-0.28553987],\n",
       "       [-1.2967421 ],\n",
       "       [ 0.53705275],\n",
       "       [ 0.12129647],\n",
       "       [ 0.08437369],\n",
       "       [-2.5319936 ]], dtype=float32)>"
      ]
     },
     "execution_count": 31,
     "metadata": {},
     "output_type": "execute_result"
    },
    {
     "data": {
      "text/plain": [
       "<tf.Variable 'UnreadVariable' shape=(1,) dtype=float32, numpy=array([0.00091354], dtype=float32)>"
      ]
     },
     "execution_count": 31,
     "metadata": {},
     "output_type": "execute_result"
    },
    {
     "name": "stdout",
     "output_type": "stream",
     "text": [
      "Validation loss after Epoch-0: 26.043630599975586\n"
     ]
    },
    {
     "data": {
      "text/plain": [
       "<tf.Variable 'UnreadVariable' shape=(13, 1) dtype=float32, numpy=\n",
       "array([[-1.7575215 ],\n",
       "       [ 0.05006592],\n",
       "       [-1.7047026 ],\n",
       "       [-1.1100821 ],\n",
       "       [ 2.5384498 ],\n",
       "       [ 0.6724848 ],\n",
       "       [ 0.40318272],\n",
       "       [-0.28559545],\n",
       "       [-1.296643  ],\n",
       "       [ 0.5371505 ],\n",
       "       [ 0.12136154],\n",
       "       [ 0.08430595],\n",
       "       [-2.5318613 ]], dtype=float32)>"
      ]
     },
     "execution_count": 31,
     "metadata": {},
     "output_type": "execute_result"
    },
    {
     "data": {
      "text/plain": [
       "<tf.Variable 'UnreadVariable' shape=(1,) dtype=float32, numpy=array([0.00182708], dtype=float32)>"
      ]
     },
     "execution_count": 31,
     "metadata": {},
     "output_type": "execute_result"
    },
    {
     "data": {
      "text/plain": [
       "<tf.Variable 'UnreadVariable' shape=(13, 1) dtype=float32, numpy=\n",
       "array([[-1.7573982 ],\n",
       "       [ 0.05002078],\n",
       "       [-1.7046071 ],\n",
       "       [-1.1100583 ],\n",
       "       [ 2.5385048 ],\n",
       "       [ 0.6723809 ],\n",
       "       [ 0.403243  ],\n",
       "       [-0.285651  ],\n",
       "       [-1.296544  ],\n",
       "       [ 0.5372482 ],\n",
       "       [ 0.1214266 ],\n",
       "       [ 0.08423822],\n",
       "       [-2.531729  ]], dtype=float32)>"
      ]
     },
     "execution_count": 31,
     "metadata": {},
     "output_type": "execute_result"
    },
    {
     "data": {
      "text/plain": [
       "<tf.Variable 'UnreadVariable' shape=(1,) dtype=float32, numpy=array([0.00274062], dtype=float32)>"
      ]
     },
     "execution_count": 31,
     "metadata": {},
     "output_type": "execute_result"
    },
    {
     "data": {
      "text/plain": [
       "<tf.Variable 'UnreadVariable' shape=(13, 1) dtype=float32, numpy=\n",
       "array([[-1.7572751 ],\n",
       "       [ 0.04997565],\n",
       "       [-1.7045116 ],\n",
       "       [-1.1100345 ],\n",
       "       [ 2.53856   ],\n",
       "       [ 0.67227703],\n",
       "       [ 0.40330327],\n",
       "       [-0.28570652],\n",
       "       [-1.2964449 ],\n",
       "       [ 0.5373459 ],\n",
       "       [ 0.12149166],\n",
       "       [ 0.08417051],\n",
       "       [-2.5315967 ]], dtype=float32)>"
      ]
     },
     "execution_count": 31,
     "metadata": {},
     "output_type": "execute_result"
    },
    {
     "data": {
      "text/plain": [
       "<tf.Variable 'UnreadVariable' shape=(1,) dtype=float32, numpy=array([0.00365415], dtype=float32)>"
      ]
     },
     "execution_count": 31,
     "metadata": {},
     "output_type": "execute_result"
    },
    {
     "data": {
      "text/plain": [
       "<tf.Variable 'UnreadVariable' shape=(13, 1) dtype=float32, numpy=\n",
       "array([[-1.757152  ],\n",
       "       [ 0.04993054],\n",
       "       [-1.7044162 ],\n",
       "       [-1.1100106 ],\n",
       "       [ 2.538615  ],\n",
       "       [ 0.6721732 ],\n",
       "       [ 0.4033635 ],\n",
       "       [-0.28576204],\n",
       "       [-1.296346  ],\n",
       "       [ 0.5374436 ],\n",
       "       [ 0.12155669],\n",
       "       [ 0.0841028 ],\n",
       "       [-2.5314643 ]], dtype=float32)>"
      ]
     },
     "execution_count": 31,
     "metadata": {},
     "output_type": "execute_result"
    },
    {
     "data": {
      "text/plain": [
       "<tf.Variable 'UnreadVariable' shape=(1,) dtype=float32, numpy=array([0.00456769], dtype=float32)>"
      ]
     },
     "execution_count": 31,
     "metadata": {},
     "output_type": "execute_result"
    }
   ],
   "source": [
    "# Let's find out best parameter with Gradient\n",
    "for epoch in range(epochs):\n",
    "    w_delta, b_delta = gradient(x_train, y_train, W, B)\n",
    "    change_w = w_delta*learning_rate\n",
    "    change_b = b_delta*learning_rate\n",
    "    W.assign_sub(change_w)\n",
    "    B.assign_sub(change_b)\n",
    "    if (epoch%1000)==0:\n",
    "        print(f\"Validation loss after Epoch-{epoch}: {rmse(x_valid, y_valid, W, B)}\")"
   ]
  },
  {
   "cell_type": "code",
   "execution_count": 32,
   "metadata": {
    "colab": {
     "base_uri": "https://localhost:8080/",
     "height": 51
    },
    "colab_type": "code",
    "id": "kqkorszrm5-8",
    "outputId": "195efc42-a937-43e7-820d-9a83babff14f"
   },
   "outputs": [
    {
     "name": "stdout",
     "output_type": "stream",
     "text": [
      "Model prediction:  [-1.8954488]\n",
      "Actual prediction:  16.1\n"
     ]
    }
   ],
   "source": [
    "# Let's make prediction on test dataset\n",
    "y_pred = predict(x_test, W, B)\n",
    "print(\"Model prediction: \", y_pred[45].numpy())\n",
    "print(\"Actual prediction: \", y_test[45])"
   ]
  },
  {
   "cell_type": "code",
   "execution_count": 33,
   "metadata": {
    "colab": {
     "base_uri": "https://localhost:8080/",
     "height": 269
    },
    "colab_type": "code",
    "id": "XRnI3p0Km5m4",
    "outputId": "7acc8303-59ac-4953-8e1f-64315bcade21"
   },
   "outputs": [
    {
     "data": {
      "text/plain": [
       "[<matplotlib.lines.Line2D at 0x12e5cff28>]"
      ]
     },
     "execution_count": 33,
     "metadata": {},
     "output_type": "execute_result"
    },
    {
     "data": {
      "text/plain": [
       "[<matplotlib.lines.Line2D at 0x12e5da438>]"
      ]
     },
     "execution_count": 33,
     "metadata": {},
     "output_type": "execute_result"
    },
    {
     "data": {
      "image/png": "[encoded data removed]",
      "text/plain": [
       "<Figure size 432x288 with 1 Axes>"
      ]
     },
     "metadata": {
      "needs_background": "light"
     },
     "output_type": "display_data"
    }
   ],
   "source": [
    "# Plot outputs\n",
    "plt.plot(y_test, color='b', marker='^')\n",
    "plt.plot(y_pred, color='g', marker='o')\n",
    "plt.show()"
   ]
  },
  {
   "cell_type": "markdown",
   "metadata": {
    "colab_type": "text",
    "id": "bglGqYuao-_Q"
   },
   "source": [
    "# Artificial Neural Networks"
   ]
  },
  {
   "cell_type": "markdown",
   "metadata": {
    "colab_type": "text",
    "id": "PZN_DrVQpF7c"
   },
   "source": [
    "**Step 1: Import required Modules and dataset**\n"
   ]
  },
  {
   "cell_type": "code",
   "execution_count": 3,
   "metadata": {
    "colab": {
     "base_uri": "https://localhost:8080/",
     "height": 286
    },
    "colab_type": "code",
    "id": "V-428OCTpKQb",
    "outputId": "12a7809e-66fe-49a0-e441-23a163575569"
   },
   "outputs": [
    {
     "data": {
      "text/plain": [
       "(60000, 28, 28)"
      ]
     },
     "execution_count": 3,
     "metadata": {
      "tags": []
     },
     "output_type": "execute_result"
    },
    {
     "data": {
      "text/plain": [
       "<matplotlib.image.AxesImage at 0x7fd82d401400>"
      ]
     },
     "execution_count": 3,
     "metadata": {
      "tags": []
     },
     "output_type": "execute_result"
    },
    {
     "data": {
      "image/png": "[encoded data removed]",
      "text/plain": [
       "<Figure size 432x288 with 1 Axes>"
      ]
     },
     "metadata": {
      "tags": []
     },
     "output_type": "display_data"
    }
   ],
   "source": [
    "import numpy as np\n",
    "import datetime\n",
    "\n",
    "import matplotlib.pyplot as plt\n",
    "%matplotlib inline\n",
    "\n",
    "import tensorflow as tf\n",
    "#tf.compat.v1.logging.set_verbosity(tf.compat.v1.logging.INFO)\n",
    "\n",
    "from tensorflow.keras.datasets import mnist\n",
    "\n",
    "(x_train, y_train), (x_test, y_test) = mnist.load_data()\n",
    "\n",
    "x_train.shape\n",
    "\n",
    "# Plot an image\n",
    "plt.imshow(x_train[1])"
   ]
  },
  {
   "cell_type": "markdown",
   "metadata": {
    "colab_type": "text",
    "id": "kd6s2oY0qANT"
   },
   "source": [
    "**Step 2: Preprocessing - Normalize and reshape images**"
   ]
  },
  {
   "cell_type": "code",
   "execution_count": 4,
   "metadata": {
    "colab": {
     "base_uri": "https://localhost:8080/",
     "height": 34
    },
    "colab_type": "code",
    "id": "sx6idiXWpn3E",
    "outputId": "d1e5201c-13e1-4b1c-9d87-610c7ea2a825"
   },
   "outputs": [
    {
     "data": {
      "text/plain": [
       "(60000, 784)"
      ]
     },
     "execution_count": 4,
     "metadata": {
      "tags": []
     },
     "output_type": "execute_result"
    }
   ],
   "source": [
    "# Normalize\n",
    "x_train = x_train/255.0\n",
    "x_test = x_test/255.0\n",
    "\n",
    "# Reshape\n",
    "x_train = x_train.reshape(-1, 28*28)\n",
    "x_test = x_test.reshape(-1, 28*28)\n",
    "\n",
    "x_train.shape"
   ]
  },
  {
   "cell_type": "markdown",
   "metadata": {
    "colab_type": "text",
    "id": "065bG1ZzvldF"
   },
   "source": [
    "**Step 3: Build, Evalualte and Predict ANN**"
   ]
  },
  {
   "cell_type": "code",
   "execution_count": 5,
   "metadata": {
    "colab": {
     "base_uri": "https://localhost:8080/",
     "height": 255
    },
    "colab_type": "code",
    "id": "vpmUPRBLrRfm",
    "outputId": "4433f21f-b806-4009-baea-b5928e7f0ed2"
   },
   "outputs": [
    {
     "name": "stdout",
     "output_type": "stream",
     "text": [
      "Model: \"sequential\"\n",
      "_________________________________________________________________\n",
      "Layer (type)                 Output Shape              Param #   \n",
      "=================================================================\n",
      "dense (Dense)                (None, 128)               100480    \n",
      "_________________________________________________________________\n",
      "dropout (Dropout)            (None, 128)               0         \n",
      "_________________________________________________________________\n",
      "dense_1 (Dense)              (None, 10)                1290      \n",
      "=================================================================\n",
      "Total params: 101,770\n",
      "Trainable params: 101,770\n",
      "Non-trainable params: 0\n",
      "_________________________________________________________________\n"
     ]
    }
   ],
   "source": [
    "# Define a model\n",
    "model = tf.keras.models.Sequential()\n",
    "model.add(tf.keras.layers.Dense(units=128, activation='relu', input_shape=(784,)))\n",
    "model.add(tf.keras.layers.Dropout(0.2))\n",
    "model.add(tf.keras.layers.Dense(units=10, activation='softmax'))\n",
    "model.compile(optimizer='adam', loss='sparse_categorical_crossentropy', metrics=['sparse_categorical_accuracy'])\n",
    "model.summary()"
   ]
  },
  {
   "cell_type": "code",
   "execution_count": 6,
   "metadata": {
    "colab": {
     "base_uri": "https://localhost:8080/",
     "height": 309
    },
    "colab_type": "code",
    "id": "bL_b2aJju8iY",
    "outputId": "51221dde-63a0-466f-de19-6ee5c63e26be"
   },
   "outputs": [
    {
     "name": "stderr",
     "output_type": "stream",
     "text": [
      "WARNING: Logging before flag parsing goes to stderr.\n",
      "W0625 04:50:32.669970 140568180594560 deprecation.py:323] From /usr/local/lib/python3.6/dist-packages/tensorflow/python/ops/math_grad.py:1250: add_dispatch_support.<locals>.wrapper (from tensorflow.python.ops.array_ops) is deprecated and will be removed in a future version.\n",
      "Instructions for updating:\n",
      "Use tf.where in 2.0, which has the same broadcast rule as np.where\n"
     ]
    },
    {
     "name": "stdout",
     "output_type": "stream",
     "text": [
      "Train on 60000 samples\n",
      "Epoch 1/5\n",
      "60000/60000 [==============================] - 15s 249us/sample - loss: 0.2576 - sparse_categorical_accuracy: 0.9242\n",
      "Epoch 2/5\n",
      "60000/60000 [==============================] - 15s 249us/sample - loss: 0.1317 - sparse_categorical_accuracy: 0.9597\n",
      "Epoch 3/5\n",
      "60000/60000 [==============================] - 15s 248us/sample - loss: 0.1020 - sparse_categorical_accuracy: 0.9685\n",
      "Epoch 4/5\n",
      "60000/60000 [==============================] - 13s 221us/sample - loss: 0.0848 - sparse_categorical_accuracy: 0.9738\n",
      "Epoch 5/5\n",
      "60000/60000 [==============================] - 13s 214us/sample - loss: 0.0756 - sparse_categorical_accuracy: 0.9766\n"
     ]
    },
    {
     "data": {
      "text/plain": [
       "<tensorflow.python.keras.callbacks.History at 0x7fd82d414860>"
      ]
     },
     "execution_count": 6,
     "metadata": {
      "tags": []
     },
     "output_type": "execute_result"
    }
   ],
   "source": [
    "# Define callback\n",
    "#class myCallback(tf.keras.callbacks.Callback):\n",
    "#  def on_epoch_end(self, epoch, logs={}):\n",
    "#    if (logs.get('acc')>0.97):\n",
    "#      print('Reached accuracy, cancelling training')\n",
    "#      self.model.stop_training=True\n",
    "\n",
    "# Train model\n",
    "model.fit(x_train, \n",
    "          y_train, \n",
    "          epochs=5, \n",
    "          batch_size=128, \n",
    "          #callbacks=[ myCallback() ]\n",
    "         )"
   ]
  },
  {
   "cell_type": "code",
   "execution_count": 7,
   "metadata": {
    "colab": {
     "base_uri": "https://localhost:8080/",
     "height": 71
    },
    "colab_type": "code",
    "id": "tmszhhyUyppH",
    "outputId": "736ed713-ba47-42d0-cb44-18cbf3d41541"
   },
   "outputs": [
    {
     "name": "stdout",
     "output_type": "stream",
     "text": [
      "10000/10000 [==============================] - 0s 50us/sample - loss: 0.0756 - sparse_categorical_accuracy: 0.9781\n"
     ]
    },
    {
     "data": {
      "text/plain": [
       "[0.07560164894249756, 0.9781]"
      ]
     },
     "execution_count": 7,
     "metadata": {
      "tags": []
     },
     "output_type": "execute_result"
    }
   ],
   "source": [
    "# Evaluate model\n",
    "model.evaluate(x_test, y_test)"
   ]
  },
  {
   "cell_type": "code",
   "execution_count": 12,
   "metadata": {
    "colab": {
     "base_uri": "https://localhost:8080/",
     "height": 34
    },
    "colab_type": "code",
    "id": "laof4mFExwys",
    "outputId": "945d55dd-7963-438e-b03e-b5e7705ce22b"
   },
   "outputs": [
    {
     "data": {
      "text/plain": [
       "array([7, 2, 1, 0, 4])"
      ]
     },
     "execution_count": 12,
     "metadata": {
      "tags": []
     },
     "output_type": "execute_result"
    }
   ],
   "source": [
    "# Make prediction\n",
    "model.predict_classes(x_test[:5])"
   ]
  },
  {
   "cell_type": "markdown",
   "metadata": {
    "colab_type": "text",
    "id": "ycKFSsy90GCM"
   },
   "source": [
    "# Convolutional Neural Networks"
   ]
  },
  {
   "cell_type": "markdown",
   "metadata": {
    "colab_type": "text",
    "id": "OnxBzdjW1DML"
   },
   "source": [
    "**Step 1: Import modules and dataset**"
   ]
  },
  {
   "cell_type": "code",
   "execution_count": 19,
   "metadata": {
    "colab": {
     "base_uri": "https://localhost:8080/",
     "height": 286
    },
    "colab_type": "code",
    "id": "nJknsldc0WT8",
    "outputId": "e0e5bd21-3f87-4fd7-9d40-2d9e184401a2"
   },
   "outputs": [
    {
     "data": {
      "text/plain": [
       "<matplotlib.image.AxesImage at 0x7fd820166c50>"
      ]
     },
     "execution_count": 19,
     "metadata": {
      "tags": []
     },
     "output_type": "execute_result"
    },
    {
     "data": {
      "image/png": "[encoded data removed]",
      "text/plain": [
       "<Figure size 432x288 with 1 Axes>"
      ]
     },
     "metadata": {
      "tags": []
     },
     "output_type": "display_data"
    }
   ],
   "source": [
    "import tensorflow as tf\n",
    "import matplotlib.pyplot as plt\n",
    "%matplotlib inline\n",
    "\n",
    "from tensorflow.keras.datasets import cifar10\n",
    "\n",
    "(x_train, y_train), (x_test, y_test) = cifar10.load_data()\n",
    "\n",
    "plt.imshow(x_train[1])"
   ]
  },
  {
   "cell_type": "markdown",
   "metadata": {
    "colab_type": "text",
    "id": "jU05Lsd51kUd"
   },
   "source": [
    "**Step 2: Preprocessing - Normalization**"
   ]
  },
  {
   "cell_type": "code",
   "execution_count": 20,
   "metadata": {
    "colab": {
     "base_uri": "https://localhost:8080/",
     "height": 34
    },
    "colab_type": "code",
    "id": "Dj_eRXDU01rO",
    "outputId": "29d85349-b807-496e-f68d-8368db299087"
   },
   "outputs": [
    {
     "data": {
      "text/plain": [
       "(50000, 32, 32, 3)"
      ]
     },
     "execution_count": 20,
     "metadata": {
      "tags": []
     },
     "output_type": "execute_result"
    }
   ],
   "source": [
    "class_name = ['airplanes', 'automobile', 'bird', 'cat', 'deer', 'dog', 'frog', 'horse', 'ship', 'truck']\n",
    "\n",
    "x_train = x_train/255.0\n",
    "x_test = x_test/255.0\n",
    "\n",
    "x_train.shape\n"
   ]
  },
  {
   "cell_type": "markdown",
   "metadata": {
    "colab_type": "text",
    "id": "LktgHXfo-6Ud"
   },
   "source": [
    "**Step 3: Build, Evaluate, Predict CNN**"
   ]
  },
  {
   "cell_type": "code",
   "execution_count": 23,
   "metadata": {
    "colab": {
     "base_uri": "https://localhost:8080/",
     "height": 561
    },
    "colab_type": "code",
    "id": "ERo0MAaQ-whS",
    "outputId": "a0b53506-7350-49ef-b7cc-41a26ae54396"
   },
   "outputs": [
    {
     "name": "stdout",
     "output_type": "stream",
     "text": [
      "Model: \"sequential_3\"\n",
      "_________________________________________________________________\n",
      "Layer (type)                 Output Shape              Param #   \n",
      "=================================================================\n",
      "conv2d_5 (Conv2D)            (None, 32, 32, 32)        896       \n",
      "_________________________________________________________________\n",
      "conv2d_6 (Conv2D)            (None, 32, 32, 32)        9248      \n",
      "_________________________________________________________________\n",
      "max_pooling2d_4 (MaxPooling2 (None, 16, 16, 32)        0         \n",
      "_________________________________________________________________\n",
      "conv2d_7 (Conv2D)            (None, 16, 16, 64)        18496     \n",
      "_________________________________________________________________\n",
      "max_pooling2d_5 (MaxPooling2 (None, 8, 8, 64)          0         \n",
      "_________________________________________________________________\n",
      "conv2d_8 (Conv2D)            (None, 8, 8, 64)          36928     \n",
      "_________________________________________________________________\n",
      "max_pooling2d_6 (MaxPooling2 (None, 4, 4, 64)          0         \n",
      "_________________________________________________________________\n",
      "conv2d_9 (Conv2D)            (None, 4, 4, 64)          36928     \n",
      "_________________________________________________________________\n",
      "max_pooling2d_7 (MaxPooling2 (None, 2, 2, 64)          0         \n",
      "_________________________________________________________________\n",
      "flatten (Flatten)            (None, 256)               0         \n",
      "_________________________________________________________________\n",
      "dense_2 (Dense)              (None, 128)               32896     \n",
      "_________________________________________________________________\n",
      "dense_3 (Dense)              (None, 10)                1290      \n",
      "=================================================================\n",
      "Total params: 136,682\n",
      "Trainable params: 136,682\n",
      "Non-trainable params: 0\n",
      "_________________________________________________________________\n"
     ]
    }
   ],
   "source": [
    "# Define model\n",
    "model = tf.keras.models.Sequential()\n",
    "model.add(tf.keras.layers.Conv2D(filters=32, kernel_size=3, padding='same', activation='relu', input_shape=[32,32,3]))\n",
    "model.add(tf.keras.layers.Conv2D(filters=32, kernel_size=3, padding='same', activation='relu'))\n",
    "model.add(tf.keras.layers.MaxPool2D(pool_size=2, strides=2, padding='valid'))\n",
    "model.add(tf.keras.layers.Conv2D(filters=64, kernel_size=3, padding='same', activation='relu'))\n",
    "model.add(tf.keras.layers.MaxPool2D(pool_size=2, strides=2, padding='valid'))\n",
    "model.add(tf.keras.layers.Conv2D(filters=64, kernel_size=3, padding='same', activation='relu'))\n",
    "model.add(tf.keras.layers.MaxPool2D(pool_size=2, strides=2, padding='valid'))\n",
    "model.add(tf.keras.layers.Conv2D(filters=64, kernel_size=3, padding='same', activation='relu'))\n",
    "model.add(tf.keras.layers.MaxPool2D(pool_size=2, strides=2, padding='valid'))\n",
    "model.add(tf.keras.layers.Flatten())\n",
    "model.add(tf.keras.layers.Dense(units=128, activation='relu'))\n",
    "model.add(tf.keras.layers.Dense(units=10, activation='softmax'))\n",
    "model.compile(optimizer='adam', loss='sparse_categorical_crossentropy', metrics=['sparse_categorical_accuracy'])\n",
    "model.summary()"
   ]
  },
  {
   "cell_type": "code",
   "execution_count": 45,
   "metadata": {
    "colab": {
     "base_uri": "https://localhost:8080/",
     "height": 241
    },
    "colab_type": "code",
    "id": "zYfz-t6H_duq",
    "outputId": "12a1d303-0825-412f-919b-da186d2507e5"
   },
   "outputs": [
    {
     "name": "stdout",
     "output_type": "stream",
     "text": [
      "Train on 50000 samples\n",
      "Epoch 1/5\n",
      "50000/50000 [==============================] - 200s 4ms/sample - loss: 0.4542 - sparse_categorical_accuracy: 0.8410\n",
      "Epoch 2/5\n",
      "50000/50000 [==============================] - 200s 4ms/sample - loss: 0.4076 - sparse_categorical_accuracy: 0.8559\n",
      "Epoch 3/5\n",
      "50000/50000 [==============================] - 201s 4ms/sample - loss: 0.3814 - sparse_categorical_accuracy: 0.8656\n",
      "Epoch 4/5\n",
      "50000/50000 [==============================] - 201s 4ms/sample - loss: 0.3466 - sparse_categorical_accuracy: 0.8770\n",
      "Epoch 5/5\n",
      "50000/50000 [==============================] - 201s 4ms/sample - loss: 0.3131 - sparse_categorical_accuracy: 0.8896\n"
     ]
    },
    {
     "data": {
      "text/plain": [
       "<tensorflow.python.keras.callbacks.History at 0x7fd81f78cb00>"
      ]
     },
     "execution_count": 45,
     "metadata": {
      "tags": []
     },
     "output_type": "execute_result"
    }
   ],
   "source": [
    "# Train model\n",
    "model.fit(x_train, y_train, epochs=5, batch_size=128)"
   ]
  },
  {
   "cell_type": "code",
   "execution_count": 27,
   "metadata": {
    "colab": {
     "base_uri": "https://localhost:8080/",
     "height": 71
    },
    "colab_type": "code",
    "id": "9m8zSIe_HqoN",
    "outputId": "c6d24263-f404-41cd-f815-e6eb8d0420a3"
   },
   "outputs": [
    {
     "name": "stdout",
     "output_type": "stream",
     "text": [
      "10000/10000 [==============================] - 12s 1ms/sample - loss: 0.7801 - sparse_categorical_accuracy: 0.7345\n"
     ]
    },
    {
     "data": {
      "text/plain": [
       "[0.7800624543190002, 0.7345]"
      ]
     },
     "execution_count": 27,
     "metadata": {
      "tags": []
     },
     "output_type": "execute_result"
    }
   ],
   "source": [
    "# Evaluate model\n",
    "model.evaluate(x_test, y_test)"
   ]
  },
  {
   "cell_type": "code",
   "execution_count": 44,
   "metadata": {
    "colab": {
     "base_uri": "https://localhost:8080/",
     "height": 34
    },
    "colab_type": "code",
    "id": "SZhgQm0BHubo",
    "outputId": "7c1c916c-efce-42c2-cf5e-f783e5dce11c"
   },
   "outputs": [
    {
     "data": {
      "text/plain": [
       "array([3])"
      ]
     },
     "execution_count": 44,
     "metadata": {
      "tags": []
     },
     "output_type": "execute_result"
    }
   ],
   "source": [
    "# Predict sample \n",
    "model.predict_classes(np.expand_dims(x_test[0], axis=0))"
   ]
  },
  {
   "cell_type": "markdown",
   "metadata": {
    "colab_type": "text",
    "id": "eThSUv5RHMnt"
   },
   "source": [
    "# Recurrent Neural Networks"
   ]
  },
  {
   "cell_type": "markdown",
   "metadata": {
    "colab_type": "text",
    "id": "8u94SAWqIt-n"
   },
   "source": [
    "**Step1: Import modules and dataset**"
   ]
  },
  {
   "cell_type": "code",
   "execution_count": 58,
   "metadata": {
    "colab": {
     "base_uri": "https://localhost:8080/",
     "height": 71
    },
    "colab_type": "code",
    "id": "XAj0rldpHTqt",
    "outputId": "e1f6308d-9a9b-4063-e630-eacf21105d00"
   },
   "outputs": [
    {
     "data": {
      "text/plain": [
       "(25000,)"
      ]
     },
     "execution_count": 58,
     "metadata": {
      "tags": []
     },
     "output_type": "execute_result"
    },
    {
     "data": {
      "text/plain": [
       "array([list([1, 14, 22, 16, 43, 530, 973, 1622, 1385, 65, 458, 4468, 66, 3941, 4, 173, 36, 256, 5, 25, 100, 43, 838, 112, 50, 670, 2, 9, 35, 480, 284, 5, 150, 4, 172, 112, 167, 2, 336, 385, 39, 4, 172, 4536, 1111, 17, 546, 38, 13, 447, 4, 192, 50, 16, 6, 147, 2025, 19, 14, 22, 4, 1920, 4613, 469, 4, 22, 71, 87, 12, 16, 43, 530, 38, 76, 15, 13, 1247, 4, 22, 17, 515, 17, 12, 16, 626, 18, 19193, 5, 62, 386, 12, 8, 316, 8, 106, 5, 4, 2223, 5244, 16, 480, 66, 3785, 33, 4, 130, 12, 16, 38, 619, 5, 25, 124, 51, 36, 135, 48, 25, 1415, 33, 6, 22, 12, 215, 28, 77, 52, 5, 14, 407, 16, 82, 10311, 8, 4, 107, 117, 5952, 15, 256, 4, 2, 7, 3766, 5, 723, 36, 71, 43, 530, 476, 26, 400, 317, 46, 7, 4, 12118, 1029, 13, 104, 88, 4, 381, 15, 297, 98, 32, 2071, 56, 26, 141, 6, 194, 7486, 18, 4, 226, 22, 21, 134, 476, 26, 480, 5, 144, 30, 5535, 18, 51, 36, 28, 224, 92, 25, 104, 4, 226, 65, 16, 38, 1334, 88, 12, 16, 283, 5, 16, 4472, 113, 103, 32, 15, 16, 5345, 19, 178, 32])],\n",
       "      dtype=object)"
      ]
     },
     "execution_count": 58,
     "metadata": {
      "tags": []
     },
     "output_type": "execute_result"
    }
   ],
   "source": [
    "import tensorflow as tf\n",
    "from tensorflow.keras.datasets import imdb\n",
    "\n",
    "nb_of_words = 20000\n",
    "(x_train, y_train), (x_test, y_test) = imdb.load_data(num_words=nb_of_words)\n",
    "\n",
    "x_train.shape\n",
    "x_train[:1]"
   ]
  },
  {
   "cell_type": "markdown",
   "metadata": {
    "colab_type": "text",
    "id": "qSghBTU0JRJh"
   },
   "source": []
  },
  {
   "cell_type": "markdown",
   "metadata": {
    "colab_type": "text",
    "id": "0tguXWMiI-oQ"
   },
   "source": [
    "**Step2: Preprocessing**"
   ]
  },
  {
   "cell_type": "code",
   "execution_count": 59,
   "metadata": {
    "colab": {
     "base_uri": "https://localhost:8080/",
     "height": 221
    },
    "colab_type": "code",
    "id": "3UebmtSwI61y",
    "outputId": "4f3e41f0-92c6-4b46-9d7c-490ee0920a7a"
   },
   "outputs": [
    {
     "data": {
      "text/plain": [
       "array([  163,    11,  3215, 10156,     4,  1153,     9,   194,   775,\n",
       "           7,  8255, 11596,   349,  2637,   148,   605, 15358,  8003,\n",
       "          15,   123,   125,    68,     2,  6853,    15,   349,   165,\n",
       "        4362,    98,     5,     4,   228,     9,    43,     2,  1157,\n",
       "          15,   299,   120,     5,   120,   174,    11,   220,   175,\n",
       "         136,    50,     9,  4373,   228,  8255,     5,     2,   656,\n",
       "         245,  2350,     5,     4,  9837,   131,   152,   491,    18,\n",
       "           2,    32,  7464,  1212,    14,     9,     6,   371,    78,\n",
       "          22,   625,    64,  1382,     9,     8,   168,   145,    23,\n",
       "           4,  1690,    15,    16,     4,  1355,     5,    28,     6,\n",
       "          52,   154,   462,    33,    89,    78,   285,    16,   145,\n",
       "          95], dtype=int32)"
      ]
     },
     "execution_count": 59,
     "metadata": {
      "tags": []
     },
     "output_type": "execute_result"
    }
   ],
   "source": [
    "# Define dataset parameters\n",
    "max_len = 100\n",
    "\n",
    "# Padd sequences to make same length\n",
    "x_train = tf.keras.preprocessing.sequence.pad_sequences(x_train, maxlen=max_len)\n",
    "x_test = tf.keras.preprocessing.sequence.pad_sequences(x_test, maxlen=max_len)\n",
    "\n",
    "x_train[1]"
   ]
  },
  {
   "cell_type": "markdown",
   "metadata": {
    "colab_type": "text",
    "id": "4-40bnnSLYFK"
   },
   "source": [
    "**Step3: Build RNN**"
   ]
  },
  {
   "cell_type": "code",
   "execution_count": 60,
   "metadata": {
    "colab": {
     "base_uri": "https://localhost:8080/",
     "height": 255
    },
    "colab_type": "code",
    "id": "q76xz6ylJGxn",
    "outputId": "a94b7d3d-897e-4fd3-95b8-411392f6523a"
   },
   "outputs": [
    {
     "name": "stdout",
     "output_type": "stream",
     "text": [
      "Model: \"sequential_6\"\n",
      "_________________________________________________________________\n",
      "Layer (type)                 Output Shape              Param #   \n",
      "=================================================================\n",
      "embedding (Embedding)        (None, 100, 128)          2560000   \n",
      "_________________________________________________________________\n",
      "lstm (LSTM)                  (None, 128)               131584    \n",
      "_________________________________________________________________\n",
      "dense_4 (Dense)              (None, 1)                 129       \n",
      "=================================================================\n",
      "Total params: 2,691,713\n",
      "Trainable params: 2,691,713\n",
      "Non-trainable params: 0\n",
      "_________________________________________________________________\n"
     ]
    }
   ],
   "source": [
    "# Define model\n",
    "model = tf.keras.models.Sequential()\n",
    "model.add(tf.keras.layers.Embedding(input_dim=nb_of_words, output_dim=128, input_shape=(x_train.shape[1],)))\n",
    "model.add(tf.keras.layers.LSTM(units=128, activation='tanh'))\n",
    "model.add(tf.keras.layers.Dense(units=1, activation='sigmoid'))\n",
    "model.compile(optimizer='rmsprop', loss='binary_crossentropy', metrics=['accuracy'])\n",
    "model.summary()"
   ]
  },
  {
   "cell_type": "code",
   "execution_count": 61,
   "metadata": {
    "colab": {
     "base_uri": "https://localhost:8080/",
     "height": 88
    },
    "colab_type": "code",
    "id": "jCSFYBFZQfyl",
    "outputId": "75396a47-803e-48af-b786-cbcf1ba919d9"
   },
   "outputs": [
    {
     "name": "stdout",
     "output_type": "stream",
     "text": [
      "Train on 25000 samples\n",
      "25000/25000 [==============================] - 173s 7ms/sample - loss: 0.4203 - accuracy: 0.8143\n"
     ]
    },
    {
     "data": {
      "text/plain": [
       "<tensorflow.python.keras.callbacks.History at 0x7fd8011d1cf8>"
      ]
     },
     "execution_count": 61,
     "metadata": {
      "tags": []
     },
     "output_type": "execute_result"
    }
   ],
   "source": [
    "# Train model\n",
    "model.fit(x_train, y_train, epochs=1, batch_size=128)"
   ]
  },
  {
   "cell_type": "code",
   "execution_count": 63,
   "metadata": {
    "colab": {
     "base_uri": "https://localhost:8080/",
     "height": 71
    },
    "colab_type": "code",
    "id": "UBM9cmtzP7w3",
    "outputId": "62fb8459-e94d-4cff-cb87-86acbd29817a"
   },
   "outputs": [
    {
     "name": "stdout",
     "output_type": "stream",
     "text": [
      "25000/25000 [==============================] - 67s 3ms/sample - loss: 0.5048 - accuracy: 0.8198\n"
     ]
    },
    {
     "data": {
      "text/plain": [
       "[0.5048235824823379, 0.81984]"
      ]
     },
     "execution_count": 63,
     "metadata": {
      "tags": []
     },
     "output_type": "execute_result"
    }
   ],
   "source": [
    "# Evalulate model\n",
    "model.evaluate(x_test, y_test)"
   ]
  },
  {
   "cell_type": "code",
   "execution_count": 66,
   "metadata": {
    "colab": {
     "base_uri": "https://localhost:8080/",
     "height": 34
    },
    "colab_type": "code",
    "id": "HWN7MnzrQqiZ",
    "outputId": "68de4390-6692-40c5-a1b1-785edefc4567"
   },
   "outputs": [
    {
     "data": {
      "text/plain": [
       "array([[1]], dtype=int32)"
      ]
     },
     "execution_count": 66,
     "metadata": {
      "tags": []
     },
     "output_type": "execute_result"
    }
   ],
   "source": [
    "# Predict result\n",
    "model.predict_classes(x_test[:1])"
   ]
  },
  {
   "cell_type": "markdown",
   "metadata": {
    "colab_type": "text",
    "id": "95xhH6dETill"
   },
   "source": [
    "# Transfer Learning"
   ]
  },
  {
   "cell_type": "markdown",
   "metadata": {
    "colab_type": "text",
    "id": "CIAIvUvPTqVG"
   },
   "source": [
    "**Step1: Import modules and datasets**"
   ]
  },
  {
   "cell_type": "code",
   "execution_count": 12,
   "metadata": {
    "colab": {
     "base_uri": "https://localhost:8080/",
     "height": 34
    },
    "colab_type": "code",
    "id": "fcovzGNgTnsc",
    "outputId": "f6fcd632-6e9a-474c-cbd4-ba5288aa43ee"
   },
   "outputs": [
    {
     "name": "stdout",
     "output_type": "stream",
     "text": [
      "2.0.0-beta1\n"
     ]
    }
   ],
   "source": [
    "# Go to Edit -> Notebook Settings -> hardware acceleartor and select GPU\n",
    "import tensorflow as tf\n",
    "print(tf.__version__)\n",
    "tf.test.is_gpu_available()\n",
    "\n",
    "from tqdm import tqdm_notebook\n",
    "import os\n",
    "import zipfile\n",
    "import numpy as np\n",
    "import matplotlib.pyplot as plt\n",
    "\n",
    "from tensorflow.keras.preprocessing.image import ImageDataGenerator"
   ]
  },
  {
   "cell_type": "code",
   "execution_count": 2,
   "metadata": {
    "colab": {
     "base_uri": "https://localhost:8080/",
     "height": 224
    },
    "colab_type": "code",
    "id": "86RRk8bTUQ3b",
    "outputId": "edf95236-bf36-4cdc-c074-e26e8ea3cecc"
   },
   "outputs": [
    {
     "name": "stdout",
     "output_type": "stream",
     "text": [
      "--2019-06-25 19:34:26--  https://storage.googleapis.com/mledu-datasets/cats_and_dogs_filtered.zip\n",
      "Resolving storage.googleapis.com (storage.googleapis.com)... 74.125.129.128, 2607:f8b0:4001:c1d::80\n",
      "Connecting to storage.googleapis.com (storage.googleapis.com)|74.125.129.128|:443... connected.\n",
      "HTTP request sent, awaiting response... 200 OK\n",
      "Length: 68606236 (65M) [application/zip]\n",
      "Saving to: ‘./cats_and_dogs_filtered.zip’\n",
      "\n",
      "./cats_and_dogs_fil 100%[===================>]  65.43M   172MB/s    in 0.4s    \n",
      "\n",
      "2019-06-25 19:34:27 (172 MB/s) - ‘./cats_and_dogs_filtered.zip’ saved [68606236/68606236]\n",
      "\n"
     ]
    }
   ],
   "source": [
    "# Download dataset\n",
    "!wget --no-check-certificate \\\n",
    "      https://storage.googleapis.com/mledu-datasets/cats_and_dogs_filtered.zip \\\n",
    "      -O ./cats_and_dogs_filtered.zip"
   ]
  },
  {
   "cell_type": "code",
   "execution_count": 0,
   "metadata": {
    "colab": {},
    "colab_type": "code",
    "id": "4n_kVI1Eth9H"
   },
   "outputs": [],
   "source": [
    "# Extract dataset\n",
    "zip_path = './cats_and_dogs_filtered.zip'\n",
    "zip_object = zipfile.ZipFile(zip_path, 'r')\n",
    "zip_object.extractall('./')\n",
    "zip_object.close()\n",
    "\n",
    "# Delete zip file\n",
    "os.remove(zip_path)"
   ]
  },
  {
   "cell_type": "code",
   "execution_count": 0,
   "metadata": {
    "colab": {},
    "colab_type": "code",
    "id": "SxPsw9L3uz0k"
   },
   "outputs": [],
   "source": [
    "# Test and train \n",
    "dataset_path = './cats_and_dogs_filtered/'\n",
    "train_dir = os.path.join(dataset_path, \"train\")\n",
    "validation_dir = os.path.join(dataset_path, \"validation\")"
   ]
  },
  {
   "cell_type": "markdown",
   "metadata": {
    "colab_type": "text",
    "id": "BIa0NW2bwFQQ"
   },
   "source": [
    "**Step2: Preprocessing**"
   ]
  },
  {
   "cell_type": "code",
   "execution_count": 34,
   "metadata": {
    "colab": {
     "base_uri": "https://localhost:8080/",
     "height": 51
    },
    "colab_type": "code",
    "id": "pdCmar9Gv_qW",
    "outputId": "2f9bb33c-9f7c-4434-b876-3d2bd670a13a"
   },
   "outputs": [
    {
     "name": "stdout",
     "output_type": "stream",
     "text": [
      "Found 2000 images belonging to 2 classes.\n",
      "Found 1000 images belonging to 2 classes.\n"
     ]
    }
   ],
   "source": [
    "IMG_SHAPE=[128,128,3]\n",
    "\n",
    "# Create data generator\n",
    "train_gen = ImageDataGenerator(rescale=1/255.)\n",
    "valid_gen = ImageDataGenerator(rescale=1/255.)\n",
    "\n",
    "train_gen = train_gen.flow_from_directory(train_dir,\n",
    "                                                    target_size=(128,128),\n",
    "                                                    batch_size=128,\n",
    "                                                    class_mode='binary')\n",
    "\n",
    "valid_gen = valid_gen.flow_from_directory(validation_dir,\n",
    "                                                    target_size=(128,128),\n",
    "                                                    batch_size=128,\n",
    "                                                    class_mode='binary')"
   ]
  },
  {
   "cell_type": "markdown",
   "metadata": {
    "colab_type": "text",
    "id": "kPJpQCJEwe1l"
   },
   "source": [
    "**Step3: Apply Transfer learning and build model on top**"
   ]
  },
  {
   "cell_type": "code",
   "execution_count": 13,
   "metadata": {
    "colab": {
     "base_uri": "https://localhost:8080/",
     "height": 1000
    },
    "colab_type": "code",
    "id": "w9VK3CITwqNl",
    "outputId": "990a5124-eeb9-44d8-8877-860284e117b2"
   },
   "outputs": [
    {
     "name": "stdout",
     "output_type": "stream",
     "text": [
      "Model: \"mobilenetv2_1.00_128\"\n",
      "__________________________________________________________________________________________________\n",
      "Layer (type)                    Output Shape         Param #     Connected to                     \n",
      "==================================================================================================\n",
      "input_2 (InputLayer)            [(None, 128, 128, 3) 0                                            \n",
      "__________________________________________________________________________________________________\n",
      "Conv1_pad (ZeroPadding2D)       (None, 129, 129, 3)  0           input_2[0][0]                    \n",
      "__________________________________________________________________________________________________\n",
      "Conv1 (Conv2D)                  (None, 64, 64, 32)   864         Conv1_pad[0][0]                  \n",
      "__________________________________________________________________________________________________\n",
      "bn_Conv1 (BatchNormalization)   (None, 64, 64, 32)   128         Conv1[0][0]                      \n",
      "__________________________________________________________________________________________________\n",
      "Conv1_relu (ReLU)               (None, 64, 64, 32)   0           bn_Conv1[0][0]                   \n",
      "__________________________________________________________________________________________________\n",
      "expanded_conv_depthwise (Depthw (None, 64, 64, 32)   288         Conv1_relu[0][0]                 \n",
      "__________________________________________________________________________________________________\n",
      "expanded_conv_depthwise_BN (Bat (None, 64, 64, 32)   128         expanded_conv_depthwise[0][0]    \n",
      "__________________________________________________________________________________________________\n",
      "expanded_conv_depthwise_relu (R (None, 64, 64, 32)   0           expanded_conv_depthwise_BN[0][0] \n",
      "__________________________________________________________________________________________________\n",
      "expanded_conv_project (Conv2D)  (None, 64, 64, 16)   512         expanded_conv_depthwise_relu[0][0\n",
      "__________________________________________________________________________________________________\n",
      "expanded_conv_project_BN (Batch (None, 64, 64, 16)   64          expanded_conv_project[0][0]      \n",
      "__________________________________________________________________________________________________\n",
      "block_1_expand (Conv2D)         (None, 64, 64, 96)   1536        expanded_conv_project_BN[0][0]   \n",
      "__________________________________________________________________________________________________\n",
      "block_1_expand_BN (BatchNormali (None, 64, 64, 96)   384         block_1_expand[0][0]             \n",
      "__________________________________________________________________________________________________\n",
      "block_1_expand_relu (ReLU)      (None, 64, 64, 96)   0           block_1_expand_BN[0][0]          \n",
      "__________________________________________________________________________________________________\n",
      "block_1_pad (ZeroPadding2D)     (None, 65, 65, 96)   0           block_1_expand_relu[0][0]        \n",
      "__________________________________________________________________________________________________\n",
      "block_1_depthwise (DepthwiseCon (None, 32, 32, 96)   864         block_1_pad[0][0]                \n",
      "__________________________________________________________________________________________________\n",
      "block_1_depthwise_BN (BatchNorm (None, 32, 32, 96)   384         block_1_depthwise[0][0]          \n",
      "__________________________________________________________________________________________________\n",
      "block_1_depthwise_relu (ReLU)   (None, 32, 32, 96)   0           block_1_depthwise_BN[0][0]       \n",
      "__________________________________________________________________________________________________\n",
      "block_1_project (Conv2D)        (None, 32, 32, 24)   2304        block_1_depthwise_relu[0][0]     \n",
      "__________________________________________________________________________________________________\n",
      "block_1_project_BN (BatchNormal (None, 32, 32, 24)   96          block_1_project[0][0]            \n",
      "__________________________________________________________________________________________________\n",
      "block_2_expand (Conv2D)         (None, 32, 32, 144)  3456        block_1_project_BN[0][0]         \n",
      "__________________________________________________________________________________________________\n",
      "block_2_expand_BN (BatchNormali (None, 32, 32, 144)  576         block_2_expand[0][0]             \n",
      "__________________________________________________________________________________________________\n",
      "block_2_expand_relu (ReLU)      (None, 32, 32, 144)  0           block_2_expand_BN[0][0]          \n",
      "__________________________________________________________________________________________________\n",
      "block_2_depthwise (DepthwiseCon (None, 32, 32, 144)  1296        block_2_expand_relu[0][0]        \n",
      "__________________________________________________________________________________________________\n",
      "block_2_depthwise_BN (BatchNorm (None, 32, 32, 144)  576         block_2_depthwise[0][0]          \n",
      "__________________________________________________________________________________________________\n",
      "block_2_depthwise_relu (ReLU)   (None, 32, 32, 144)  0           block_2_depthwise_BN[0][0]       \n",
      "__________________________________________________________________________________________________\n",
      "block_2_project (Conv2D)        (None, 32, 32, 24)   3456        block_2_depthwise_relu[0][0]     \n",
      "__________________________________________________________________________________________________\n",
      "block_2_project_BN (BatchNormal (None, 32, 32, 24)   96          block_2_project[0][0]            \n",
      "__________________________________________________________________________________________________\n",
      "block_2_add (Add)               (None, 32, 32, 24)   0           block_1_project_BN[0][0]         \n",
      "                                                                 block_2_project_BN[0][0]         \n",
      "__________________________________________________________________________________________________\n",
      "block_3_expand (Conv2D)         (None, 32, 32, 144)  3456        block_2_add[0][0]                \n",
      "__________________________________________________________________________________________________\n",
      "block_3_expand_BN (BatchNormali (None, 32, 32, 144)  576         block_3_expand[0][0]             \n",
      "__________________________________________________________________________________________________\n",
      "block_3_expand_relu (ReLU)      (None, 32, 32, 144)  0           block_3_expand_BN[0][0]          \n",
      "__________________________________________________________________________________________________\n",
      "block_3_pad (ZeroPadding2D)     (None, 33, 33, 144)  0           block_3_expand_relu[0][0]        \n",
      "__________________________________________________________________________________________________\n",
      "block_3_depthwise (DepthwiseCon (None, 16, 16, 144)  1296        block_3_pad[0][0]                \n",
      "__________________________________________________________________________________________________\n",
      "block_3_depthwise_BN (BatchNorm (None, 16, 16, 144)  576         block_3_depthwise[0][0]          \n",
      "__________________________________________________________________________________________________\n",
      "block_3_depthwise_relu (ReLU)   (None, 16, 16, 144)  0           block_3_depthwise_BN[0][0]       \n",
      "__________________________________________________________________________________________________\n",
      "block_3_project (Conv2D)        (None, 16, 16, 32)   4608        block_3_depthwise_relu[0][0]     \n",
      "__________________________________________________________________________________________________\n",
      "block_3_project_BN (BatchNormal (None, 16, 16, 32)   128         block_3_project[0][0]            \n",
      "__________________________________________________________________________________________________\n",
      "block_4_expand (Conv2D)         (None, 16, 16, 192)  6144        block_3_project_BN[0][0]         \n",
      "__________________________________________________________________________________________________\n",
      "block_4_expand_BN (BatchNormali (None, 16, 16, 192)  768         block_4_expand[0][0]             \n",
      "__________________________________________________________________________________________________\n",
      "block_4_expand_relu (ReLU)      (None, 16, 16, 192)  0           block_4_expand_BN[0][0]          \n",
      "__________________________________________________________________________________________________\n",
      "block_4_depthwise (DepthwiseCon (None, 16, 16, 192)  1728        block_4_expand_relu[0][0]        \n",
      "__________________________________________________________________________________________________\n",
      "block_4_depthwise_BN (BatchNorm (None, 16, 16, 192)  768         block_4_depthwise[0][0]          \n",
      "__________________________________________________________________________________________________\n",
      "block_4_depthwise_relu (ReLU)   (None, 16, 16, 192)  0           block_4_depthwise_BN[0][0]       \n",
      "__________________________________________________________________________________________________\n",
      "block_4_project (Conv2D)        (None, 16, 16, 32)   6144        block_4_depthwise_relu[0][0]     \n",
      "__________________________________________________________________________________________________\n",
      "block_4_project_BN (BatchNormal (None, 16, 16, 32)   128         block_4_project[0][0]            \n",
      "__________________________________________________________________________________________________\n",
      "block_4_add (Add)               (None, 16, 16, 32)   0           block_3_project_BN[0][0]         \n",
      "                                                                 block_4_project_BN[0][0]         \n",
      "__________________________________________________________________________________________________\n",
      "block_5_expand (Conv2D)         (None, 16, 16, 192)  6144        block_4_add[0][0]                \n",
      "__________________________________________________________________________________________________\n",
      "block_5_expand_BN (BatchNormali (None, 16, 16, 192)  768         block_5_expand[0][0]             \n",
      "__________________________________________________________________________________________________\n",
      "block_5_expand_relu (ReLU)      (None, 16, 16, 192)  0           block_5_expand_BN[0][0]          \n",
      "__________________________________________________________________________________________________\n",
      "block_5_depthwise (DepthwiseCon (None, 16, 16, 192)  1728        block_5_expand_relu[0][0]        \n",
      "__________________________________________________________________________________________________\n",
      "block_5_depthwise_BN (BatchNorm (None, 16, 16, 192)  768         block_5_depthwise[0][0]          \n",
      "__________________________________________________________________________________________________\n",
      "block_5_depthwise_relu (ReLU)   (None, 16, 16, 192)  0           block_5_depthwise_BN[0][0]       \n",
      "__________________________________________________________________________________________________\n",
      "block_5_project (Conv2D)        (None, 16, 16, 32)   6144        block_5_depthwise_relu[0][0]     \n",
      "__________________________________________________________________________________________________\n",
      "block_5_project_BN (BatchNormal (None, 16, 16, 32)   128         block_5_project[0][0]            \n",
      "__________________________________________________________________________________________________\n",
      "block_5_add (Add)               (None, 16, 16, 32)   0           block_4_add[0][0]                \n",
      "                                                                 block_5_project_BN[0][0]         \n",
      "__________________________________________________________________________________________________\n",
      "block_6_expand (Conv2D)         (None, 16, 16, 192)  6144        block_5_add[0][0]                \n",
      "__________________________________________________________________________________________________\n",
      "block_6_expand_BN (BatchNormali (None, 16, 16, 192)  768         block_6_expand[0][0]             \n",
      "__________________________________________________________________________________________________\n",
      "block_6_expand_relu (ReLU)      (None, 16, 16, 192)  0           block_6_expand_BN[0][0]          \n",
      "__________________________________________________________________________________________________\n",
      "block_6_pad (ZeroPadding2D)     (None, 17, 17, 192)  0           block_6_expand_relu[0][0]        \n",
      "__________________________________________________________________________________________________\n",
      "block_6_depthwise (DepthwiseCon (None, 8, 8, 192)    1728        block_6_pad[0][0]                \n",
      "__________________________________________________________________________________________________\n",
      "block_6_depthwise_BN (BatchNorm (None, 8, 8, 192)    768         block_6_depthwise[0][0]          \n",
      "__________________________________________________________________________________________________\n",
      "block_6_depthwise_relu (ReLU)   (None, 8, 8, 192)    0           block_6_depthwise_BN[0][0]       \n",
      "__________________________________________________________________________________________________\n",
      "block_6_project (Conv2D)        (None, 8, 8, 64)     12288       block_6_depthwise_relu[0][0]     \n",
      "__________________________________________________________________________________________________\n",
      "block_6_project_BN (BatchNormal (None, 8, 8, 64)     256         block_6_project[0][0]            \n",
      "__________________________________________________________________________________________________\n",
      "block_7_expand (Conv2D)         (None, 8, 8, 384)    24576       block_6_project_BN[0][0]         \n",
      "__________________________________________________________________________________________________\n",
      "block_7_expand_BN (BatchNormali (None, 8, 8, 384)    1536        block_7_expand[0][0]             \n",
      "__________________________________________________________________________________________________\n",
      "block_7_expand_relu (ReLU)      (None, 8, 8, 384)    0           block_7_expand_BN[0][0]          \n",
      "__________________________________________________________________________________________________\n",
      "block_7_depthwise (DepthwiseCon (None, 8, 8, 384)    3456        block_7_expand_relu[0][0]        \n",
      "__________________________________________________________________________________________________\n",
      "block_7_depthwise_BN (BatchNorm (None, 8, 8, 384)    1536        block_7_depthwise[0][0]          \n",
      "__________________________________________________________________________________________________\n",
      "block_7_depthwise_relu (ReLU)   (None, 8, 8, 384)    0           block_7_depthwise_BN[0][0]       \n",
      "__________________________________________________________________________________________________\n",
      "block_7_project (Conv2D)        (None, 8, 8, 64)     24576       block_7_depthwise_relu[0][0]     \n",
      "__________________________________________________________________________________________________\n",
      "block_7_project_BN (BatchNormal (None, 8, 8, 64)     256         block_7_project[0][0]            \n",
      "__________________________________________________________________________________________________\n",
      "block_7_add (Add)               (None, 8, 8, 64)     0           block_6_project_BN[0][0]         \n",
      "                                                                 block_7_project_BN[0][0]         \n",
      "__________________________________________________________________________________________________\n",
      "block_8_expand (Conv2D)         (None, 8, 8, 384)    24576       block_7_add[0][0]                \n",
      "__________________________________________________________________________________________________\n",
      "block_8_expand_BN (BatchNormali (None, 8, 8, 384)    1536        block_8_expand[0][0]             \n",
      "__________________________________________________________________________________________________\n",
      "block_8_expand_relu (ReLU)      (None, 8, 8, 384)    0           block_8_expand_BN[0][0]          \n",
      "__________________________________________________________________________________________________\n",
      "block_8_depthwise (DepthwiseCon (None, 8, 8, 384)    3456        block_8_expand_relu[0][0]        \n",
      "__________________________________________________________________________________________________\n",
      "block_8_depthwise_BN (BatchNorm (None, 8, 8, 384)    1536        block_8_depthwise[0][0]          \n",
      "__________________________________________________________________________________________________\n",
      "block_8_depthwise_relu (ReLU)   (None, 8, 8, 384)    0           block_8_depthwise_BN[0][0]       \n",
      "__________________________________________________________________________________________________\n",
      "block_8_project (Conv2D)        (None, 8, 8, 64)     24576       block_8_depthwise_relu[0][0]     \n",
      "__________________________________________________________________________________________________\n",
      "block_8_project_BN (BatchNormal (None, 8, 8, 64)     256         block_8_project[0][0]            \n",
      "__________________________________________________________________________________________________\n",
      "block_8_add (Add)               (None, 8, 8, 64)     0           block_7_add[0][0]                \n",
      "                                                                 block_8_project_BN[0][0]         \n",
      "__________________________________________________________________________________________________\n",
      "block_9_expand (Conv2D)         (None, 8, 8, 384)    24576       block_8_add[0][0]                \n",
      "__________________________________________________________________________________________________\n",
      "block_9_expand_BN (BatchNormali (None, 8, 8, 384)    1536        block_9_expand[0][0]             \n",
      "__________________________________________________________________________________________________\n",
      "block_9_expand_relu (ReLU)      (None, 8, 8, 384)    0           block_9_expand_BN[0][0]          \n",
      "__________________________________________________________________________________________________\n",
      "block_9_depthwise (DepthwiseCon (None, 8, 8, 384)    3456        block_9_expand_relu[0][0]        \n",
      "__________________________________________________________________________________________________\n",
      "block_9_depthwise_BN (BatchNorm (None, 8, 8, 384)    1536        block_9_depthwise[0][0]          \n",
      "__________________________________________________________________________________________________\n",
      "block_9_depthwise_relu (ReLU)   (None, 8, 8, 384)    0           block_9_depthwise_BN[0][0]       \n",
      "__________________________________________________________________________________________________\n",
      "block_9_project (Conv2D)        (None, 8, 8, 64)     24576       block_9_depthwise_relu[0][0]     \n",
      "__________________________________________________________________________________________________\n",
      "block_9_project_BN (BatchNormal (None, 8, 8, 64)     256         block_9_project[0][0]            \n",
      "__________________________________________________________________________________________________\n",
      "block_9_add (Add)               (None, 8, 8, 64)     0           block_8_add[0][0]                \n",
      "                                                                 block_9_project_BN[0][0]         \n",
      "__________________________________________________________________________________________________\n",
      "block_10_expand (Conv2D)        (None, 8, 8, 384)    24576       block_9_add[0][0]                \n",
      "__________________________________________________________________________________________________\n",
      "block_10_expand_BN (BatchNormal (None, 8, 8, 384)    1536        block_10_expand[0][0]            \n",
      "__________________________________________________________________________________________________\n",
      "block_10_expand_relu (ReLU)     (None, 8, 8, 384)    0           block_10_expand_BN[0][0]         \n",
      "__________________________________________________________________________________________________\n",
      "block_10_depthwise (DepthwiseCo (None, 8, 8, 384)    3456        block_10_expand_relu[0][0]       \n",
      "__________________________________________________________________________________________________\n",
      "block_10_depthwise_BN (BatchNor (None, 8, 8, 384)    1536        block_10_depthwise[0][0]         \n",
      "__________________________________________________________________________________________________\n",
      "block_10_depthwise_relu (ReLU)  (None, 8, 8, 384)    0           block_10_depthwise_BN[0][0]      \n",
      "__________________________________________________________________________________________________\n",
      "block_10_project (Conv2D)       (None, 8, 8, 96)     36864       block_10_depthwise_relu[0][0]    \n",
      "__________________________________________________________________________________________________\n",
      "block_10_project_BN (BatchNorma (None, 8, 8, 96)     384         block_10_project[0][0]           \n",
      "__________________________________________________________________________________________________\n",
      "block_11_expand (Conv2D)        (None, 8, 8, 576)    55296       block_10_project_BN[0][0]        \n",
      "__________________________________________________________________________________________________\n",
      "block_11_expand_BN (BatchNormal (None, 8, 8, 576)    2304        block_11_expand[0][0]            \n",
      "__________________________________________________________________________________________________\n",
      "block_11_expand_relu (ReLU)     (None, 8, 8, 576)    0           block_11_expand_BN[0][0]         \n",
      "__________________________________________________________________________________________________\n",
      "block_11_depthwise (DepthwiseCo (None, 8, 8, 576)    5184        block_11_expand_relu[0][0]       \n",
      "__________________________________________________________________________________________________\n",
      "block_11_depthwise_BN (BatchNor (None, 8, 8, 576)    2304        block_11_depthwise[0][0]         \n",
      "__________________________________________________________________________________________________\n",
      "block_11_depthwise_relu (ReLU)  (None, 8, 8, 576)    0           block_11_depthwise_BN[0][0]      \n",
      "__________________________________________________________________________________________________\n",
      "block_11_project (Conv2D)       (None, 8, 8, 96)     55296       block_11_depthwise_relu[0][0]    \n",
      "__________________________________________________________________________________________________\n",
      "block_11_project_BN (BatchNorma (None, 8, 8, 96)     384         block_11_project[0][0]           \n",
      "__________________________________________________________________________________________________\n",
      "block_11_add (Add)              (None, 8, 8, 96)     0           block_10_project_BN[0][0]        \n",
      "                                                                 block_11_project_BN[0][0]        \n",
      "__________________________________________________________________________________________________\n",
      "block_12_expand (Conv2D)        (None, 8, 8, 576)    55296       block_11_add[0][0]               \n",
      "__________________________________________________________________________________________________\n",
      "block_12_expand_BN (BatchNormal (None, 8, 8, 576)    2304        block_12_expand[0][0]            \n",
      "__________________________________________________________________________________________________\n",
      "block_12_expand_relu (ReLU)     (None, 8, 8, 576)    0           block_12_expand_BN[0][0]         \n",
      "__________________________________________________________________________________________________\n",
      "block_12_depthwise (DepthwiseCo (None, 8, 8, 576)    5184        block_12_expand_relu[0][0]       \n",
      "__________________________________________________________________________________________________\n",
      "block_12_depthwise_BN (BatchNor (None, 8, 8, 576)    2304        block_12_depthwise[0][0]         \n",
      "__________________________________________________________________________________________________\n",
      "block_12_depthwise_relu (ReLU)  (None, 8, 8, 576)    0           block_12_depthwise_BN[0][0]      \n",
      "__________________________________________________________________________________________________\n",
      "block_12_project (Conv2D)       (None, 8, 8, 96)     55296       block_12_depthwise_relu[0][0]    \n",
      "__________________________________________________________________________________________________\n",
      "block_12_project_BN (BatchNorma (None, 8, 8, 96)     384         block_12_project[0][0]           \n",
      "__________________________________________________________________________________________________\n",
      "block_12_add (Add)              (None, 8, 8, 96)     0           block_11_add[0][0]               \n",
      "                                                                 block_12_project_BN[0][0]        \n",
      "__________________________________________________________________________________________________\n",
      "block_13_expand (Conv2D)        (None, 8, 8, 576)    55296       block_12_add[0][0]               \n",
      "__________________________________________________________________________________________________\n",
      "block_13_expand_BN (BatchNormal (None, 8, 8, 576)    2304        block_13_expand[0][0]            \n",
      "__________________________________________________________________________________________________\n",
      "block_13_expand_relu (ReLU)     (None, 8, 8, 576)    0           block_13_expand_BN[0][0]         \n",
      "__________________________________________________________________________________________________\n",
      "block_13_pad (ZeroPadding2D)    (None, 9, 9, 576)    0           block_13_expand_relu[0][0]       \n",
      "__________________________________________________________________________________________________\n",
      "block_13_depthwise (DepthwiseCo (None, 4, 4, 576)    5184        block_13_pad[0][0]               \n",
      "__________________________________________________________________________________________________\n",
      "block_13_depthwise_BN (BatchNor (None, 4, 4, 576)    2304        block_13_depthwise[0][0]         \n",
      "__________________________________________________________________________________________________\n",
      "block_13_depthwise_relu (ReLU)  (None, 4, 4, 576)    0           block_13_depthwise_BN[0][0]      \n",
      "__________________________________________________________________________________________________\n",
      "block_13_project (Conv2D)       (None, 4, 4, 160)    92160       block_13_depthwise_relu[0][0]    \n",
      "__________________________________________________________________________________________________\n",
      "block_13_project_BN (BatchNorma (None, 4, 4, 160)    640         block_13_project[0][0]           \n",
      "__________________________________________________________________________________________________\n",
      "block_14_expand (Conv2D)        (None, 4, 4, 960)    153600      block_13_project_BN[0][0]        \n",
      "__________________________________________________________________________________________________\n",
      "block_14_expand_BN (BatchNormal (None, 4, 4, 960)    3840        block_14_expand[0][0]            \n",
      "__________________________________________________________________________________________________\n",
      "block_14_expand_relu (ReLU)     (None, 4, 4, 960)    0           block_14_expand_BN[0][0]         \n",
      "__________________________________________________________________________________________________\n",
      "block_14_depthwise (DepthwiseCo (None, 4, 4, 960)    8640        block_14_expand_relu[0][0]       \n",
      "__________________________________________________________________________________________________\n",
      "block_14_depthwise_BN (BatchNor (None, 4, 4, 960)    3840        block_14_depthwise[0][0]         \n",
      "__________________________________________________________________________________________________\n",
      "block_14_depthwise_relu (ReLU)  (None, 4, 4, 960)    0           block_14_depthwise_BN[0][0]      \n",
      "__________________________________________________________________________________________________\n",
      "block_14_project (Conv2D)       (None, 4, 4, 160)    153600      block_14_depthwise_relu[0][0]    \n",
      "__________________________________________________________________________________________________\n",
      "block_14_project_BN (BatchNorma (None, 4, 4, 160)    640         block_14_project[0][0]           \n",
      "__________________________________________________________________________________________________\n",
      "block_14_add (Add)              (None, 4, 4, 160)    0           block_13_project_BN[0][0]        \n",
      "                                                                 block_14_project_BN[0][0]        \n",
      "__________________________________________________________________________________________________\n",
      "block_15_expand (Conv2D)        (None, 4, 4, 960)    153600      block_14_add[0][0]               \n",
      "__________________________________________________________________________________________________\n",
      "block_15_expand_BN (BatchNormal (None, 4, 4, 960)    3840        block_15_expand[0][0]            \n",
      "__________________________________________________________________________________________________\n",
      "block_15_expand_relu (ReLU)     (None, 4, 4, 960)    0           block_15_expand_BN[0][0]         \n",
      "__________________________________________________________________________________________________\n",
      "block_15_depthwise (DepthwiseCo (None, 4, 4, 960)    8640        block_15_expand_relu[0][0]       \n",
      "__________________________________________________________________________________________________\n",
      "block_15_depthwise_BN (BatchNor (None, 4, 4, 960)    3840        block_15_depthwise[0][0]         \n",
      "__________________________________________________________________________________________________\n",
      "block_15_depthwise_relu (ReLU)  (None, 4, 4, 960)    0           block_15_depthwise_BN[0][0]      \n",
      "__________________________________________________________________________________________________\n",
      "block_15_project (Conv2D)       (None, 4, 4, 160)    153600      block_15_depthwise_relu[0][0]    \n",
      "__________________________________________________________________________________________________\n",
      "block_15_project_BN (BatchNorma (None, 4, 4, 160)    640         block_15_project[0][0]           \n",
      "__________________________________________________________________________________________________\n",
      "block_15_add (Add)              (None, 4, 4, 160)    0           block_14_add[0][0]               \n",
      "                                                                 block_15_project_BN[0][0]        \n",
      "__________________________________________________________________________________________________\n",
      "block_16_expand (Conv2D)        (None, 4, 4, 960)    153600      block_15_add[0][0]               \n",
      "__________________________________________________________________________________________________\n",
      "block_16_expand_BN (BatchNormal (None, 4, 4, 960)    3840        block_16_expand[0][0]            \n",
      "__________________________________________________________________________________________________\n",
      "block_16_expand_relu (ReLU)     (None, 4, 4, 960)    0           block_16_expand_BN[0][0]         \n",
      "__________________________________________________________________________________________________\n",
      "block_16_depthwise (DepthwiseCo (None, 4, 4, 960)    8640        block_16_expand_relu[0][0]       \n",
      "__________________________________________________________________________________________________\n",
      "block_16_depthwise_BN (BatchNor (None, 4, 4, 960)    3840        block_16_depthwise[0][0]         \n",
      "__________________________________________________________________________________________________\n",
      "block_16_depthwise_relu (ReLU)  (None, 4, 4, 960)    0           block_16_depthwise_BN[0][0]      \n",
      "__________________________________________________________________________________________________\n",
      "block_16_project (Conv2D)       (None, 4, 4, 320)    307200      block_16_depthwise_relu[0][0]    \n",
      "__________________________________________________________________________________________________\n",
      "block_16_project_BN (BatchNorma (None, 4, 4, 320)    1280        block_16_project[0][0]           \n",
      "__________________________________________________________________________________________________\n",
      "Conv_1 (Conv2D)                 (None, 4, 4, 1280)   409600      block_16_project_BN[0][0]        \n",
      "__________________________________________________________________________________________________\n",
      "Conv_1_bn (BatchNormalization)  (None, 4, 4, 1280)   5120        Conv_1[0][0]                     \n",
      "__________________________________________________________________________________________________\n",
      "out_relu (ReLU)                 (None, 4, 4, 1280)   0           Conv_1_bn[0][0]                  \n",
      "==================================================================================================\n",
      "Total params: 2,257,984\n",
      "Trainable params: 2,223,872\n",
      "Non-trainable params: 34,112\n",
      "__________________________________________________________________________________________________\n"
     ]
    }
   ],
   "source": [
    "# Load pretrained base model -  MobileNetV2\n",
    "base_model = tf.keras.applications.MobileNetV2(input_shape=IMG_SHAPE, \n",
    "                                               include_top=False,\n",
    "                                              weights='imagenet')\n",
    "\n",
    "base_model.summary()"
   ]
  },
  {
   "cell_type": "code",
   "execution_count": 14,
   "metadata": {
    "colab": {
     "base_uri": "https://localhost:8080/",
     "height": 34
    },
    "colab_type": "code",
    "id": "D3v_EJR8xb0p",
    "outputId": "490fb3f5-096f-429a-d0dc-bbda8a81a9eb"
   },
   "outputs": [
    {
     "data": {
      "text/plain": [
       "<tf.Tensor 'out_relu_1/Identity:0' shape=(None, 4, 4, 1280) dtype=float32>"
      ]
     },
     "execution_count": 14,
     "metadata": {
      "tags": []
     },
     "output_type": "execute_result"
    }
   ],
   "source": [
    "# Freezing base model\n",
    "base_model.trainable = False\n",
    "\n",
    "base_model.output"
   ]
  },
  {
   "cell_type": "code",
   "execution_count": 21,
   "metadata": {
    "colab": {
     "base_uri": "https://localhost:8080/",
     "height": 54
    },
    "colab_type": "code",
    "id": "I-9Cr92TIqLH",
    "outputId": "864860e3-772d-433a-a571-dc1e4f911d72"
   },
   "outputs": [
    {
     "data": {
      "text/plain": [
       "<tf.Tensor 'global_average_pooling2d_8/Identity:0' shape=(None, 1280) dtype=float32>"
      ]
     },
     "execution_count": 21,
     "metadata": {
      "tags": []
     },
     "output_type": "execute_result"
    }
   ],
   "source": [
    "# Define custom head for network\n",
    "global_average_layer = tf.keras.layers.GlobalAveragePooling2D()(base_model.output)\n",
    "global_average_layer"
   ]
  },
  {
   "cell_type": "code",
   "execution_count": 0,
   "metadata": {
    "colab": {},
    "colab_type": "code",
    "id": "-CUBwJ61JNU2"
   },
   "outputs": [],
   "source": [
    "# Prediction layer\n",
    "prediction_layer = tf.keras.layers.Dense(units=1, activation='sigmoid')(global_average_layer)"
   ]
  },
  {
   "cell_type": "code",
   "execution_count": 27,
   "metadata": {
    "colab": {
     "base_uri": "https://localhost:8080/",
     "height": 1000
    },
    "colab_type": "code",
    "id": "kxiHOTVTcl3O",
    "outputId": "bdcacad4-a472-4793-cf3a-f79a236367a1"
   },
   "outputs": [
    {
     "name": "stdout",
     "output_type": "stream",
     "text": [
      "Model: \"model\"\n",
      "__________________________________________________________________________________________________\n",
      "Layer (type)                    Output Shape         Param #     Connected to                     \n",
      "==================================================================================================\n",
      "input_2 (InputLayer)            [(None, 128, 128, 3) 0                                            \n",
      "__________________________________________________________________________________________________\n",
      "Conv1_pad (ZeroPadding2D)       (None, 129, 129, 3)  0           input_2[0][0]                    \n",
      "__________________________________________________________________________________________________\n",
      "Conv1 (Conv2D)                  (None, 64, 64, 32)   864         Conv1_pad[0][0]                  \n",
      "__________________________________________________________________________________________________\n",
      "bn_Conv1 (BatchNormalization)   (None, 64, 64, 32)   128         Conv1[0][0]                      \n",
      "__________________________________________________________________________________________________\n",
      "Conv1_relu (ReLU)               (None, 64, 64, 32)   0           bn_Conv1[0][0]                   \n",
      "__________________________________________________________________________________________________\n",
      "expanded_conv_depthwise (Depthw (None, 64, 64, 32)   288         Conv1_relu[0][0]                 \n",
      "__________________________________________________________________________________________________\n",
      "expanded_conv_depthwise_BN (Bat (None, 64, 64, 32)   128         expanded_conv_depthwise[0][0]    \n",
      "__________________________________________________________________________________________________\n",
      "expanded_conv_depthwise_relu (R (None, 64, 64, 32)   0           expanded_conv_depthwise_BN[0][0] \n",
      "__________________________________________________________________________________________________\n",
      "expanded_conv_project (Conv2D)  (None, 64, 64, 16)   512         expanded_conv_depthwise_relu[0][0\n",
      "__________________________________________________________________________________________________\n",
      "expanded_conv_project_BN (Batch (None, 64, 64, 16)   64          expanded_conv_project[0][0]      \n",
      "__________________________________________________________________________________________________\n",
      "block_1_expand (Conv2D)         (None, 64, 64, 96)   1536        expanded_conv_project_BN[0][0]   \n",
      "__________________________________________________________________________________________________\n",
      "block_1_expand_BN (BatchNormali (None, 64, 64, 96)   384         block_1_expand[0][0]             \n",
      "__________________________________________________________________________________________________\n",
      "block_1_expand_relu (ReLU)      (None, 64, 64, 96)   0           block_1_expand_BN[0][0]          \n",
      "__________________________________________________________________________________________________\n",
      "block_1_pad (ZeroPadding2D)     (None, 65, 65, 96)   0           block_1_expand_relu[0][0]        \n",
      "__________________________________________________________________________________________________\n",
      "block_1_depthwise (DepthwiseCon (None, 32, 32, 96)   864         block_1_pad[0][0]                \n",
      "__________________________________________________________________________________________________\n",
      "block_1_depthwise_BN (BatchNorm (None, 32, 32, 96)   384         block_1_depthwise[0][0]          \n",
      "__________________________________________________________________________________________________\n",
      "block_1_depthwise_relu (ReLU)   (None, 32, 32, 96)   0           block_1_depthwise_BN[0][0]       \n",
      "__________________________________________________________________________________________________\n",
      "block_1_project (Conv2D)        (None, 32, 32, 24)   2304        block_1_depthwise_relu[0][0]     \n",
      "__________________________________________________________________________________________________\n",
      "block_1_project_BN (BatchNormal (None, 32, 32, 24)   96          block_1_project[0][0]            \n",
      "__________________________________________________________________________________________________\n",
      "block_2_expand (Conv2D)         (None, 32, 32, 144)  3456        block_1_project_BN[0][0]         \n",
      "__________________________________________________________________________________________________\n",
      "block_2_expand_BN (BatchNormali (None, 32, 32, 144)  576         block_2_expand[0][0]             \n",
      "__________________________________________________________________________________________________\n",
      "block_2_expand_relu (ReLU)      (None, 32, 32, 144)  0           block_2_expand_BN[0][0]          \n",
      "__________________________________________________________________________________________________\n",
      "block_2_depthwise (DepthwiseCon (None, 32, 32, 144)  1296        block_2_expand_relu[0][0]        \n",
      "__________________________________________________________________________________________________\n",
      "block_2_depthwise_BN (BatchNorm (None, 32, 32, 144)  576         block_2_depthwise[0][0]          \n",
      "__________________________________________________________________________________________________\n",
      "block_2_depthwise_relu (ReLU)   (None, 32, 32, 144)  0           block_2_depthwise_BN[0][0]       \n",
      "__________________________________________________________________________________________________\n",
      "block_2_project (Conv2D)        (None, 32, 32, 24)   3456        block_2_depthwise_relu[0][0]     \n",
      "__________________________________________________________________________________________________\n",
      "block_2_project_BN (BatchNormal (None, 32, 32, 24)   96          block_2_project[0][0]            \n",
      "__________________________________________________________________________________________________\n",
      "block_2_add (Add)               (None, 32, 32, 24)   0           block_1_project_BN[0][0]         \n",
      "                                                                 block_2_project_BN[0][0]         \n",
      "__________________________________________________________________________________________________\n",
      "block_3_expand (Conv2D)         (None, 32, 32, 144)  3456        block_2_add[0][0]                \n",
      "__________________________________________________________________________________________________\n",
      "block_3_expand_BN (BatchNormali (None, 32, 32, 144)  576         block_3_expand[0][0]             \n",
      "__________________________________________________________________________________________________\n",
      "block_3_expand_relu (ReLU)      (None, 32, 32, 144)  0           block_3_expand_BN[0][0]          \n",
      "__________________________________________________________________________________________________\n",
      "block_3_pad (ZeroPadding2D)     (None, 33, 33, 144)  0           block_3_expand_relu[0][0]        \n",
      "__________________________________________________________________________________________________\n",
      "block_3_depthwise (DepthwiseCon (None, 16, 16, 144)  1296        block_3_pad[0][0]                \n",
      "__________________________________________________________________________________________________\n",
      "block_3_depthwise_BN (BatchNorm (None, 16, 16, 144)  576         block_3_depthwise[0][0]          \n",
      "__________________________________________________________________________________________________\n",
      "block_3_depthwise_relu (ReLU)   (None, 16, 16, 144)  0           block_3_depthwise_BN[0][0]       \n",
      "__________________________________________________________________________________________________\n",
      "block_3_project (Conv2D)        (None, 16, 16, 32)   4608        block_3_depthwise_relu[0][0]     \n",
      "__________________________________________________________________________________________________\n",
      "block_3_project_BN (BatchNormal (None, 16, 16, 32)   128         block_3_project[0][0]            \n",
      "__________________________________________________________________________________________________\n",
      "block_4_expand (Conv2D)         (None, 16, 16, 192)  6144        block_3_project_BN[0][0]         \n",
      "__________________________________________________________________________________________________\n",
      "block_4_expand_BN (BatchNormali (None, 16, 16, 192)  768         block_4_expand[0][0]             \n",
      "__________________________________________________________________________________________________\n",
      "block_4_expand_relu (ReLU)      (None, 16, 16, 192)  0           block_4_expand_BN[0][0]          \n",
      "__________________________________________________________________________________________________\n",
      "block_4_depthwise (DepthwiseCon (None, 16, 16, 192)  1728        block_4_expand_relu[0][0]        \n",
      "__________________________________________________________________________________________________\n",
      "block_4_depthwise_BN (BatchNorm (None, 16, 16, 192)  768         block_4_depthwise[0][0]          \n",
      "__________________________________________________________________________________________________\n",
      "block_4_depthwise_relu (ReLU)   (None, 16, 16, 192)  0           block_4_depthwise_BN[0][0]       \n",
      "__________________________________________________________________________________________________\n",
      "block_4_project (Conv2D)        (None, 16, 16, 32)   6144        block_4_depthwise_relu[0][0]     \n",
      "__________________________________________________________________________________________________\n",
      "block_4_project_BN (BatchNormal (None, 16, 16, 32)   128         block_4_project[0][0]            \n",
      "__________________________________________________________________________________________________\n",
      "block_4_add (Add)               (None, 16, 16, 32)   0           block_3_project_BN[0][0]         \n",
      "                                                                 block_4_project_BN[0][0]         \n",
      "__________________________________________________________________________________________________\n",
      "block_5_expand (Conv2D)         (None, 16, 16, 192)  6144        block_4_add[0][0]                \n",
      "__________________________________________________________________________________________________\n",
      "block_5_expand_BN (BatchNormali (None, 16, 16, 192)  768         block_5_expand[0][0]             \n",
      "__________________________________________________________________________________________________\n",
      "block_5_expand_relu (ReLU)      (None, 16, 16, 192)  0           block_5_expand_BN[0][0]          \n",
      "__________________________________________________________________________________________________\n",
      "block_5_depthwise (DepthwiseCon (None, 16, 16, 192)  1728        block_5_expand_relu[0][0]        \n",
      "__________________________________________________________________________________________________\n",
      "block_5_depthwise_BN (BatchNorm (None, 16, 16, 192)  768         block_5_depthwise[0][0]          \n",
      "__________________________________________________________________________________________________\n",
      "block_5_depthwise_relu (ReLU)   (None, 16, 16, 192)  0           block_5_depthwise_BN[0][0]       \n",
      "__________________________________________________________________________________________________\n",
      "block_5_project (Conv2D)        (None, 16, 16, 32)   6144        block_5_depthwise_relu[0][0]     \n",
      "__________________________________________________________________________________________________\n",
      "block_5_project_BN (BatchNormal (None, 16, 16, 32)   128         block_5_project[0][0]            \n",
      "__________________________________________________________________________________________________\n",
      "block_5_add (Add)               (None, 16, 16, 32)   0           block_4_add[0][0]                \n",
      "                                                                 block_5_project_BN[0][0]         \n",
      "__________________________________________________________________________________________________\n",
      "block_6_expand (Conv2D)         (None, 16, 16, 192)  6144        block_5_add[0][0]                \n",
      "__________________________________________________________________________________________________\n",
      "block_6_expand_BN (BatchNormali (None, 16, 16, 192)  768         block_6_expand[0][0]             \n",
      "__________________________________________________________________________________________________\n",
      "block_6_expand_relu (ReLU)      (None, 16, 16, 192)  0           block_6_expand_BN[0][0]          \n",
      "__________________________________________________________________________________________________\n",
      "block_6_pad (ZeroPadding2D)     (None, 17, 17, 192)  0           block_6_expand_relu[0][0]        \n",
      "__________________________________________________________________________________________________\n",
      "block_6_depthwise (DepthwiseCon (None, 8, 8, 192)    1728        block_6_pad[0][0]                \n",
      "__________________________________________________________________________________________________\n",
      "block_6_depthwise_BN (BatchNorm (None, 8, 8, 192)    768         block_6_depthwise[0][0]          \n",
      "__________________________________________________________________________________________________\n",
      "block_6_depthwise_relu (ReLU)   (None, 8, 8, 192)    0           block_6_depthwise_BN[0][0]       \n",
      "__________________________________________________________________________________________________\n",
      "block_6_project (Conv2D)        (None, 8, 8, 64)     12288       block_6_depthwise_relu[0][0]     \n",
      "__________________________________________________________________________________________________\n",
      "block_6_project_BN (BatchNormal (None, 8, 8, 64)     256         block_6_project[0][0]            \n",
      "__________________________________________________________________________________________________\n",
      "block_7_expand (Conv2D)         (None, 8, 8, 384)    24576       block_6_project_BN[0][0]         \n",
      "__________________________________________________________________________________________________\n",
      "block_7_expand_BN (BatchNormali (None, 8, 8, 384)    1536        block_7_expand[0][0]             \n",
      "__________________________________________________________________________________________________\n",
      "block_7_expand_relu (ReLU)      (None, 8, 8, 384)    0           block_7_expand_BN[0][0]          \n",
      "__________________________________________________________________________________________________\n",
      "block_7_depthwise (DepthwiseCon (None, 8, 8, 384)    3456        block_7_expand_relu[0][0]        \n",
      "__________________________________________________________________________________________________\n",
      "block_7_depthwise_BN (BatchNorm (None, 8, 8, 384)    1536        block_7_depthwise[0][0]          \n",
      "__________________________________________________________________________________________________\n",
      "block_7_depthwise_relu (ReLU)   (None, 8, 8, 384)    0           block_7_depthwise_BN[0][0]       \n",
      "__________________________________________________________________________________________________\n",
      "block_7_project (Conv2D)        (None, 8, 8, 64)     24576       block_7_depthwise_relu[0][0]     \n",
      "__________________________________________________________________________________________________\n",
      "block_7_project_BN (BatchNormal (None, 8, 8, 64)     256         block_7_project[0][0]            \n",
      "__________________________________________________________________________________________________\n",
      "block_7_add (Add)               (None, 8, 8, 64)     0           block_6_project_BN[0][0]         \n",
      "                                                                 block_7_project_BN[0][0]         \n",
      "__________________________________________________________________________________________________\n",
      "block_8_expand (Conv2D)         (None, 8, 8, 384)    24576       block_7_add[0][0]                \n",
      "__________________________________________________________________________________________________\n",
      "block_8_expand_BN (BatchNormali (None, 8, 8, 384)    1536        block_8_expand[0][0]             \n",
      "__________________________________________________________________________________________________\n",
      "block_8_expand_relu (ReLU)      (None, 8, 8, 384)    0           block_8_expand_BN[0][0]          \n",
      "__________________________________________________________________________________________________\n",
      "block_8_depthwise (DepthwiseCon (None, 8, 8, 384)    3456        block_8_expand_relu[0][0]        \n",
      "__________________________________________________________________________________________________\n",
      "block_8_depthwise_BN (BatchNorm (None, 8, 8, 384)    1536        block_8_depthwise[0][0]          \n",
      "__________________________________________________________________________________________________\n",
      "block_8_depthwise_relu (ReLU)   (None, 8, 8, 384)    0           block_8_depthwise_BN[0][0]       \n",
      "__________________________________________________________________________________________________\n",
      "block_8_project (Conv2D)        (None, 8, 8, 64)     24576       block_8_depthwise_relu[0][0]     \n",
      "__________________________________________________________________________________________________\n",
      "block_8_project_BN (BatchNormal (None, 8, 8, 64)     256         block_8_project[0][0]            \n",
      "__________________________________________________________________________________________________\n",
      "block_8_add (Add)               (None, 8, 8, 64)     0           block_7_add[0][0]                \n",
      "                                                                 block_8_project_BN[0][0]         \n",
      "__________________________________________________________________________________________________\n",
      "block_9_expand (Conv2D)         (None, 8, 8, 384)    24576       block_8_add[0][0]                \n",
      "__________________________________________________________________________________________________\n",
      "block_9_expand_BN (BatchNormali (None, 8, 8, 384)    1536        block_9_expand[0][0]             \n",
      "__________________________________________________________________________________________________\n",
      "block_9_expand_relu (ReLU)      (None, 8, 8, 384)    0           block_9_expand_BN[0][0]          \n",
      "__________________________________________________________________________________________________\n",
      "block_9_depthwise (DepthwiseCon (None, 8, 8, 384)    3456        block_9_expand_relu[0][0]        \n",
      "__________________________________________________________________________________________________\n",
      "block_9_depthwise_BN (BatchNorm (None, 8, 8, 384)    1536        block_9_depthwise[0][0]          \n",
      "__________________________________________________________________________________________________\n",
      "block_9_depthwise_relu (ReLU)   (None, 8, 8, 384)    0           block_9_depthwise_BN[0][0]       \n",
      "__________________________________________________________________________________________________\n",
      "block_9_project (Conv2D)        (None, 8, 8, 64)     24576       block_9_depthwise_relu[0][0]     \n",
      "__________________________________________________________________________________________________\n",
      "block_9_project_BN (BatchNormal (None, 8, 8, 64)     256         block_9_project[0][0]            \n",
      "__________________________________________________________________________________________________\n",
      "block_9_add (Add)               (None, 8, 8, 64)     0           block_8_add[0][0]                \n",
      "                                                                 block_9_project_BN[0][0]         \n",
      "__________________________________________________________________________________________________\n",
      "block_10_expand (Conv2D)        (None, 8, 8, 384)    24576       block_9_add[0][0]                \n",
      "__________________________________________________________________________________________________\n",
      "block_10_expand_BN (BatchNormal (None, 8, 8, 384)    1536        block_10_expand[0][0]            \n",
      "__________________________________________________________________________________________________\n",
      "block_10_expand_relu (ReLU)     (None, 8, 8, 384)    0           block_10_expand_BN[0][0]         \n",
      "__________________________________________________________________________________________________\n",
      "block_10_depthwise (DepthwiseCo (None, 8, 8, 384)    3456        block_10_expand_relu[0][0]       \n",
      "__________________________________________________________________________________________________\n",
      "block_10_depthwise_BN (BatchNor (None, 8, 8, 384)    1536        block_10_depthwise[0][0]         \n",
      "__________________________________________________________________________________________________\n",
      "block_10_depthwise_relu (ReLU)  (None, 8, 8, 384)    0           block_10_depthwise_BN[0][0]      \n",
      "__________________________________________________________________________________________________\n",
      "block_10_project (Conv2D)       (None, 8, 8, 96)     36864       block_10_depthwise_relu[0][0]    \n",
      "__________________________________________________________________________________________________\n",
      "block_10_project_BN (BatchNorma (None, 8, 8, 96)     384         block_10_project[0][0]           \n",
      "__________________________________________________________________________________________________\n",
      "block_11_expand (Conv2D)        (None, 8, 8, 576)    55296       block_10_project_BN[0][0]        \n",
      "__________________________________________________________________________________________________\n",
      "block_11_expand_BN (BatchNormal (None, 8, 8, 576)    2304        block_11_expand[0][0]            \n",
      "__________________________________________________________________________________________________\n",
      "block_11_expand_relu (ReLU)     (None, 8, 8, 576)    0           block_11_expand_BN[0][0]         \n",
      "__________________________________________________________________________________________________\n",
      "block_11_depthwise (DepthwiseCo (None, 8, 8, 576)    5184        block_11_expand_relu[0][0]       \n",
      "__________________________________________________________________________________________________\n",
      "block_11_depthwise_BN (BatchNor (None, 8, 8, 576)    2304        block_11_depthwise[0][0]         \n",
      "__________________________________________________________________________________________________\n",
      "block_11_depthwise_relu (ReLU)  (None, 8, 8, 576)    0           block_11_depthwise_BN[0][0]      \n",
      "__________________________________________________________________________________________________\n",
      "block_11_project (Conv2D)       (None, 8, 8, 96)     55296       block_11_depthwise_relu[0][0]    \n",
      "__________________________________________________________________________________________________\n",
      "block_11_project_BN (BatchNorma (None, 8, 8, 96)     384         block_11_project[0][0]           \n",
      "__________________________________________________________________________________________________\n",
      "block_11_add (Add)              (None, 8, 8, 96)     0           block_10_project_BN[0][0]        \n",
      "                                                                 block_11_project_BN[0][0]        \n",
      "__________________________________________________________________________________________________\n",
      "block_12_expand (Conv2D)        (None, 8, 8, 576)    55296       block_11_add[0][0]               \n",
      "__________________________________________________________________________________________________\n",
      "block_12_expand_BN (BatchNormal (None, 8, 8, 576)    2304        block_12_expand[0][0]            \n",
      "__________________________________________________________________________________________________\n",
      "block_12_expand_relu (ReLU)     (None, 8, 8, 576)    0           block_12_expand_BN[0][0]         \n",
      "__________________________________________________________________________________________________\n",
      "block_12_depthwise (DepthwiseCo (None, 8, 8, 576)    5184        block_12_expand_relu[0][0]       \n",
      "__________________________________________________________________________________________________\n",
      "block_12_depthwise_BN (BatchNor (None, 8, 8, 576)    2304        block_12_depthwise[0][0]         \n",
      "__________________________________________________________________________________________________\n",
      "block_12_depthwise_relu (ReLU)  (None, 8, 8, 576)    0           block_12_depthwise_BN[0][0]      \n",
      "__________________________________________________________________________________________________\n",
      "block_12_project (Conv2D)       (None, 8, 8, 96)     55296       block_12_depthwise_relu[0][0]    \n",
      "__________________________________________________________________________________________________\n",
      "block_12_project_BN (BatchNorma (None, 8, 8, 96)     384         block_12_project[0][0]           \n",
      "__________________________________________________________________________________________________\n",
      "block_12_add (Add)              (None, 8, 8, 96)     0           block_11_add[0][0]               \n",
      "                                                                 block_12_project_BN[0][0]        \n",
      "__________________________________________________________________________________________________\n",
      "block_13_expand (Conv2D)        (None, 8, 8, 576)    55296       block_12_add[0][0]               \n",
      "__________________________________________________________________________________________________\n",
      "block_13_expand_BN (BatchNormal (None, 8, 8, 576)    2304        block_13_expand[0][0]            \n",
      "__________________________________________________________________________________________________\n",
      "block_13_expand_relu (ReLU)     (None, 8, 8, 576)    0           block_13_expand_BN[0][0]         \n",
      "__________________________________________________________________________________________________\n",
      "block_13_pad (ZeroPadding2D)    (None, 9, 9, 576)    0           block_13_expand_relu[0][0]       \n",
      "__________________________________________________________________________________________________\n",
      "block_13_depthwise (DepthwiseCo (None, 4, 4, 576)    5184        block_13_pad[0][0]               \n",
      "__________________________________________________________________________________________________\n",
      "block_13_depthwise_BN (BatchNor (None, 4, 4, 576)    2304        block_13_depthwise[0][0]         \n",
      "__________________________________________________________________________________________________\n",
      "block_13_depthwise_relu (ReLU)  (None, 4, 4, 576)    0           block_13_depthwise_BN[0][0]      \n",
      "__________________________________________________________________________________________________\n",
      "block_13_project (Conv2D)       (None, 4, 4, 160)    92160       block_13_depthwise_relu[0][0]    \n",
      "__________________________________________________________________________________________________\n",
      "block_13_project_BN (BatchNorma (None, 4, 4, 160)    640         block_13_project[0][0]           \n",
      "__________________________________________________________________________________________________\n",
      "block_14_expand (Conv2D)        (None, 4, 4, 960)    153600      block_13_project_BN[0][0]        \n",
      "__________________________________________________________________________________________________\n",
      "block_14_expand_BN (BatchNormal (None, 4, 4, 960)    3840        block_14_expand[0][0]            \n",
      "__________________________________________________________________________________________________\n",
      "block_14_expand_relu (ReLU)     (None, 4, 4, 960)    0           block_14_expand_BN[0][0]         \n",
      "__________________________________________________________________________________________________\n",
      "block_14_depthwise (DepthwiseCo (None, 4, 4, 960)    8640        block_14_expand_relu[0][0]       \n",
      "__________________________________________________________________________________________________\n",
      "block_14_depthwise_BN (BatchNor (None, 4, 4, 960)    3840        block_14_depthwise[0][0]         \n",
      "__________________________________________________________________________________________________\n",
      "block_14_depthwise_relu (ReLU)  (None, 4, 4, 960)    0           block_14_depthwise_BN[0][0]      \n",
      "__________________________________________________________________________________________________\n",
      "block_14_project (Conv2D)       (None, 4, 4, 160)    153600      block_14_depthwise_relu[0][0]    \n",
      "__________________________________________________________________________________________________\n",
      "block_14_project_BN (BatchNorma (None, 4, 4, 160)    640         block_14_project[0][0]           \n",
      "__________________________________________________________________________________________________\n",
      "block_14_add (Add)              (None, 4, 4, 160)    0           block_13_project_BN[0][0]        \n",
      "                                                                 block_14_project_BN[0][0]        \n",
      "__________________________________________________________________________________________________\n",
      "block_15_expand (Conv2D)        (None, 4, 4, 960)    153600      block_14_add[0][0]               \n",
      "__________________________________________________________________________________________________\n",
      "block_15_expand_BN (BatchNormal (None, 4, 4, 960)    3840        block_15_expand[0][0]            \n",
      "__________________________________________________________________________________________________\n",
      "block_15_expand_relu (ReLU)     (None, 4, 4, 960)    0           block_15_expand_BN[0][0]         \n",
      "__________________________________________________________________________________________________\n",
      "block_15_depthwise (DepthwiseCo (None, 4, 4, 960)    8640        block_15_expand_relu[0][0]       \n",
      "__________________________________________________________________________________________________\n",
      "block_15_depthwise_BN (BatchNor (None, 4, 4, 960)    3840        block_15_depthwise[0][0]         \n",
      "__________________________________________________________________________________________________\n",
      "block_15_depthwise_relu (ReLU)  (None, 4, 4, 960)    0           block_15_depthwise_BN[0][0]      \n",
      "__________________________________________________________________________________________________\n",
      "block_15_project (Conv2D)       (None, 4, 4, 160)    153600      block_15_depthwise_relu[0][0]    \n",
      "__________________________________________________________________________________________________\n",
      "block_15_project_BN (BatchNorma (None, 4, 4, 160)    640         block_15_project[0][0]           \n",
      "__________________________________________________________________________________________________\n",
      "block_15_add (Add)              (None, 4, 4, 160)    0           block_14_add[0][0]               \n",
      "                                                                 block_15_project_BN[0][0]        \n",
      "__________________________________________________________________________________________________\n",
      "block_16_expand (Conv2D)        (None, 4, 4, 960)    153600      block_15_add[0][0]               \n",
      "__________________________________________________________________________________________________\n",
      "block_16_expand_BN (BatchNormal (None, 4, 4, 960)    3840        block_16_expand[0][0]            \n",
      "__________________________________________________________________________________________________\n",
      "block_16_expand_relu (ReLU)     (None, 4, 4, 960)    0           block_16_expand_BN[0][0]         \n",
      "__________________________________________________________________________________________________\n",
      "block_16_depthwise (DepthwiseCo (None, 4, 4, 960)    8640        block_16_expand_relu[0][0]       \n",
      "__________________________________________________________________________________________________\n",
      "block_16_depthwise_BN (BatchNor (None, 4, 4, 960)    3840        block_16_depthwise[0][0]         \n",
      "__________________________________________________________________________________________________\n",
      "block_16_depthwise_relu (ReLU)  (None, 4, 4, 960)    0           block_16_depthwise_BN[0][0]      \n",
      "__________________________________________________________________________________________________\n",
      "block_16_project (Conv2D)       (None, 4, 4, 320)    307200      block_16_depthwise_relu[0][0]    \n",
      "__________________________________________________________________________________________________\n",
      "block_16_project_BN (BatchNorma (None, 4, 4, 320)    1280        block_16_project[0][0]           \n",
      "__________________________________________________________________________________________________\n",
      "Conv_1 (Conv2D)                 (None, 4, 4, 1280)   409600      block_16_project_BN[0][0]        \n",
      "__________________________________________________________________________________________________\n",
      "Conv_1_bn (BatchNormalization)  (None, 4, 4, 1280)   5120        Conv_1[0][0]                     \n",
      "__________________________________________________________________________________________________\n",
      "out_relu (ReLU)                 (None, 4, 4, 1280)   0           Conv_1_bn[0][0]                  \n",
      "__________________________________________________________________________________________________\n",
      "global_average_pooling2d_8 (Glo (None, 1280)         0           out_relu[0][0]                   \n",
      "__________________________________________________________________________________________________\n",
      "dense_1 (Dense)                 (None, 1)            1281        global_average_pooling2d_8[0][0] \n",
      "==================================================================================================\n",
      "Total params: 2,259,265\n",
      "Trainable params: 1,281\n",
      "Non-trainable params: 2,257,984\n",
      "__________________________________________________________________________________________________\n"
     ]
    }
   ],
   "source": [
    "# Define model\n",
    "model = tf.keras.models.Model(inputs=base_model.input, outputs=prediction_layer)\n",
    "model.summary()"
   ]
  },
  {
   "cell_type": "code",
   "execution_count": 0,
   "metadata": {
    "colab": {},
    "colab_type": "code",
    "id": "G-U3jvUmdCev"
   },
   "outputs": [],
   "source": [
    "model.compile(optimizer=tf.keras.optimizers.RMSprop(learning_rate=0.0001), \n",
    "              loss='binary_crossentropy',\n",
    "             metrics=['accuracy'])"
   ]
  },
  {
   "cell_type": "code",
   "execution_count": 36,
   "metadata": {
    "colab": {
     "base_uri": "https://localhost:8080/",
     "height": 224
    },
    "colab_type": "code",
    "id": "kBNCZgv5d1QA",
    "outputId": "f8789b10-4ef7-4fe7-b013-5bd9b44b8263"
   },
   "outputs": [
    {
     "name": "stdout",
     "output_type": "stream",
     "text": [
      "Epoch 1/5\n",
      "16/16 [==============================] - 10s 615ms/step - loss: 0.5087 - accuracy: 0.7610 - val_loss: 0.4346 - val_accuracy: 0.8320\n",
      "Epoch 2/5\n",
      "16/16 [==============================] - 7s 453ms/step - loss: 0.4793 - accuracy: 0.7850 - val_loss: 0.3966 - val_accuracy: 0.8530\n",
      "Epoch 3/5\n",
      "16/16 [==============================] - 7s 457ms/step - loss: 0.4494 - accuracy: 0.8100 - val_loss: 0.3685 - val_accuracy: 0.8640\n",
      "Epoch 4/5\n",
      "16/16 [==============================] - 7s 457ms/step - loss: 0.4205 - accuracy: 0.8245 - val_loss: 0.3442 - val_accuracy: 0.8690\n",
      "Epoch 5/5\n",
      "16/16 [==============================] - 7s 453ms/step - loss: 0.4001 - accuracy: 0.8325 - val_loss: 0.3212 - val_accuracy: 0.8770\n"
     ]
    },
    {
     "data": {
      "text/plain": [
       "<tensorflow.python.keras.callbacks.History at 0x7f6bf3d66e80>"
      ]
     },
     "execution_count": 36,
     "metadata": {
      "tags": []
     },
     "output_type": "execute_result"
    }
   ],
   "source": [
    "# Train model\n",
    "model.fit_generator(train_gen, epochs=5, validation_data=valid_gen)"
   ]
  },
  {
   "cell_type": "code",
   "execution_count": 37,
   "metadata": {
    "colab": {
     "base_uri": "https://localhost:8080/",
     "height": 34
    },
    "colab_type": "code",
    "id": "n2Zm7iCLfZXS",
    "outputId": "b523f0ae-01fb-45db-eee4-4e24607e2dff"
   },
   "outputs": [
    {
     "data": {
      "text/plain": [
       "[0.32083071768283844, 0.877]"
      ]
     },
     "execution_count": 37,
     "metadata": {
      "tags": []
     },
     "output_type": "execute_result"
    }
   ],
   "source": [
    "# Evaluate model\n",
    "model.evaluate_generator(valid_gen)"
   ]
  },
  {
   "cell_type": "markdown",
   "metadata": {
    "colab_type": "text",
    "id": "zcsuklwpghlA"
   },
   "source": [
    "**Step4: Fine Tuning**"
   ]
  },
  {
   "cell_type": "code",
   "execution_count": 39,
   "metadata": {
    "colab": {
     "base_uri": "https://localhost:8080/",
     "height": 34
    },
    "colab_type": "code",
    "id": "tkvnyIVJghTq",
    "outputId": "afd1b4a3-da48-4b6a-8cff-612a7e16f7fd"
   },
   "outputs": [
    {
     "data": {
      "text/plain": [
       "155"
      ]
     },
     "execution_count": 39,
     "metadata": {
      "tags": []
     },
     "output_type": "execute_result"
    }
   ],
   "source": [
    "# Unfreeze base model\n",
    "base_model.trainable = True\n",
    "len(base_model.layers)"
   ]
  },
  {
   "cell_type": "code",
   "execution_count": 0,
   "metadata": {
    "colab": {},
    "colab_type": "code",
    "id": "qpD04vIqgcOA"
   },
   "outputs": [],
   "source": [
    "# Start fine tuning for 100th layer and freeze 1-100 layers\n",
    "fine_tune_from = 100\n",
    "\n",
    "for layer in base_model.layers[:fine_tune_from]:\n",
    "    layer.trainable=False"
   ]
  },
  {
   "cell_type": "code",
   "execution_count": 41,
   "metadata": {
    "colab": {
     "base_uri": "https://localhost:8080/",
     "height": 224
    },
    "colab_type": "code",
    "id": "TMMaEn7ch8yC",
    "outputId": "74f18753-d361-428d-9314-3795a33e479f"
   },
   "outputs": [
    {
     "name": "stdout",
     "output_type": "stream",
     "text": [
      "Epoch 1/5\n",
      "16/16 [==============================] - 26s 2s/step - loss: 0.1653 - accuracy: 0.9365 - val_loss: 0.1063 - val_accuracy: 0.9680\n",
      "Epoch 2/5\n",
      "16/16 [==============================] - 7s 413ms/step - loss: 0.0268 - accuracy: 0.9980 - val_loss: 0.1052 - val_accuracy: 0.9700\n",
      "Epoch 3/5\n",
      "16/16 [==============================] - 7s 459ms/step - loss: 0.0096 - accuracy: 1.0000 - val_loss: 0.0945 - val_accuracy: 0.9700\n",
      "Epoch 4/5\n",
      "16/16 [==============================] - 7s 454ms/step - loss: 0.0074 - accuracy: 0.9995 - val_loss: 0.1000 - val_accuracy: 0.9740\n",
      "Epoch 5/5\n",
      "16/16 [==============================] - 7s 458ms/step - loss: 0.0020 - accuracy: 1.0000 - val_loss: 0.1062 - val_accuracy: 0.9750\n"
     ]
    },
    {
     "data": {
      "text/plain": [
       "<tensorflow.python.keras.callbacks.History at 0x7f6bfa976d68>"
      ]
     },
     "execution_count": 41,
     "metadata": {
      "tags": []
     },
     "output_type": "execute_result"
    }
   ],
   "source": [
    "# Compule again for fine tuning\n",
    "model.compile(optimizer=tf.keras.optimizers.RMSprop(learning_rate=0.0001), \n",
    "              loss='binary_crossentropy',\n",
    "             metrics=['accuracy'])\n",
    "\n",
    "# Train fine tuned model\n",
    "model.fit_generator(train_gen, epochs=5, validation_data=valid_gen)"
   ]
  },
  {
   "cell_type": "code",
   "execution_count": 42,
   "metadata": {
    "colab": {
     "base_uri": "https://localhost:8080/",
     "height": 34
    },
    "colab_type": "code",
    "id": "7oZ1J9Hfi87J",
    "outputId": "4dfac6e0-f705-4e18-dea6-217cdf1080a2"
   },
   "outputs": [
    {
     "data": {
      "text/plain": [
       "[0.10622327169403434, 0.975]"
      ]
     },
     "execution_count": 42,
     "metadata": {
      "tags": []
     },
     "output_type": "execute_result"
    }
   ],
   "source": [
    "# Evaluate fine tuned model\n",
    "model.evaluate_generator(valid_gen)"
   ]
  },
  {
   "cell_type": "markdown",
   "metadata": {
    "colab": {},
    "colab_type": "code",
    "id": "4D42RPLCjPzj"
   },
   "source": [
    "# Reinforcement Learning\n",
    "\n",
    "In this section we are going to build a deep Q learning algorithm to trade stocks."
   ]
  },
  {
   "cell_type": "markdown",
   "metadata": {},
   "source": [
    "**Step1: Import modules and dataset**"
   ]
  },
  {
   "cell_type": "code",
   "execution_count": 16,
   "metadata": {},
   "outputs": [],
   "source": [
    "import math\n",
    "import random\n",
    "import numpy as np\n",
    "import pandas as pd\n",
    "import tensorflow as tf\n",
    "import matplotlib.pyplot as plt\n",
    "\n",
    "from tqdm import tqdm_notebook, tqdm\n",
    "from collections import deque\n",
    "\n",
    "# Load data\n",
    "import pandas_datareader as data_reader\n",
    "\n",
    "def dataset_loader(stock_name):\n",
    "    dataset = data_reader.DataReader(stock_name, data_source='yahoo')\n",
    "    start_date = str(dataset.index[0]).split()[0]\n",
    "    end_date = str(dataset.index[-1]).split()[0]\n",
    "    \n",
    "    close = dataset['Close']\n",
    "    return close\n",
    "\n",
    "data = dataset_loader('AAPL')"
   ]
  },
  {
   "cell_type": "markdown",
   "metadata": {},
   "source": [
    "**Step2: Preprocessing**"
   ]
  },
  {
   "cell_type": "code",
   "execution_count": 26,
   "metadata": {},
   "outputs": [],
   "source": [
    "# Define sigmoid fn\n",
    "def sigmoid(x):\n",
    "    return 1 / (1 + np.exp(-x))\n",
    "\n",
    "# Format price\n",
    "def stock_price_format(n):\n",
    "    if n<0:\n",
    "        return \"- $ (0:2f)\".format(abs(n))\n",
    "    else:\n",
    "        return \"$ (0:2f)\".format(abs(n))\n",
    "    \n",
    "def state_creator(data, timestep, window_size):\n",
    "    starting_id = timestep - window_size + 1\n",
    "    \n",
    "    if starting_id >=0:\n",
    "        windowed_data = data[starting_id:timestep+1]\n",
    "    else:\n",
    "        windowed_data = - starting_id * [data[0]] + list(data[0:timestep+1])\n",
    "    \n",
    "    state = []\n",
    "    for i in range(window_size - 1):\n",
    "        state.append(sigmoid(windowed_data[i+1] - windowed_data[i]))\n",
    "    \n",
    "    return np.array([state])    "
   ]
  },
  {
   "cell_type": "markdown",
   "metadata": {},
   "source": [
    "**Step3: Building AI trader network**"
   ]
  },
  {
   "cell_type": "code",
   "execution_count": 36,
   "metadata": {},
   "outputs": [],
   "source": [
    "class AI_Trader():\n",
    "    def __init__(self, state_size, action_space=3, model_name='AITrader'): #actions = stay, buy, sell\n",
    "        self.state_size = state_size\n",
    "        self.action_space = action_space\n",
    "        self.memory = deque(maxlen=2000)\n",
    "        self.inventory = []\n",
    "        self.model_name = model_name\n",
    "        \n",
    "        self.gamma = 0.95\n",
    "        self.epsilon = 1.0  # during start of training actions performed randomly\n",
    "        self.epsilon_final = 0.01 # stop decreasing at this point\n",
    "        self.epsilon_decay = 0.995 # fractin to decrease epsilon during training\n",
    "        \n",
    "        self.model = self.model_builder()\n",
    "        \n",
    "    def model_builder(self):\n",
    "        model = tf.keras.models.Sequential()\n",
    "        model.add(tf.keras.layers.Dense(units=32, activation='relu', input_dim=self.state_size))\n",
    "        model.add(tf.keras.layers.Dense(units=64, activation='relu'))\n",
    "        model.add(tf.keras.layers.Dense(units=128, activation='relu'))\n",
    "        model.add(tf.keras.layers.Dense(units=self.action_space, activation='linear'))\n",
    "        model.compile(optimizer=tf.keras.optimizers.Adam(lr=0.001), loss='mse')\n",
    "        \n",
    "        return model\n",
    "    \n",
    "    def trade(self, state):\n",
    "        if random.random() <= self.epsilon:\n",
    "            return random.randrange(self.action_space)\n",
    "        \n",
    "        actions = self.model.predict(state)\n",
    "        return np.argmax(actions[0])\n",
    "    \n",
    "    def batch_train(self, batch_size):\n",
    "        batch = []\n",
    "        for i in range(len(self.memory) - batch_size + 1, len(self.memory)):\n",
    "            batch.append(self.memory[i])\n",
    "        \n",
    "        for state, action, reward, next_state, done in batch:\n",
    "            reward = reward\n",
    "            if not done:\n",
    "                reward = reward + self.gamma * np.amax(self.model.predict(next_state)[0])\n",
    "            \n",
    "            target = self.model.predict(state)\n",
    "            target[0][action] = reward\n",
    "            \n",
    "            self.model.fit(state, target, epochs=1, verbose=0)\n",
    "            \n",
    "        if self.epsilon > self.epsilon_final:\n",
    "            self.epsilon *= self.epsilon_decay        "
   ]
  },
  {
   "cell_type": "code",
   "execution_count": 37,
   "metadata": {},
   "outputs": [
    {
     "name": "stdout",
     "output_type": "stream",
     "text": [
      "Model: \"sequential_6\"\n",
      "_________________________________________________________________\n",
      "Layer (type)                 Output Shape              Param #   \n",
      "=================================================================\n",
      "dense_24 (Dense)             (None, 32)                352       \n",
      "_________________________________________________________________\n",
      "dense_25 (Dense)             (None, 64)                2112      \n",
      "_________________________________________________________________\n",
      "dense_26 (Dense)             (None, 128)               8320      \n",
      "_________________________________________________________________\n",
      "dense_27 (Dense)             (None, 3)                 387       \n",
      "=================================================================\n",
      "Total params: 11,171\n",
      "Trainable params: 11,171\n",
      "Non-trainable params: 0\n",
      "_________________________________________________________________\n"
     ]
    }
   ],
   "source": [
    "# Setting hyperparameter\n",
    "window_size = 10\n",
    "episodes = 1000\n",
    "\n",
    "batch_size = 32\n",
    "data_samples = len(data)-1\n",
    "\n",
    "# Define model\n",
    "trader = AI_Trader(window_size)\n",
    "trader.model.summary()"
   ]
  },
  {
   "cell_type": "code",
   "execution_count": null,
   "metadata": {},
   "outputs": [
    {
     "name": "stderr",
     "output_type": "stream",
     "text": [
      "\n",
      "  0%|          | 0/2384 [00:00<?, ?it/s]\u001b[A"
     ]
    },
    {
     "name": "stdout",
     "output_type": "stream",
     "text": [
      "Episode: 1/1000\n"
     ]
    },
    {
     "name": "stderr",
     "output_type": "stream",
     "text": [
      "\n",
      "  1%|▏         | 33/2384 [00:00<01:06, 35.45it/s]\u001b[A\n",
      "  1%|▏         | 35/2384 [00:01<03:21, 11.68it/s]\u001b[A\n",
      "  2%|▏         | 36/2384 [00:01<04:50,  8.09it/s]\u001b[A\n",
      "  2%|▏         | 37/2384 [00:01<05:54,  6.62it/s]\u001b[A\n",
      "  2%|▏         | 38/2384 [00:02<06:59,  5.60it/s]\u001b[A\n",
      "  2%|▏         | 39/2384 [00:02<06:42,  5.83it/s]\u001b[A\n",
      "  2%|▏         | 40/2384 [00:02<07:32,  5.18it/s]\u001b[A\n",
      "  2%|▏         | 41/2384 [00:02<07:55,  4.93it/s]\u001b[A\n",
      "  2%|▏         | 42/2384 [00:02<08:06,  4.82it/s]\u001b[A\n",
      "  2%|▏         | 43/2384 [00:03<08:12,  4.76it/s]\u001b[A\n",
      "  2%|▏         | 44/2384 [00:03<08:13,  4.74it/s]\u001b[A\n",
      "  2%|▏         | 45/2384 [00:03<08:17,  4.71it/s]\u001b[A\n",
      "  2%|▏         | 46/2384 [00:03<08:23,  4.64it/s]\u001b[A\n",
      "  2%|▏         | 47/2384 [00:03<08:14,  4.72it/s]\u001b[A\n",
      "  2%|▏         | 48/2384 [00:04<07:37,  5.11it/s]\u001b[A\n",
      "  2%|▏         | 49/2384 [00:04<07:03,  5.52it/s]\u001b[A\n",
      "  2%|▏         | 50/2384 [00:04<07:10,  5.42it/s]\u001b[A\n",
      "  2%|▏         | 51/2384 [00:04<07:22,  5.27it/s]\u001b[A\n",
      "  2%|▏         | 52/2384 [00:04<07:28,  5.20it/s]\u001b[A\n",
      "  2%|▏         | 53/2384 [00:05<07:31,  5.16it/s]\u001b[A\n",
      "  2%|▏         | 54/2384 [00:05<07:37,  5.09it/s]\u001b[A\n",
      "  2%|▏         | 55/2384 [00:05<07:38,  5.08it/s]\u001b[A\n",
      "  2%|▏         | 56/2384 [00:05<07:43,  5.02it/s]\u001b[A\n",
      "  2%|▏         | 57/2384 [00:05<07:51,  4.93it/s]\u001b[A\n",
      "  2%|▏         | 58/2384 [00:06<07:50,  4.94it/s]\u001b[A\n",
      "  2%|▏         | 59/2384 [00:06<07:14,  5.35it/s]\u001b[A\n",
      "  3%|▎         | 60/2384 [00:06<07:27,  5.19it/s]\u001b[A\n",
      "  3%|▎         | 61/2384 [00:06<07:37,  5.08it/s]\u001b[A\n",
      "  3%|▎         | 62/2384 [00:06<07:40,  5.04it/s]\u001b[A\n",
      "  3%|▎         | 63/2384 [00:07<07:38,  5.06it/s]\u001b[A\n",
      "  3%|▎         | 64/2384 [00:07<07:22,  5.24it/s]\u001b[A\n",
      "  3%|▎         | 65/2384 [00:07<07:10,  5.39it/s]\u001b[A\n",
      "  3%|▎         | 66/2384 [00:07<07:03,  5.48it/s]\u001b[A\n",
      "  3%|▎         | 67/2384 [00:07<06:56,  5.56it/s]\u001b[A\n",
      "  3%|▎         | 68/2384 [00:07<06:51,  5.62it/s]\u001b[A\n",
      "  3%|▎         | 69/2384 [00:08<06:40,  5.78it/s]\u001b[A\n",
      "  3%|▎         | 70/2384 [00:08<06:23,  6.04it/s]\u001b[A\n",
      "  3%|▎         | 71/2384 [00:08<06:21,  6.06it/s]\u001b[A\n",
      "  3%|▎         | 72/2384 [00:08<06:37,  5.81it/s]\u001b[A\n",
      "  3%|▎         | 73/2384 [00:08<06:51,  5.62it/s]\u001b[A\n",
      "  3%|▎         | 74/2384 [00:08<06:52,  5.60it/s]\u001b[A\n",
      "  3%|▎         | 75/2384 [00:09<06:45,  5.69it/s]\u001b[A\n",
      "  3%|▎         | 76/2384 [00:09<06:39,  5.77it/s]\u001b[A\n",
      "  3%|▎         | 77/2384 [00:09<06:38,  5.79it/s]\u001b[A\n",
      "  3%|▎         | 78/2384 [00:09<06:42,  5.72it/s]\u001b[A\n",
      "  3%|▎         | 79/2384 [00:09<06:37,  5.80it/s]\u001b[A\n",
      "  3%|▎         | 80/2384 [00:09<06:37,  5.80it/s]\u001b[A\n",
      "  3%|▎         | 81/2384 [00:10<06:26,  5.96it/s]\u001b[A\n",
      "  3%|▎         | 82/2384 [00:10<06:31,  5.88it/s]\u001b[A\n",
      "  3%|▎         | 83/2384 [00:10<06:25,  5.97it/s]\u001b[A\n",
      "  4%|▎         | 84/2384 [00:10<06:18,  6.07it/s]\u001b[A\n",
      "  4%|▎         | 85/2384 [00:10<06:30,  5.89it/s]\u001b[A\n",
      "  4%|▎         | 86/2384 [00:10<06:35,  5.82it/s]\u001b[A\n",
      "  4%|▎         | 87/2384 [00:11<06:28,  5.92it/s]\u001b[A\n",
      "  4%|▎         | 88/2384 [00:11<06:39,  5.74it/s]\u001b[A\n",
      "  4%|▎         | 89/2384 [00:11<06:42,  5.70it/s]\u001b[A\n",
      "  4%|▍         | 90/2384 [00:11<06:49,  5.60it/s]\u001b[A\n",
      "  4%|▍         | 91/2384 [00:11<06:44,  5.67it/s]\u001b[A\n",
      "  4%|▍         | 92/2384 [00:12<06:41,  5.71it/s]\u001b[A\n",
      "  4%|▍         | 93/2384 [00:12<06:35,  5.80it/s]\u001b[A\n",
      "  4%|▍         | 94/2384 [00:12<06:40,  5.71it/s]\u001b[A\n",
      "  4%|▍         | 95/2384 [00:12<06:40,  5.72it/s]\u001b[A\n",
      "  4%|▍         | 96/2384 [00:12<06:39,  5.73it/s]\u001b[A\n",
      "  4%|▍         | 97/2384 [00:12<06:35,  5.79it/s]\u001b[A\n",
      "  4%|▍         | 98/2384 [00:13<07:44,  4.92it/s]\u001b[A\n",
      "  4%|▍         | 99/2384 [00:13<07:59,  4.76it/s]\u001b[A\n",
      "  4%|▍         | 100/2384 [00:13<08:52,  4.29it/s]\u001b[A\n",
      "  4%|▍         | 101/2384 [00:13<09:36,  3.96it/s]\u001b[A\n",
      "  4%|▍         | 102/2384 [00:14<09:56,  3.82it/s]\u001b[A\n",
      "  4%|▍         | 103/2384 [00:14<10:36,  3.58it/s]\u001b[A\n",
      "  4%|▍         | 104/2384 [00:14<10:52,  3.49it/s]\u001b[A\n",
      "  4%|▍         | 105/2384 [00:15<10:54,  3.48it/s]\u001b[A\n",
      "  4%|▍         | 106/2384 [00:15<11:28,  3.31it/s]\u001b[A\n",
      "  4%|▍         | 107/2384 [00:15<10:45,  3.53it/s]\u001b[A\n",
      "  5%|▍         | 108/2384 [00:15<10:01,  3.79it/s]\u001b[A\n",
      "  5%|▍         | 109/2384 [00:16<08:59,  4.22it/s]\u001b[A\n",
      "  5%|▍         | 110/2384 [00:16<08:03,  4.70it/s]\u001b[A\n",
      "  5%|▍         | 111/2384 [00:16<07:23,  5.12it/s]\u001b[A\n",
      "  5%|▍         | 112/2384 [00:16<06:57,  5.45it/s]\u001b[A\n",
      "  5%|▍         | 113/2384 [00:16<06:33,  5.77it/s]\u001b[A\n",
      "  5%|▍         | 114/2384 [00:16<06:18,  6.00it/s]\u001b[A\n",
      "  5%|▍         | 115/2384 [00:17<06:51,  5.52it/s]\u001b[A\n",
      "  5%|▍         | 116/2384 [00:17<07:03,  5.35it/s]\u001b[A\n",
      "  5%|▍         | 117/2384 [00:17<07:25,  5.09it/s]\u001b[A\n",
      "  5%|▍         | 118/2384 [00:17<07:36,  4.97it/s]\u001b[A\n",
      "  5%|▍         | 119/2384 [00:17<07:35,  4.97it/s]\u001b[A\n",
      "  5%|▌         | 120/2384 [00:18<07:21,  5.13it/s]\u001b[A\n",
      "  5%|▌         | 121/2384 [00:18<07:10,  5.25it/s]\u001b[A\n",
      "  5%|▌         | 122/2384 [00:18<07:13,  5.21it/s]\u001b[A\n",
      "  5%|▌         | 123/2384 [00:18<06:59,  5.39it/s]\u001b[A\n",
      "  5%|▌         | 124/2384 [00:18<07:08,  5.27it/s]\u001b[A\n",
      "  5%|▌         | 125/2384 [00:19<07:11,  5.24it/s]\u001b[A\n",
      "  5%|▌         | 126/2384 [00:19<06:51,  5.49it/s]\u001b[A\n",
      "  5%|▌         | 127/2384 [00:19<06:34,  5.72it/s]\u001b[A\n",
      "  5%|▌         | 128/2384 [00:19<06:19,  5.95it/s]\u001b[A\n",
      "  5%|▌         | 129/2384 [00:19<06:09,  6.10it/s]\u001b[A\n",
      "  5%|▌         | 130/2384 [00:19<06:12,  6.05it/s]\u001b[A\n",
      "  5%|▌         | 131/2384 [00:20<06:15,  6.00it/s]\u001b[A\n",
      "  6%|▌         | 132/2384 [00:20<06:02,  6.21it/s]\u001b[A\n",
      "  6%|▌         | 133/2384 [00:20<06:01,  6.22it/s]\u001b[A\n",
      "  6%|▌         | 134/2384 [00:20<06:03,  6.19it/s]\u001b[A\n",
      "  6%|▌         | 135/2384 [00:20<06:00,  6.23it/s]\u001b[A\n",
      "  6%|▌         | 136/2384 [00:20<06:02,  6.21it/s]\u001b[A\n",
      "  6%|▌         | 137/2384 [00:21<06:33,  5.71it/s]\u001b[A\n",
      "  6%|▌         | 138/2384 [00:21<06:57,  5.38it/s]\u001b[A\n",
      "  6%|▌         | 139/2384 [00:21<07:35,  4.93it/s]\u001b[A\n",
      "  6%|▌         | 140/2384 [00:21<07:40,  4.87it/s]\u001b[A\n",
      "  6%|▌         | 141/2384 [00:21<07:43,  4.83it/s]\u001b[A\n",
      "  6%|▌         | 142/2384 [00:22<07:31,  4.97it/s]\u001b[A\n",
      "  6%|▌         | 143/2384 [00:22<06:54,  5.40it/s]\u001b[A\n",
      "  6%|▌         | 144/2384 [00:22<06:59,  5.34it/s]\u001b[A\n",
      "  6%|▌         | 145/2384 [00:22<07:29,  4.98it/s]\u001b[A\n",
      "  6%|▌         | 146/2384 [00:22<07:37,  4.89it/s]\u001b[A\n",
      "  6%|▌         | 147/2384 [00:23<07:48,  4.77it/s]\u001b[A\n",
      "  6%|▌         | 148/2384 [00:23<07:42,  4.83it/s]\u001b[A\n",
      "  6%|▋         | 149/2384 [00:23<07:43,  4.82it/s]\u001b[A\n",
      "  6%|▋         | 150/2384 [00:23<07:46,  4.79it/s]\u001b[A\n",
      "  6%|▋         | 151/2384 [00:23<08:24,  4.43it/s]\u001b[A\n",
      "  6%|▋         | 152/2384 [00:24<08:13,  4.52it/s]\u001b[A\n",
      "  6%|▋         | 153/2384 [00:24<09:15,  4.02it/s]\u001b[A\n",
      "  6%|▋         | 154/2384 [00:24<10:15,  3.62it/s]\u001b[A\n",
      "  7%|▋         | 155/2384 [00:25<09:49,  3.78it/s]\u001b[A\n",
      "  7%|▋         | 156/2384 [00:25<10:04,  3.69it/s]\u001b[A\n",
      "  7%|▋         | 157/2384 [00:25<09:45,  3.80it/s]\u001b[A\n",
      "  7%|▋         | 158/2384 [00:25<09:32,  3.89it/s]\u001b[A\n",
      "  7%|▋         | 159/2384 [00:26<09:12,  4.02it/s]\u001b[A\n",
      "  7%|▋         | 160/2384 [00:26<08:22,  4.43it/s]\u001b[A\n",
      "  7%|▋         | 161/2384 [00:26<08:38,  4.29it/s]\u001b[A\n",
      "  7%|▋         | 162/2384 [00:26<08:21,  4.43it/s]\u001b[A\n",
      "  7%|▋         | 163/2384 [00:26<08:15,  4.48it/s]\u001b[A\n",
      "  7%|▋         | 164/2384 [00:27<08:20,  4.44it/s]\u001b[A\n",
      "  7%|▋         | 165/2384 [00:27<08:03,  4.59it/s]\u001b[A\n",
      "  7%|▋         | 166/2384 [00:27<07:48,  4.73it/s]\u001b[A\n",
      "  7%|▋         | 167/2384 [00:27<07:42,  4.80it/s]\u001b[A\n",
      "  7%|▋         | 168/2384 [00:27<07:29,  4.93it/s]\u001b[A\n",
      "  7%|▋         | 169/2384 [00:28<06:50,  5.39it/s]\u001b[A\n",
      "  7%|▋         | 170/2384 [00:28<06:16,  5.87it/s]\u001b[A\n",
      "  7%|▋         | 171/2384 [00:28<06:14,  5.90it/s]\u001b[A\n",
      "  7%|▋         | 172/2384 [00:28<06:37,  5.56it/s]\u001b[A\n",
      "  7%|▋         | 173/2384 [00:28<06:48,  5.41it/s]\u001b[A\n",
      "  7%|▋         | 174/2384 [00:29<07:04,  5.20it/s]\u001b[A\n",
      "  7%|▋         | 175/2384 [00:29<07:14,  5.08it/s]\u001b[A\n",
      "  7%|▋         | 176/2384 [00:29<07:29,  4.91it/s]\u001b[A\n",
      "  7%|▋         | 177/2384 [00:29<07:38,  4.82it/s]\u001b[A\n",
      "  7%|▋         | 178/2384 [00:29<07:49,  4.70it/s]\u001b[A\n",
      "  8%|▊         | 179/2384 [00:30<07:38,  4.81it/s]\u001b[A\n",
      "  8%|▊         | 180/2384 [00:30<07:12,  5.10it/s]\u001b[A\n",
      "  8%|▊         | 181/2384 [00:30<07:17,  5.04it/s]\u001b[A\n",
      "  8%|▊         | 182/2384 [00:30<07:37,  4.81it/s]\u001b[A\n",
      "  8%|▊         | 183/2384 [00:30<07:33,  4.86it/s]\u001b[A\n",
      "  8%|▊         | 184/2384 [00:31<07:42,  4.76it/s]\u001b[A\n",
      "  8%|▊         | 185/2384 [00:31<07:42,  4.76it/s]\u001b[A\n",
      "  8%|▊         | 186/2384 [00:31<07:38,  4.79it/s]\u001b[A\n",
      "  8%|▊         | 187/2384 [00:31<07:35,  4.82it/s]\u001b[A\n",
      "  8%|▊         | 188/2384 [00:31<07:21,  4.97it/s]\u001b[A\n",
      "  8%|▊         | 189/2384 [00:32<07:40,  4.77it/s]\u001b[A\n",
      "  8%|▊         | 190/2384 [00:32<08:05,  4.52it/s]\u001b[A\n",
      "  8%|▊         | 191/2384 [00:32<08:08,  4.49it/s]\u001b[A\n",
      "  8%|▊         | 192/2384 [00:32<08:10,  4.47it/s]\u001b[A\n",
      "  8%|▊         | 193/2384 [00:33<08:14,  4.43it/s]\u001b[A\n",
      "  8%|▊         | 194/2384 [00:33<08:24,  4.34it/s]\u001b[A\n",
      "  8%|▊         | 195/2384 [00:33<08:36,  4.24it/s]\u001b[A\n",
      "  8%|▊         | 196/2384 [00:33<08:51,  4.11it/s]\u001b[A\n",
      "  8%|▊         | 197/2384 [00:34<08:39,  4.21it/s]\u001b[A\n",
      "  8%|▊         | 198/2384 [00:34<07:34,  4.81it/s]\u001b[A\n",
      "  8%|▊         | 199/2384 [00:34<07:43,  4.72it/s]\u001b[A\n",
      "  8%|▊         | 200/2384 [00:34<07:53,  4.62it/s]\u001b[A\n",
      "  8%|▊         | 201/2384 [00:34<07:52,  4.62it/s]\u001b[A\n",
      "  8%|▊         | 202/2384 [00:35<07:55,  4.59it/s]\u001b[A\n",
      "  9%|▊         | 203/2384 [00:35<08:19,  4.37it/s]\u001b[A\n",
      "  9%|▊         | 204/2384 [00:35<08:25,  4.31it/s]\u001b[A\n",
      "  9%|▊         | 205/2384 [00:35<08:33,  4.25it/s]\u001b[A\n",
      "  9%|▊         | 206/2384 [00:36<08:44,  4.15it/s]\u001b[A\n",
      "  9%|▊         | 207/2384 [00:36<08:43,  4.16it/s]\u001b[A\n",
      "  9%|▊         | 208/2384 [00:36<08:57,  4.05it/s]\u001b[A\n",
      "  9%|▉         | 209/2384 [00:36<09:12,  3.93it/s]\u001b[A\n",
      "  9%|▉         | 210/2384 [00:37<09:30,  3.81it/s]\u001b[A\n",
      "  9%|▉         | 211/2384 [00:37<09:02,  4.00it/s]\u001b[A\n",
      "  9%|▉         | 212/2384 [00:37<08:40,  4.18it/s]\u001b[A\n",
      "  9%|▉         | 213/2384 [00:37<08:32,  4.24it/s]\u001b[A\n",
      "  9%|▉         | 214/2384 [00:37<08:08,  4.45it/s]\u001b[A\n",
      "  9%|▉         | 215/2384 [00:38<07:04,  5.11it/s]\u001b[A\n",
      "  9%|▉         | 216/2384 [00:38<06:21,  5.68it/s]\u001b[A\n",
      "  9%|▉         | 217/2384 [00:38<06:47,  5.32it/s]\u001b[A\n",
      "  9%|▉         | 218/2384 [00:38<06:36,  5.46it/s]\u001b[A\n",
      "  9%|▉         | 219/2384 [00:38<06:41,  5.39it/s]\u001b[A\n",
      "  9%|▉         | 220/2384 [00:39<06:58,  5.17it/s]\u001b[A\n",
      "  9%|▉         | 221/2384 [00:39<07:05,  5.09it/s]\u001b[A\n",
      "  9%|▉         | 222/2384 [00:39<06:53,  5.22it/s]\u001b[A\n",
      "  9%|▉         | 223/2384 [00:39<06:45,  5.32it/s]\u001b[A\n",
      "  9%|▉         | 224/2384 [00:39<06:39,  5.40it/s]\u001b[A\n",
      "  9%|▉         | 225/2384 [00:39<06:36,  5.45it/s]\u001b[A\n",
      "  9%|▉         | 226/2384 [00:40<06:02,  5.96it/s]\u001b[A\n",
      " 10%|▉         | 227/2384 [00:40<05:31,  6.50it/s]\u001b[A\n",
      " 10%|▉         | 228/2384 [00:40<05:28,  6.55it/s]\u001b[A\n",
      " 10%|▉         | 229/2384 [00:40<05:45,  6.24it/s]\u001b[A\n",
      " 10%|▉         | 230/2384 [00:40<05:58,  6.00it/s]\u001b[A\n",
      " 10%|▉         | 231/2384 [00:40<06:05,  5.89it/s]\u001b[A\n",
      " 10%|▉         | 232/2384 [00:41<06:12,  5.77it/s]\u001b[A\n",
      " 10%|▉         | 233/2384 [00:41<06:12,  5.78it/s]\u001b[A\n",
      " 10%|▉         | 234/2384 [00:41<06:15,  5.72it/s]\u001b[A\n",
      " 10%|▉         | 235/2384 [00:41<06:16,  5.71it/s]\u001b[A\n",
      " 10%|▉         | 236/2384 [00:41<06:18,  5.67it/s]\u001b[A\n",
      " 10%|▉         | 237/2384 [00:41<06:21,  5.62it/s]\u001b[A\n",
      " 10%|▉         | 238/2384 [00:42<05:53,  6.07it/s]\u001b[A\n",
      " 10%|█         | 239/2384 [00:42<05:32,  6.45it/s]\u001b[A\n",
      " 10%|█         | 240/2384 [00:42<05:46,  6.19it/s]\u001b[A\n",
      " 10%|█         | 241/2384 [00:42<06:04,  5.88it/s]\u001b[A\n",
      " 10%|█         | 242/2384 [00:42<06:15,  5.71it/s]\u001b[A\n",
      " 10%|█         | 243/2384 [00:42<06:21,  5.61it/s]\u001b[A\n",
      " 10%|█         | 244/2384 [00:43<06:28,  5.51it/s]\u001b[A\n",
      " 10%|█         | 245/2384 [00:43<06:31,  5.47it/s]\u001b[A\n",
      " 10%|█         | 246/2384 [00:43<06:54,  5.15it/s]\u001b[A\n",
      " 10%|█         | 247/2384 [00:43<06:52,  5.18it/s]\u001b[A\n",
      " 10%|█         | 248/2384 [00:43<06:48,  5.23it/s]\u001b[A\n",
      " 10%|█         | 249/2384 [00:44<06:47,  5.24it/s]\u001b[A\n",
      " 10%|█         | 250/2384 [00:44<06:20,  5.61it/s]\u001b[A\n",
      " 11%|█         | 251/2384 [00:44<06:28,  5.50it/s]\u001b[A\n",
      " 11%|█         | 252/2384 [00:44<07:00,  5.07it/s]\u001b[A\n",
      " 11%|█         | 253/2384 [00:44<07:38,  4.65it/s]\u001b[A\n",
      " 11%|█         | 254/2384 [00:45<07:50,  4.53it/s]\u001b[A\n",
      " 11%|█         | 255/2384 [00:45<07:44,  4.58it/s]\u001b[A\n",
      " 11%|█         | 256/2384 [00:45<07:17,  4.86it/s]\u001b[A\n",
      " 11%|█         | 257/2384 [00:45<07:07,  4.97it/s]\u001b[A\n",
      " 11%|█         | 258/2384 [00:45<06:56,  5.10it/s]\u001b[A\n",
      " 11%|█         | 259/2384 [00:46<06:17,  5.63it/s]\u001b[A\n",
      " 11%|█         | 260/2384 [00:46<06:18,  5.61it/s]\u001b[A\n",
      " 11%|█         | 261/2384 [00:46<06:34,  5.39it/s]\u001b[A\n",
      " 11%|█         | 262/2384 [00:46<06:56,  5.10it/s]\u001b[A\n",
      " 11%|█         | 263/2384 [00:46<07:14,  4.88it/s]\u001b[A\n",
      " 11%|█         | 264/2384 [00:47<07:19,  4.82it/s]\u001b[A\n",
      " 11%|█         | 265/2384 [00:47<07:19,  4.82it/s]\u001b[A\n",
      " 11%|█         | 266/2384 [00:47<07:37,  4.63it/s]\u001b[A\n",
      " 11%|█         | 267/2384 [00:47<07:40,  4.60it/s]\u001b[A\n",
      " 11%|█         | 268/2384 [00:48<07:37,  4.62it/s]\u001b[A\n",
      " 11%|█▏        | 269/2384 [00:48<07:23,  4.77it/s]\u001b[A\n",
      " 11%|█▏        | 270/2384 [00:48<07:23,  4.76it/s]\u001b[A\n",
      " 11%|█▏        | 271/2384 [00:48<07:19,  4.81it/s]\u001b[A\n",
      " 11%|█▏        | 272/2384 [00:48<07:17,  4.83it/s]\u001b[A\n",
      " 11%|█▏        | 273/2384 [00:49<08:00,  4.40it/s]\u001b[A\n",
      " 11%|█▏        | 274/2384 [00:49<07:34,  4.64it/s]\u001b[A\n",
      " 12%|█▏        | 275/2384 [00:49<07:47,  4.51it/s]\u001b[A\n",
      " 12%|█▏        | 276/2384 [00:49<07:28,  4.70it/s]\u001b[A\n",
      " 12%|█▏        | 277/2384 [00:49<07:17,  4.82it/s]\u001b[A\n",
      " 12%|█▏        | 278/2384 [00:50<06:52,  5.10it/s]\u001b[A\n",
      " 12%|█▏        | 279/2384 [00:50<06:25,  5.46it/s]\u001b[A\n",
      " 12%|█▏        | 280/2384 [00:50<06:28,  5.42it/s]\u001b[A\n",
      " 12%|█▏        | 281/2384 [00:50<06:33,  5.34it/s]\u001b[A\n",
      " 12%|█▏        | 282/2384 [00:50<06:36,  5.30it/s]\u001b[A\n",
      " 12%|█▏        | 283/2384 [00:51<06:39,  5.26it/s]\u001b[A\n",
      " 12%|█▏        | 284/2384 [00:51<06:38,  5.27it/s]\u001b[A\n",
      " 12%|█▏        | 285/2384 [00:51<06:37,  5.28it/s]\u001b[A\n",
      " 12%|█▏        | 286/2384 [00:51<06:46,  5.16it/s]\u001b[A\n",
      " 12%|█▏        | 287/2384 [00:51<06:39,  5.25it/s]\u001b[A\n",
      " 12%|█▏        | 288/2384 [00:51<06:41,  5.23it/s]\u001b[A\n",
      " 12%|█▏        | 289/2384 [00:52<06:10,  5.65it/s]\u001b[A\n",
      " 12%|█▏        | 290/2384 [00:52<05:42,  6.12it/s]\u001b[A\n",
      " 12%|█▏        | 291/2384 [00:52<05:49,  5.99it/s]\u001b[A\n",
      " 12%|█▏        | 292/2384 [00:52<05:55,  5.89it/s]\u001b[A\n",
      " 12%|█▏        | 293/2384 [00:52<05:59,  5.81it/s]\u001b[A\n",
      " 12%|█▏        | 294/2384 [00:52<06:07,  5.69it/s]\u001b[A\n",
      " 12%|█▏        | 295/2384 [00:53<06:23,  5.45it/s]\u001b[A\n",
      " 12%|█▏        | 296/2384 [00:53<06:40,  5.22it/s]\u001b[A\n",
      " 12%|█▏        | 297/2384 [00:53<06:48,  5.10it/s]\u001b[A\n",
      " 12%|█▎        | 298/2384 [00:53<06:46,  5.13it/s]\u001b[A\n",
      " 13%|█▎        | 299/2384 [00:53<06:51,  5.07it/s]\u001b[A\n",
      " 13%|█▎        | 300/2384 [00:54<06:19,  5.49it/s]\u001b[A\n",
      " 13%|█▎        | 301/2384 [00:54<05:43,  6.06it/s]\u001b[A\n",
      " 13%|█▎        | 302/2384 [00:54<05:37,  6.17it/s]\u001b[A\n",
      " 13%|█▎        | 303/2384 [00:54<06:08,  5.65it/s]\u001b[A\n",
      " 13%|█▎        | 304/2384 [00:54<06:20,  5.46it/s]\u001b[A\n",
      " 13%|█▎        | 305/2384 [00:55<06:43,  5.15it/s]\u001b[A\n",
      " 13%|█▎        | 306/2384 [00:55<07:31,  4.60it/s]\u001b[A\n",
      " 13%|█▎        | 307/2384 [00:55<07:20,  4.71it/s]\u001b[A\n",
      " 13%|█▎        | 308/2384 [00:55<06:56,  4.99it/s]\u001b[A\n",
      " 13%|█▎        | 309/2384 [00:55<07:01,  4.92it/s]\u001b[A\n",
      " 13%|█▎        | 310/2384 [00:56<06:45,  5.12it/s]\u001b[A\n",
      " 13%|█▎        | 311/2384 [00:56<06:23,  5.40it/s]\u001b[A\n",
      " 13%|█▎        | 312/2384 [00:56<06:26,  5.36it/s]\u001b[A\n",
      " 13%|█▎        | 313/2384 [00:56<06:43,  5.13it/s]\u001b[A\n",
      " 13%|█▎        | 314/2384 [00:56<06:44,  5.11it/s]\u001b[A\n",
      " 13%|█▎        | 315/2384 [00:56<06:38,  5.19it/s]\u001b[A\n",
      " 13%|█▎        | 316/2384 [00:57<06:30,  5.30it/s]\u001b[A\n",
      " 13%|█▎        | 317/2384 [00:57<06:39,  5.17it/s]\u001b[A\n",
      " 13%|█▎        | 318/2384 [00:57<06:50,  5.03it/s]\u001b[A\n",
      " 13%|█▎        | 319/2384 [00:57<07:12,  4.77it/s]\u001b[A\n",
      " 13%|█▎        | 320/2384 [00:58<07:11,  4.79it/s]\u001b[A\n",
      " 13%|█▎        | 321/2384 [00:58<06:43,  5.12it/s]\u001b[A\n",
      " 14%|█▎        | 322/2384 [00:58<06:31,  5.27it/s]\u001b[A\n",
      " 14%|█▎        | 323/2384 [00:58<06:50,  5.02it/s]\u001b[A\n",
      " 14%|█▎        | 324/2384 [00:58<07:21,  4.66it/s]\u001b[A\n",
      " 14%|█▎        | 325/2384 [00:59<07:37,  4.50it/s]\u001b[A\n",
      " 14%|█▎        | 326/2384 [00:59<07:42,  4.45it/s]\u001b[A\n",
      " 14%|█▎        | 327/2384 [00:59<08:06,  4.23it/s]\u001b[A\n",
      " 14%|█▍        | 328/2384 [00:59<08:21,  4.10it/s]\u001b[A\n",
      " 14%|█▍        | 329/2384 [01:00<07:46,  4.41it/s]\u001b[A\n",
      " 14%|█▍        | 330/2384 [01:00<06:59,  4.90it/s]\u001b[A\n",
      " 14%|█▍        | 331/2384 [01:00<06:56,  4.93it/s]\u001b[A\n",
      " 14%|█▍        | 332/2384 [01:00<07:11,  4.76it/s]\u001b[A\n",
      " 14%|█▍        | 333/2384 [01:00<07:08,  4.78it/s]\u001b[A\n",
      " 14%|█▍        | 334/2384 [01:01<07:02,  4.85it/s]\u001b[A\n",
      " 14%|█▍        | 335/2384 [01:01<06:55,  4.93it/s]\u001b[A\n",
      " 14%|█▍        | 336/2384 [01:01<06:53,  4.95it/s]\u001b[A\n"
     ]
    },
    {
     "name": "stderr",
     "output_type": "stream",
     "text": [
      " 14%|█▍        | 337/2384 [01:01<06:50,  4.99it/s]\u001b[A\n",
      " 14%|█▍        | 338/2384 [01:01<06:56,  4.91it/s]\u001b[A\n",
      " 14%|█▍        | 339/2384 [01:02<06:52,  4.95it/s]\u001b[A\n",
      " 14%|█▍        | 340/2384 [01:02<06:25,  5.30it/s]\u001b[A\n",
      " 14%|█▍        | 341/2384 [01:02<06:16,  5.42it/s]\u001b[A\n",
      " 14%|█▍        | 342/2384 [01:02<06:52,  4.95it/s]\u001b[A\n",
      " 14%|█▍        | 343/2384 [01:02<07:05,  4.80it/s]\u001b[A\n",
      " 14%|█▍        | 344/2384 [01:03<06:55,  4.91it/s]\u001b[A\n",
      " 14%|█▍        | 345/2384 [01:03<06:49,  4.98it/s]\u001b[A\n",
      " 15%|█▍        | 346/2384 [01:03<06:58,  4.87it/s]\u001b[A\n",
      " 15%|█▍        | 347/2384 [01:03<06:59,  4.85it/s]\u001b[A\n",
      " 15%|█▍        | 348/2384 [01:03<07:07,  4.77it/s]\u001b[A\n",
      " 15%|█▍        | 349/2384 [01:04<07:07,  4.76it/s]\u001b[A\n",
      " 15%|█▍        | 350/2384 [01:04<06:46,  5.00it/s]\u001b[A\n",
      " 15%|█▍        | 351/2384 [01:04<06:56,  4.88it/s]\u001b[A\n",
      " 15%|█▍        | 352/2384 [01:04<07:13,  4.69it/s]\u001b[A\n",
      " 15%|█▍        | 353/2384 [01:04<07:35,  4.46it/s]\u001b[A\n",
      " 15%|█▍        | 354/2384 [01:05<07:19,  4.61it/s]\u001b[A\n",
      " 15%|█▍        | 355/2384 [01:05<07:06,  4.76it/s]\u001b[A\n",
      " 15%|█▍        | 356/2384 [01:05<07:08,  4.74it/s]\u001b[A\n",
      " 15%|█▍        | 357/2384 [01:05<07:10,  4.71it/s]\u001b[A\n",
      " 15%|█▌        | 358/2384 [01:06<07:49,  4.31it/s]\u001b[A\n",
      " 15%|█▌        | 359/2384 [01:06<06:57,  4.85it/s]\u001b[A\n",
      " 15%|█▌        | 360/2384 [01:06<06:21,  5.31it/s]\u001b[A\n",
      " 15%|█▌        | 361/2384 [01:06<06:15,  5.39it/s]\u001b[A\n",
      " 15%|█▌        | 362/2384 [01:06<06:18,  5.34it/s]\u001b[A\n",
      " 15%|█▌        | 363/2384 [01:06<06:21,  5.29it/s]\u001b[A\n",
      " 15%|█▌        | 364/2384 [01:07<06:23,  5.26it/s]\u001b[A\n",
      " 15%|█▌        | 365/2384 [01:07<06:28,  5.20it/s]\u001b[A\n",
      " 15%|█▌        | 366/2384 [01:07<06:30,  5.16it/s]\u001b[A\n",
      " 15%|█▌        | 367/2384 [01:07<06:18,  5.33it/s]\u001b[A\n",
      " 15%|█▌        | 368/2384 [01:07<06:14,  5.39it/s]\u001b[A\n",
      " 15%|█▌        | 369/2384 [01:08<06:14,  5.38it/s]\u001b[A\n",
      " 16%|█▌        | 370/2384 [01:08<05:43,  5.87it/s]\u001b[A\n",
      " 16%|█▌        | 371/2384 [01:08<05:09,  6.50it/s]\u001b[A\n",
      " 16%|█▌        | 372/2384 [01:08<05:12,  6.45it/s]\u001b[A\n",
      " 16%|█▌        | 373/2384 [01:08<05:24,  6.19it/s]\u001b[A\n",
      " 16%|█▌        | 374/2384 [01:08<05:44,  5.84it/s]\u001b[A\n",
      " 16%|█▌        | 375/2384 [01:08<05:52,  5.69it/s]\u001b[A\n",
      " 16%|█▌        | 376/2384 [01:09<06:04,  5.51it/s]\u001b[A\n",
      " 16%|█▌        | 377/2384 [01:09<06:17,  5.31it/s]\u001b[A\n",
      " 16%|█▌        | 378/2384 [01:09<06:28,  5.16it/s]\u001b[A\n",
      " 16%|█▌        | 379/2384 [01:09<06:37,  5.04it/s]\u001b[A\n",
      " 16%|█▌        | 380/2384 [01:09<06:37,  5.04it/s]\u001b[A\n",
      " 16%|█▌        | 381/2384 [01:10<06:00,  5.55it/s]\u001b[A\n",
      " 16%|█▌        | 382/2384 [01:10<05:32,  6.02it/s]\u001b[A\n",
      " 16%|█▌        | 383/2384 [01:10<05:36,  5.94it/s]\u001b[A\n",
      " 16%|█▌        | 384/2384 [01:10<05:51,  5.70it/s]\u001b[A\n",
      " 16%|█▌        | 385/2384 [01:10<05:57,  5.59it/s]\u001b[A\n",
      " 16%|█▌        | 386/2384 [01:11<06:05,  5.46it/s]\u001b[A\n",
      " 16%|█▌        | 387/2384 [01:11<06:13,  5.35it/s]\u001b[A\n",
      " 16%|█▋        | 388/2384 [01:11<06:14,  5.33it/s]\u001b[A\n",
      " 16%|█▋        | 389/2384 [01:11<06:05,  5.46it/s]\u001b[A\n",
      " 16%|█▋        | 390/2384 [01:11<06:10,  5.38it/s]\u001b[A\n",
      " 16%|█▋        | 391/2384 [01:11<06:11,  5.37it/s]\u001b[A\n",
      " 16%|█▋        | 392/2384 [01:12<05:41,  5.83it/s]\u001b[A\n",
      " 16%|█▋        | 393/2384 [01:12<05:11,  6.39it/s]\u001b[A\n",
      " 17%|█▋        | 394/2384 [01:12<05:11,  6.39it/s]\u001b[A\n",
      " 17%|█▋        | 395/2384 [01:12<05:36,  5.91it/s]\u001b[A\n",
      " 17%|█▋        | 396/2384 [01:12<05:42,  5.81it/s]\u001b[A\n",
      " 17%|█▋        | 397/2384 [01:12<05:57,  5.56it/s]\u001b[A\n",
      " 17%|█▋        | 398/2384 [01:13<05:54,  5.60it/s]\u001b[A\n",
      " 17%|█▋        | 399/2384 [01:13<05:50,  5.66it/s]\u001b[A\n",
      " 17%|█▋        | 400/2384 [01:13<06:07,  5.41it/s]\u001b[A\n",
      " 17%|█▋        | 401/2384 [01:13<06:00,  5.50it/s]\u001b[A\n",
      " 17%|█▋        | 402/2384 [01:13<05:49,  5.66it/s]\u001b[A\n",
      " 17%|█▋        | 403/2384 [01:13<05:30,  5.99it/s]\u001b[A\n",
      " 17%|█▋        | 404/2384 [01:14<05:02,  6.54it/s]\u001b[A\n",
      " 17%|█▋        | 405/2384 [01:14<04:48,  6.85it/s]\u001b[A\n",
      " 17%|█▋        | 406/2384 [01:14<04:47,  6.88it/s]\u001b[A\n",
      " 17%|█▋        | 407/2384 [01:14<04:53,  6.75it/s]\u001b[A\n",
      " 17%|█▋        | 408/2384 [01:14<05:00,  6.58it/s]\u001b[A\n",
      " 17%|█▋        | 409/2384 [01:14<05:05,  6.47it/s]\u001b[A\n",
      " 17%|█▋        | 410/2384 [01:14<05:05,  6.47it/s]\u001b[A\n",
      " 17%|█▋        | 411/2384 [01:15<05:08,  6.40it/s]\u001b[A\n",
      " 17%|█▋        | 412/2384 [01:15<05:15,  6.25it/s]\u001b[A\n",
      " 17%|█▋        | 413/2384 [01:15<05:10,  6.35it/s]\u001b[A\n",
      " 17%|█▋        | 414/2384 [01:15<05:11,  6.31it/s]\u001b[A\n",
      " 17%|█▋        | 415/2384 [01:15<05:10,  6.35it/s]\u001b[A\n",
      " 17%|█▋        | 416/2384 [01:15<05:09,  6.37it/s]\u001b[A\n",
      " 17%|█▋        | 417/2384 [01:16<04:49,  6.79it/s]\u001b[A\n",
      " 18%|█▊        | 418/2384 [01:16<04:31,  7.25it/s]\u001b[A\n",
      " 18%|█▊        | 419/2384 [01:16<04:23,  7.45it/s]\u001b[A\n",
      " 18%|█▊        | 420/2384 [01:16<04:34,  7.16it/s]\u001b[A\n",
      " 18%|█▊        | 421/2384 [01:16<04:42,  6.95it/s]\u001b[A\n",
      " 18%|█▊        | 422/2384 [01:16<04:49,  6.77it/s]\u001b[A\n",
      " 18%|█▊        | 423/2384 [01:16<04:54,  6.66it/s]\u001b[A\n",
      " 18%|█▊        | 424/2384 [01:17<04:58,  6.57it/s]\u001b[A\n",
      " 18%|█▊        | 425/2384 [01:17<04:58,  6.56it/s]\u001b[A\n",
      " 18%|█▊        | 426/2384 [01:17<05:02,  6.47it/s]\u001b[A\n",
      " 18%|█▊        | 427/2384 [01:17<05:02,  6.48it/s]\u001b[A\n",
      " 18%|█▊        | 428/2384 [01:17<05:02,  6.46it/s]\u001b[A\n",
      " 18%|█▊        | 429/2384 [01:17<05:05,  6.41it/s]\u001b[A\n",
      " 18%|█▊        | 430/2384 [01:18<04:56,  6.60it/s]\u001b[A\n",
      " 18%|█▊        | 431/2384 [01:18<04:35,  7.10it/s]\u001b[A\n",
      " 18%|█▊        | 432/2384 [01:18<04:24,  7.38it/s]\u001b[A\n",
      " 18%|█▊        | 433/2384 [01:18<04:40,  6.96it/s]\u001b[A\n",
      " 18%|█▊        | 434/2384 [01:18<04:50,  6.72it/s]\u001b[A\n",
      " 18%|█▊        | 435/2384 [01:18<04:55,  6.60it/s]\u001b[A\n",
      " 18%|█▊        | 436/2384 [01:18<04:59,  6.51it/s]\u001b[A\n",
      " 18%|█▊        | 437/2384 [01:19<05:03,  6.41it/s]\u001b[A\n",
      " 18%|█▊        | 438/2384 [01:19<05:24,  6.00it/s]\u001b[A\n",
      " 18%|█▊        | 439/2384 [01:19<05:59,  5.41it/s]\u001b[A\n",
      " 18%|█▊        | 440/2384 [01:19<06:24,  5.06it/s]\u001b[A\n",
      " 18%|█▊        | 441/2384 [01:19<06:25,  5.04it/s]\u001b[A\n",
      " 19%|█▊        | 442/2384 [01:20<06:11,  5.23it/s]\u001b[A\n",
      " 19%|█▊        | 443/2384 [01:20<05:39,  5.72it/s]\u001b[A\n",
      " 19%|█▊        | 444/2384 [01:20<05:59,  5.40it/s]\u001b[A\n",
      " 19%|█▊        | 445/2384 [01:20<06:13,  5.19it/s]\u001b[A\n",
      " 19%|█▊        | 446/2384 [01:20<06:27,  5.00it/s]\u001b[A\n",
      " 19%|█▉        | 447/2384 [01:21<07:01,  4.59it/s]\u001b[A\n",
      " 19%|█▉        | 448/2384 [01:21<07:22,  4.38it/s]\u001b[A\n",
      " 19%|█▉        | 449/2384 [01:21<07:34,  4.26it/s]\u001b[A\n",
      " 19%|█▉        | 450/2384 [01:21<07:43,  4.17it/s]\u001b[A\n",
      " 19%|█▉        | 451/2384 [01:22<07:44,  4.16it/s]\u001b[A\n",
      " 19%|█▉        | 452/2384 [01:22<07:10,  4.49it/s]\u001b[A\n",
      " 19%|█▉        | 453/2384 [01:22<07:16,  4.43it/s]\u001b[A\n",
      " 19%|█▉        | 454/2384 [01:22<07:15,  4.44it/s]\u001b[A\n",
      " 19%|█▉        | 455/2384 [01:22<07:15,  4.43it/s]\u001b[A\n",
      " 19%|█▉        | 456/2384 [01:23<07:19,  4.38it/s]\u001b[A\n",
      " 19%|█▉        | 457/2384 [01:23<07:30,  4.28it/s]\u001b[A\n",
      " 19%|█▉        | 458/2384 [01:23<07:44,  4.15it/s]\u001b[A\n",
      " 19%|█▉        | 459/2384 [01:23<07:45,  4.14it/s]\u001b[A\n",
      " 19%|█▉        | 460/2384 [01:24<07:42,  4.16it/s]\u001b[A\n",
      " 19%|█▉        | 461/2384 [01:24<07:36,  4.22it/s]\u001b[A\n",
      " 19%|█▉        | 462/2384 [01:24<07:49,  4.10it/s]\u001b[A\n",
      " 19%|█▉        | 463/2384 [01:24<07:59,  4.01it/s]\u001b[A\n",
      " 19%|█▉        | 464/2384 [01:25<07:58,  4.01it/s]\u001b[A\n",
      " 20%|█▉        | 465/2384 [01:25<07:53,  4.05it/s]\u001b[A\n",
      " 20%|█▉        | 466/2384 [01:25<07:55,  4.04it/s]\u001b[A\n",
      " 20%|█▉        | 467/2384 [01:25<07:55,  4.03it/s]\u001b[A\n",
      " 20%|█▉        | 468/2384 [01:26<07:46,  4.11it/s]\u001b[A\n",
      " 20%|█▉        | 469/2384 [01:26<07:26,  4.29it/s]\u001b[A\n",
      " 20%|█▉        | 470/2384 [01:26<07:53,  4.05it/s]\u001b[A\n",
      " 20%|█▉        | 471/2384 [01:26<08:07,  3.93it/s]\u001b[A\n",
      " 20%|█▉        | 472/2384 [01:27<08:09,  3.91it/s]\u001b[A\n",
      " 20%|█▉        | 473/2384 [01:27<08:02,  3.96it/s]\u001b[A\n",
      " 20%|█▉        | 474/2384 [01:27<07:58,  3.99it/s]\u001b[A\n",
      " 20%|█▉        | 475/2384 [01:27<07:50,  4.06it/s]\u001b[A\n",
      " 20%|█▉        | 476/2384 [01:28<07:46,  4.09it/s]\u001b[A\n",
      " 20%|██        | 477/2384 [01:28<07:45,  4.09it/s]\u001b[A\n",
      " 20%|██        | 478/2384 [01:28<07:57,  3.99it/s]\u001b[A\n",
      " 20%|██        | 479/2384 [01:28<08:05,  3.93it/s]\u001b[A\n",
      " 20%|██        | 480/2384 [01:29<08:05,  3.92it/s]\u001b[A\n",
      " 20%|██        | 481/2384 [01:29<08:08,  3.90it/s]\u001b[A\n",
      " 20%|██        | 482/2384 [01:29<08:06,  3.91it/s]\u001b[A\n",
      " 20%|██        | 483/2384 [01:29<08:05,  3.92it/s]\u001b[A\n",
      " 20%|██        | 484/2384 [01:30<08:02,  3.94it/s]\u001b[A\n",
      " 20%|██        | 485/2384 [01:30<07:56,  3.98it/s]\u001b[A\n",
      " 20%|██        | 486/2384 [01:30<08:02,  3.93it/s]\u001b[A\n",
      " 20%|██        | 487/2384 [01:30<07:58,  3.97it/s]\u001b[A\n",
      " 20%|██        | 488/2384 [01:31<07:52,  4.02it/s]\u001b[A\n",
      " 21%|██        | 489/2384 [01:31<07:43,  4.09it/s]\u001b[A\n",
      " 21%|██        | 490/2384 [01:31<07:44,  4.07it/s]\u001b[A\n",
      " 21%|██        | 491/2384 [01:31<07:48,  4.04it/s]\u001b[A\n",
      " 21%|██        | 492/2384 [01:32<07:24,  4.26it/s]\u001b[A\n",
      " 21%|██        | 493/2384 [01:32<06:45,  4.66it/s]\u001b[A\n",
      " 21%|██        | 494/2384 [01:32<07:06,  4.43it/s]\u001b[A\n",
      " 21%|██        | 495/2384 [01:32<07:20,  4.29it/s]\u001b[A\n",
      " 21%|██        | 496/2384 [01:33<07:38,  4.12it/s]\u001b[A\n",
      " 21%|██        | 497/2384 [01:33<07:59,  3.93it/s]\u001b[A\n",
      " 21%|██        | 498/2384 [01:33<08:00,  3.92it/s]\u001b[A\n",
      " 21%|██        | 499/2384 [01:33<07:13,  4.35it/s]\u001b[A\n",
      " 21%|██        | 500/2384 [01:33<07:10,  4.38it/s]\u001b[A\n",
      " 21%|██        | 501/2384 [01:34<06:59,  4.49it/s]\u001b[A\n",
      " 21%|██        | 502/2384 [01:34<07:10,  4.37it/s]\u001b[A\n",
      " 21%|██        | 503/2384 [01:34<07:35,  4.13it/s]\u001b[A\n",
      " 21%|██        | 504/2384 [01:34<07:37,  4.11it/s]\u001b[A\n",
      " 21%|██        | 505/2384 [01:35<07:45,  4.04it/s]\u001b[A\n",
      " 21%|██        | 506/2384 [01:35<07:55,  3.95it/s]\u001b[A\n",
      " 21%|██▏       | 507/2384 [01:35<07:52,  3.98it/s]\u001b[A\n",
      " 21%|██▏       | 508/2384 [01:35<07:22,  4.24it/s]\u001b[A\n",
      " 21%|██▏       | 509/2384 [01:36<07:06,  4.40it/s]\u001b[A\n",
      " 21%|██▏       | 510/2384 [01:36<06:55,  4.51it/s]\u001b[A\n",
      " 21%|██▏       | 511/2384 [01:36<07:12,  4.33it/s]\u001b[A\n",
      " 21%|██▏       | 512/2384 [01:36<07:43,  4.04it/s]\u001b[A\n",
      " 22%|██▏       | 513/2384 [01:37<07:26,  4.19it/s]\u001b[A\n",
      " 22%|██▏       | 514/2384 [01:37<07:06,  4.39it/s]\u001b[A\n",
      " 22%|██▏       | 515/2384 [01:37<06:33,  4.75it/s]\u001b[A\n",
      " 22%|██▏       | 516/2384 [01:37<06:19,  4.92it/s]\u001b[A\n",
      " 22%|██▏       | 517/2384 [01:37<06:47,  4.59it/s]\u001b[A\n",
      " 22%|██▏       | 518/2384 [01:38<06:05,  5.10it/s]\u001b[A\n",
      " 22%|██▏       | 519/2384 [01:38<05:27,  5.69it/s]\u001b[A\n",
      " 22%|██▏       | 520/2384 [01:38<05:28,  5.68it/s]\u001b[A\n",
      " 22%|██▏       | 521/2384 [01:38<05:28,  5.67it/s]\u001b[A\n",
      " 22%|██▏       | 522/2384 [01:38<05:32,  5.60it/s]\u001b[A\n",
      " 22%|██▏       | 523/2384 [01:38<05:44,  5.40it/s]\u001b[A\n",
      " 22%|██▏       | 524/2384 [01:39<05:49,  5.32it/s]\u001b[A\n",
      " 22%|██▏       | 525/2384 [01:39<06:00,  5.16it/s]\u001b[A\n",
      " 22%|██▏       | 526/2384 [01:39<05:57,  5.19it/s]\u001b[A\n",
      " 22%|██▏       | 527/2384 [01:39<05:55,  5.22it/s]\u001b[A\n",
      " 22%|██▏       | 528/2384 [01:39<05:50,  5.29it/s]\u001b[A\n",
      " 22%|██▏       | 529/2384 [01:40<05:28,  5.65it/s]\u001b[A\n",
      " 22%|██▏       | 530/2384 [01:40<05:00,  6.17it/s]\u001b[A\n",
      " 22%|██▏       | 531/2384 [01:40<04:50,  6.37it/s]\u001b[A\n",
      " 22%|██▏       | 532/2384 [01:40<05:06,  6.03it/s]\u001b[A\n",
      " 22%|██▏       | 533/2384 [01:40<05:22,  5.74it/s]\u001b[A\n",
      " 22%|██▏       | 534/2384 [01:40<05:32,  5.57it/s]\u001b[A\n",
      " 22%|██▏       | 535/2384 [01:41<05:32,  5.56it/s]\u001b[A\n",
      " 22%|██▏       | 536/2384 [01:41<05:38,  5.47it/s]\u001b[A\n",
      " 23%|██▎       | 537/2384 [01:41<05:35,  5.50it/s]\u001b[A\n",
      " 23%|██▎       | 538/2384 [01:41<05:38,  5.46it/s]\u001b[A\n",
      " 23%|██▎       | 539/2384 [01:41<05:55,  5.19it/s]\u001b[A\n",
      " 23%|██▎       | 540/2384 [01:42<05:41,  5.39it/s]\u001b[A\n",
      " 23%|██▎       | 541/2384 [01:42<05:18,  5.79it/s]\u001b[A\n",
      " 23%|██▎       | 542/2384 [01:42<04:58,  6.18it/s]\u001b[A\n",
      " 23%|██▎       | 543/2384 [01:42<05:13,  5.87it/s]\u001b[A\n",
      " 23%|██▎       | 544/2384 [01:42<05:19,  5.76it/s]\u001b[A\n",
      " 23%|██▎       | 545/2384 [01:42<05:28,  5.60it/s]\u001b[A\n",
      " 23%|██▎       | 546/2384 [01:43<05:41,  5.39it/s]\u001b[A\n",
      " 23%|██▎       | 547/2384 [01:43<05:49,  5.25it/s]\u001b[A"
     ]
    }
   ],
   "source": [
    "# Train model\n",
    "for episode in range(1, episodes + 1):\n",
    "    print(\"Episode: {}/{}\".format(episode, episodes))\n",
    "    state = state_creator(data, 0, window_size + 1)\n",
    "    total_profit = 0\n",
    "    trader.inventory = []\n",
    "    \n",
    "    for t in tqdm(range(data_samples)):\n",
    "        \n",
    "        action = trader.trade(state)\n",
    "        next_state = state_creator(data, t+1, window_size+1)\n",
    "        reward = 0\n",
    "        \n",
    "        if action == 1:\n",
    "            trader.inventory.append(data[t])\n",
    "            \n",
    "        elif action ==2 and len(trader.inventory)>0:\n",
    "            buy_price = trader.inventory.pop(0)\n",
    "            \n",
    "            reward = max(data[t] - buy_price, 0)\n",
    "            total_profit += data[t] - buy_price\n",
    "        \n",
    "        if t == data_samples - 1:\n",
    "            done = True\n",
    "        else:\n",
    "            done = False\n",
    "        \n",
    "        trader.memory.append([state, action, reward, next_state, done])\n",
    "        \n",
    "        state = next_state\n",
    "        \n",
    "        if done:\n",
    "            print(\"Total Profit: {}\".format(total_profit))\n",
    "        \n",
    "        if len(trader.memory)>batch_size:\n",
    "            trader.batch_train(batch_size)\n",
    "            \n",
    "        if episode % 10 == 0:\n",
    "            trader.model.save(\"ai_trader_{}.h5\".format(episode))\n",
    "    "
   ]
  },
  {
   "cell_type": "markdown",
   "metadata": {},
   "source": [
    "## Generative Adversial Networks (GAN)\n",
    "\n",
    "<img src=https://i.ibb.co/HN3DwnS/gan.png>"
   ]
  },
  {
   "cell_type": "markdown",
   "metadata": {},
   "source": [
    "#### Step1: Install Modules and import dataset"
   ]
  },
  {
   "cell_type": "code",
   "execution_count": 53,
   "metadata": {},
   "outputs": [
    {
     "data": {
      "text/plain": [
       "'2.0.0-beta1'"
      ]
     },
     "execution_count": 53,
     "metadata": {},
     "output_type": "execute_result"
    }
   ],
   "source": [
    "import os\n",
    "import PIL\n",
    "import numpy as np\n",
    "import tensorflow as tf\n",
    "import matplotlib.pyplot as plt\n",
    "\n",
    "%matplotlib inline\n",
    "tf.__version__"
   ]
  },
  {
   "cell_type": "code",
   "execution_count": 54,
   "metadata": {},
   "outputs": [],
   "source": [
    "# Load dataset\n",
    "from tensorflow.keras.datasets import mnist\n",
    "(X_train, y_train), (X_test, y_test) = mnist.load_data()"
   ]
  },
  {
   "cell_type": "code",
   "execution_count": 55,
   "metadata": {},
   "outputs": [],
   "source": [
    "# Preprocess data\n",
    "X_test =  X_test / 127.5 - 1.\n",
    "X_train =  X_train / 127.5 - 1."
   ]
  },
  {
   "cell_type": "markdown",
   "metadata": {},
   "source": [
    "#### Step2: Building model"
   ]
  },
  {
   "cell_type": "code",
   "execution_count": 58,
   "metadata": {},
   "outputs": [],
   "source": [
    "# Generator network\n",
    "def build_generator(latent_space):\n",
    "    \n",
    "    model = tf.keras.models.Sequential()\n",
    "    \n",
    "    model.add(tf.keras.layers.Dense(128 * 7 * 7, activation=\"relu\", input_dim=latent_space))\n",
    "    model.add(tf.keras.layers.Reshape((7, 7, 128)))\n",
    "    model.add(tf.keras.layers.UpSampling2D())\n",
    "    model.add(tf.keras.layers.Conv2D(128, kernel_size=3, padding=\"same\"))\n",
    "    model.add(tf.keras.layers.BatchNormalization(momentum=0.8))\n",
    "    model.add(tf.keras.layers.Activation(\"relu\"))\n",
    "    model.add(tf.keras.layers.UpSampling2D())\n",
    "    model.add(tf.keras.layers.Conv2D(64, kernel_size=3, padding=\"same\"))\n",
    "    model.add(tf.keras.layers.BatchNormalization(momentum=0.8))\n",
    "    model.add(tf.keras.layers.Activation(\"relu\"))\n",
    "    model.add(tf.keras.layers.Conv2D(1, kernel_size=3, padding=\"same\"))\n",
    "    model.add(tf.keras.layers.Activation(\"tanh\"))\n",
    "\n",
    "    model.summary()\n",
    "\n",
    "    noise = tf.keras.layers.Input(shape=(latent_space,))\n",
    "    img = model(noise)\n",
    "\n",
    "    return tf.keras.models.Model(noise, img)"
   ]
  },
  {
   "cell_type": "code",
   "execution_count": 59,
   "metadata": {},
   "outputs": [],
   "source": [
    "# Discriminator network\n",
    "def build_discriminator():\n",
    "\n",
    "    model = tf.keras.models.Sequential()\n",
    "\n",
    "    model.add(tf.keras.layers.Conv2D(32, kernel_size=3, strides=2, input_shape=[28, 28, 1], padding=\"same\"))\n",
    "    model.add(tf.keras.layers.LeakyReLU(alpha=0.2))\n",
    "    model.add(tf.keras.layers.Dropout(0.25))\n",
    "    \n",
    "    model.add(tf.keras.layers.Conv2D(64, kernel_size=3, strides=2, padding=\"same\"))\n",
    "    model.add(tf.keras.layers.ZeroPadding2D(padding=((0,1),(0,1))))\n",
    "    model.add(tf.keras.layers.BatchNormalization(momentum=0.8))\n",
    "    model.add(tf.keras.layers.LeakyReLU(alpha=0.2))\n",
    "    model.add(tf.keras.layers.Dropout(0.25))\n",
    "    \n",
    "    model.add(tf.keras.layers.Conv2D(128, kernel_size=3, strides=2, padding=\"same\"))\n",
    "    model.add(tf.keras.layers.BatchNormalization(momentum=0.8))\n",
    "    model.add(tf.keras.layers.LeakyReLU(alpha=0.2))\n",
    "    model.add(tf.keras.layers.Dropout(0.25))\n",
    "    \n",
    "    model.add(tf.keras.layers.Conv2D(256, kernel_size=3, strides=1, padding=\"same\"))\n",
    "    model.add(tf.keras.layers.BatchNormalization(momentum=0.8))\n",
    "    model.add(tf.keras.layers.LeakyReLU(alpha=0.2))\n",
    "    model.add(tf.keras.layers.Dropout(0.25))\n",
    "    \n",
    "    model.add(tf.keras.layers.Flatten())\n",
    "    model.add(tf.keras.layers.Dense(1, activation='sigmoid'))\n",
    "\n",
    "    model.summary()\n",
    "\n",
    "    img = tf.keras.layers.Input(shape=[28, 28, 1])\n",
    "    validity = model(img)\n",
    "\n",
    "    return tf.keras.models.Model(img, validity)"
   ]
  },
  {
   "cell_type": "code",
   "execution_count": 62,
   "metadata": {},
   "outputs": [
    {
     "name": "stdout",
     "output_type": "stream",
     "text": [
      "Model: \"sequential_2\"\n",
      "_________________________________________________________________\n",
      "Layer (type)                 Output Shape              Param #   \n",
      "=================================================================\n",
      "conv2d_233 (Conv2D)          (None, 14, 14, 32)        320       \n",
      "_________________________________________________________________\n",
      "leaky_re_lu_224 (LeakyReLU)  (None, 14, 14, 32)        0         \n",
      "_________________________________________________________________\n",
      "dropout_8 (Dropout)          (None, 14, 14, 32)        0         \n",
      "_________________________________________________________________\n",
      "conv2d_234 (Conv2D)          (None, 7, 7, 64)          18496     \n",
      "_________________________________________________________________\n",
      "zero_padding2d_17 (ZeroPaddi (None, 8, 8, 64)          0         \n",
      "_________________________________________________________________\n",
      "batch_normalization_222 (Bat (None, 8, 8, 64)          256       \n",
      "_________________________________________________________________\n",
      "leaky_re_lu_225 (LeakyReLU)  (None, 8, 8, 64)          0         \n",
      "_________________________________________________________________\n",
      "dropout_9 (Dropout)          (None, 8, 8, 64)          0         \n",
      "_________________________________________________________________\n",
      "conv2d_235 (Conv2D)          (None, 4, 4, 128)         73856     \n",
      "_________________________________________________________________\n",
      "batch_normalization_223 (Bat (None, 4, 4, 128)         512       \n",
      "_________________________________________________________________\n",
      "leaky_re_lu_226 (LeakyReLU)  (None, 4, 4, 128)         0         \n",
      "_________________________________________________________________\n",
      "dropout_10 (Dropout)         (None, 4, 4, 128)         0         \n",
      "_________________________________________________________________\n",
      "conv2d_236 (Conv2D)          (None, 4, 4, 256)         295168    \n",
      "_________________________________________________________________\n",
      "batch_normalization_224 (Bat (None, 4, 4, 256)         1024      \n",
      "_________________________________________________________________\n",
      "leaky_re_lu_227 (LeakyReLU)  (None, 4, 4, 256)         0         \n",
      "_________________________________________________________________\n",
      "dropout_11 (Dropout)         (None, 4, 4, 256)         0         \n",
      "_________________________________________________________________\n",
      "flatten_2 (Flatten)          (None, 4096)              0         \n",
      "_________________________________________________________________\n",
      "dense_2 (Dense)              (None, 1)                 4097      \n",
      "=================================================================\n",
      "Total params: 393,729\n",
      "Trainable params: 392,833\n",
      "Non-trainable params: 896\n",
      "_________________________________________________________________\n",
      "Model: \"sequential_3\"\n",
      "_________________________________________________________________\n",
      "Layer (type)                 Output Shape              Param #   \n",
      "=================================================================\n",
      "dense_3 (Dense)              (None, 6272)              633472    \n",
      "_________________________________________________________________\n",
      "reshape (Reshape)            (None, 7, 7, 128)         0         \n",
      "_________________________________________________________________\n",
      "up_sampling2d_6 (UpSampling2 (None, 14, 14, 128)       0         \n",
      "_________________________________________________________________\n",
      "conv2d_237 (Conv2D)          (None, 14, 14, 128)       147584    \n",
      "_________________________________________________________________\n",
      "batch_normalization_225 (Bat (None, 14, 14, 128)       512       \n",
      "_________________________________________________________________\n",
      "activation (Activation)      (None, 14, 14, 128)       0         \n",
      "_________________________________________________________________\n",
      "up_sampling2d_7 (UpSampling2 (None, 28, 28, 128)       0         \n",
      "_________________________________________________________________\n",
      "conv2d_238 (Conv2D)          (None, 28, 28, 64)        73792     \n",
      "_________________________________________________________________\n",
      "batch_normalization_226 (Bat (None, 28, 28, 64)        256       \n",
      "_________________________________________________________________\n",
      "activation_1 (Activation)    (None, 28, 28, 64)        0         \n",
      "_________________________________________________________________\n",
      "conv2d_239 (Conv2D)          (None, 28, 28, 1)         577       \n",
      "_________________________________________________________________\n",
      "activation_2 (Activation)    (None, 28, 28, 1)         0         \n",
      "=================================================================\n",
      "Total params: 856,193\n",
      "Trainable params: 855,809\n",
      "Non-trainable params: 384\n",
      "_________________________________________________________________\n"
     ]
    }
   ],
   "source": [
    "# Training GAN\n",
    "optimizer = tf.keras.optimizers.Adam(0.0002, 0.5)\n",
    "\n",
    "discriminator = build_discriminator()\n",
    "\n",
    "discriminator.compile(loss='binary_crossentropy',\n",
    "            optimizer=optimizer,\n",
    "            metrics=['accuracy'])\n",
    "\n",
    "generator = build_generator(100)"
   ]
  },
  {
   "cell_type": "code",
   "execution_count": 63,
   "metadata": {},
   "outputs": [],
   "source": [
    "# Generator takes noise as input and generate image\n",
    "z = tf.keras.layers.Input(shape=(100,))\n",
    "img = generator(z)"
   ]
  },
  {
   "cell_type": "code",
   "execution_count": 64,
   "metadata": {},
   "outputs": [],
   "source": [
    "# For the combined model we will only train the generator\n",
    "discriminator.trainable = False\n",
    "\n",
    "# The discriminator takes generated images as input and determines validity\n",
    "valid = discriminator(img)"
   ]
  },
  {
   "cell_type": "code",
   "execution_count": 66,
   "metadata": {},
   "outputs": [
    {
     "name": "stdout",
     "output_type": "stream",
     "text": [
      "Model: \"model_5\"\n",
      "_________________________________________________________________\n",
      "Layer (type)                 Output Shape              Param #   \n",
      "=================================================================\n",
      "input_35 (InputLayer)        [(None, 100)]             0         \n",
      "_________________________________________________________________\n",
      "model_3 (Model)              (None, 28, 28, 1)         856193    \n",
      "_________________________________________________________________\n",
      "model_2 (Model)              (None, 1)                 393729    \n",
      "=================================================================\n",
      "Total params: 1,249,922\n",
      "Trainable params: 855,809\n",
      "Non-trainable params: 394,113\n",
      "_________________________________________________________________\n"
     ]
    }
   ],
   "source": [
    "gan = tf.keras.models.Model(z, valid)\n",
    "gan.compile(loss='binary_crossentropy', optimizer=optimizer)\n",
    "gan.summary()"
   ]
  },
  {
   "cell_type": "code",
   "execution_count": null,
   "metadata": {},
   "outputs": [
    {
     "name": "stderr",
     "output_type": "stream",
     "text": [
      "W0713 09:50:18.007612 4636747200 training.py:1952] Discrepancy between trainable weights and collected trainable weights, did you set `model.trainable` without calling `model.compile` after ?\n",
      "W0713 09:50:18.116062 4636747200 training.py:1952] Discrepancy between trainable weights and collected trainable weights, did you set `model.trainable` without calling `model.compile` after ?\n"
     ]
    },
    {
     "name": "stdout",
     "output_type": "stream",
     "text": [
      "Disc loss: 0.697261393070221  ||  Generator loss: 0.6849234104156494\n",
      "Disc loss: 0.6977603435516357  ||  Generator loss: 0.6833118200302124\n",
      "Disc loss: 0.7011457681655884  ||  Generator loss: 0.6787381768226624\n",
      "Disc loss: 0.6975486278533936  ||  Generator loss: 0.6804988980293274\n",
      "Disc loss: 0.7033783793449402  ||  Generator loss: 0.6763201951980591\n",
      "Disc loss: 0.7027648687362671  ||  Generator loss: 0.6772928833961487\n",
      "Disc loss: 0.7015397548675537  ||  Generator loss: 0.6765212416648865\n",
      "Disc loss: 0.7015007138252258  ||  Generator loss: 0.6733456254005432\n",
      "Disc loss: 0.7024542093276978  ||  Generator loss: 0.6703711152076721\n",
      "Disc loss: 0.701167106628418  ||  Generator loss: 0.6709948778152466\n",
      "Disc loss: 0.7019504308700562  ||  Generator loss: 0.6722003817558289\n",
      "Disc loss: 0.7002676725387573  ||  Generator loss: 0.6791378259658813\n",
      "Disc loss: 0.7002077102661133  ||  Generator loss: 0.681936502456665\n",
      "Disc loss: 0.6978905200958252  ||  Generator loss: 0.6876804828643799\n",
      "Disc loss: 0.6965789794921875  ||  Generator loss: 0.6877527832984924\n",
      "Disc loss: 0.6920584440231323  ||  Generator loss: 0.7006142139434814\n",
      "Disc loss: 0.6927840709686279  ||  Generator loss: 0.7005409002304077\n",
      "Disc loss: 0.6921371817588806  ||  Generator loss: 0.7041242718696594\n",
      "Disc loss: 0.6936211585998535  ||  Generator loss: 0.7030408978462219\n",
      "Disc loss: 0.6928172707557678  ||  Generator loss: 0.7039491534233093\n",
      "Disc loss: 0.6924010515213013  ||  Generator loss: 0.7025555968284607\n",
      "Disc loss: 0.6936841011047363  ||  Generator loss: 0.6969226598739624\n",
      "Disc loss: 0.6923869848251343  ||  Generator loss: 0.6994619965553284\n",
      "Disc loss: 0.6951937675476074  ||  Generator loss: 0.695363461971283\n",
      "Disc loss: 0.691567063331604  ||  Generator loss: 0.7004629373550415\n",
      "Disc loss: 0.6954962611198425  ||  Generator loss: 0.6936625838279724\n",
      "Disc loss: 0.6974011659622192  ||  Generator loss: 0.6951678395271301\n",
      "Disc loss: 0.6979161500930786  ||  Generator loss: 0.6877720355987549\n"
     ]
    }
   ],
   "source": [
    "epochs = 40\n",
    "batch_size = 200\n",
    "\n",
    "valid = np.ones((batch_size, 1))\n",
    "fake = np.zeros((batch_size, 1))\n",
    "\n",
    "for epoch in range(epochs):\n",
    "  \n",
    "    # Select a random half of images\n",
    "    idx = np.random.randint(0, X_train.shape[0], batch_size)\n",
    "    imgs = X_train[idx].reshape(-1, 28, 28, 1)\n",
    "\n",
    "    # Sample noise and generate a batch of new images\n",
    "    noise = np.random.normal(0, 1, (batch_size, 100))\n",
    "    gen_imgs = generator.predict(noise)\n",
    "\n",
    "    # Train the discriminator (real classified as ones and generated as zeros)\n",
    "    d_loss_real = discriminator.train_on_batch(imgs, valid)\n",
    "    d_loss_fake = discriminator.train_on_batch(gen_imgs, fake)\n",
    "    d_loss = 0.5 * np.add(d_loss_real, d_loss_fake)\n",
    "\n",
    "    # Train the generator (wants discriminator to mistake images as real)\n",
    "    g_loss = gan.train_on_batch(noise, valid)\n",
    "\n",
    "    # Plot the progress\n",
    "    print (\"Disc loss: {}  ||  Generator loss: {}\".format(d_loss[0], g_loss))"
   ]
  },
  {
   "cell_type": "code",
   "execution_count": 76,
   "metadata": {},
   "outputs": [
    {
     "data": {
      "image/png": "[encoded data removed]",
      "text/plain": [
       "<Figure size 576x576 with 20 Axes>"
      ]
     },
     "metadata": {
      "needs_background": "light"
     },
     "output_type": "display_data"
    }
   ],
   "source": [
    "# Generating images with GAN\n",
    "w=10\n",
    "h=10\n",
    "fig=plt.figure(figsize=(8, 8))\n",
    "columns = 4\n",
    "rows = 5\n",
    "for i in range(1, columns*rows +1):\n",
    "    img = generator.predict(np.random.normal(0, 1, (1, 100)))\n",
    "    fig.add_subplot(rows, columns, i)\n",
    "    plt.imshow(img[0].reshape(28, 28), cmap='gray')\n",
    "plt.show()"
   ]
  },
  {
   "cell_type": "markdown",
   "metadata": {},
   "source": [
    "## AutoEncoders\n",
    "\n",
    "<img src=https://i.ibb.co/8PYwxbB/autoencoder.png>"
   ]
  },
  {
   "cell_type": "code",
   "execution_count": 77,
   "metadata": {},
   "outputs": [
    {
     "data": {
      "text/plain": [
       "<matplotlib.image.AxesImage at 0x19aa55bd0>"
      ]
     },
     "execution_count": 77,
     "metadata": {},
     "output_type": "execute_result"
    },
    {
     "data": {
      "image/png": "[encoded data removed]",
      "text/plain": [
       "<Figure size 432x288 with 1 Axes>"
      ]
     },
     "metadata": {
      "needs_background": "light"
     },
     "output_type": "display_data"
    }
   ],
   "source": [
    "# Load data\n",
    "(X_train, y_train),(X_test, y_test) = mnist.load_data()\n",
    "plt.imshow(X_train[0], cmap=\"gray\")"
   ]
  },
  {
   "cell_type": "code",
   "execution_count": 78,
   "metadata": {},
   "outputs": [],
   "source": [
    "# Preprocess data\n",
    "X_train = X_train / 255.\n",
    "X_test = X_test / 255."
   ]
  },
  {
   "cell_type": "code",
   "execution_count": 84,
   "metadata": {},
   "outputs": [],
   "source": [
    "# Generate noise dataset\n",
    "noise_factor=0.3\n",
    "noise_dataset=[]\n",
    "\n",
    "for img in X_train:\n",
    "    noisy_image = img + noise_factor * np.random.randn(*img.shape)\n",
    "    noisy_image = np.clip(noisy_image, 0., 1.)\n",
    "    noise_dataset.append(noisy_image)\n",
    "    "
   ]
  },
  {
   "cell_type": "code",
   "execution_count": 85,
   "metadata": {},
   "outputs": [
    {
     "data": {
      "text/plain": [
       "(60000, 28, 28)"
      ]
     },
     "execution_count": 85,
     "metadata": {},
     "output_type": "execute_result"
    }
   ],
   "source": [
    "noise_dataset = np.array(noise_dataset)\n",
    "noise_dataset.shape"
   ]
  },
  {
   "cell_type": "code",
   "execution_count": 86,
   "metadata": {},
   "outputs": [
    {
     "data": {
      "text/plain": [
       "<matplotlib.image.AxesImage at 0x17e4fe390>"
      ]
     },
     "execution_count": 86,
     "metadata": {},
     "output_type": "execute_result"
    },
    {
     "data": {
      "image/png": "[encoded data removed]",
      "text/plain": [
       "<Figure size 432x288 with 1 Axes>"
      ]
     },
     "metadata": {
      "needs_background": "light"
     },
     "output_type": "display_data"
    }
   ],
   "source": [
    "plt.imshow(noise_dataset[1], cmap=\"gray\")"
   ]
  },
  {
   "cell_type": "code",
   "execution_count": 87,
   "metadata": {},
   "outputs": [
    {
     "data": {
      "text/plain": [
       "(10000, 28, 28)"
      ]
     },
     "execution_count": 87,
     "metadata": {},
     "output_type": "execute_result"
    }
   ],
   "source": [
    "noise_test_set = []\n",
    "for img in X_test:\n",
    "    noisy_image = img + noise_factor * np.random.randn(*img.shape)\n",
    "    noisy_image = np.clip(noisy_image, 0., 1.)\n",
    "    noise_test_set.append(noisy_image)\n",
    "    \n",
    "    \n",
    "noise_test_set = np.array(noise_test_set)\n",
    "noise_test_set.shape"
   ]
  },
  {
   "cell_type": "code",
   "execution_count": 88,
   "metadata": {},
   "outputs": [
    {
     "name": "stdout",
     "output_type": "stream",
     "text": [
      "Model: \"sequential_4\"\n",
      "_________________________________________________________________\n",
      "Layer (type)                 Output Shape              Param #   \n",
      "=================================================================\n",
      "conv2d_240 (Conv2D)          (None, 14, 14, 16)        160       \n",
      "_________________________________________________________________\n",
      "conv2d_241 (Conv2D)          (None, 7, 7, 8)           1160      \n",
      "_________________________________________________________________\n",
      "conv2d_242 (Conv2D)          (None, 7, 7, 8)           584       \n",
      "_________________________________________________________________\n",
      "conv2d_transpose (Conv2DTran (None, 14, 14, 16)        1168      \n",
      "_________________________________________________________________\n",
      "conv2d_transpose_1 (Conv2DTr (None, 28, 28, 1)         145       \n",
      "=================================================================\n",
      "Total params: 3,217\n",
      "Trainable params: 3,217\n",
      "Non-trainable params: 0\n",
      "_________________________________________________________________\n"
     ]
    }
   ],
   "source": [
    "# Define AutoEncoder\n",
    "model = tf.keras.models.Sequential()\n",
    "#Encoder\n",
    "model.add(tf.keras.layers.Conv2D(filters=16, kernel_size=3, strides=2, padding=\"same\", input_shape=(28, 28, 1)))\n",
    "model.add(tf.keras.layers.Conv2D(filters=8, kernel_size=3, strides=2, padding=\"same\"))\n",
    "#Encoded image\n",
    "model.add(tf.keras.layers.Conv2D(filters=8, kernel_size=3, strides=1, padding=\"same\"))\n",
    "#Decoder\n",
    "model.add(tf.keras.layers.Conv2DTranspose(filters=16, kernel_size=3, strides=2, padding=\"same\"))\n",
    "model.add(tf.keras.layers.Conv2DTranspose(filters=1, kernel_size=3, strides=2, activation='sigmoid', padding=\"same\"))\n",
    "model.compile(loss='binary_crossentropy', optimizer=tf.keras.optimizers.Adam(lr=0.001))\n",
    "model.summary()"
   ]
  },
  {
   "cell_type": "code",
   "execution_count": 89,
   "metadata": {},
   "outputs": [
    {
     "name": "stdout",
     "output_type": "stream",
     "text": [
      "Train on 60000 samples, validate on 10000 samples\n",
      "Epoch 1/50\n",
      "60000/60000 [==============================] - 8s 136us/sample - loss: 0.2520 - val_loss: 0.1107\n",
      "Epoch 2/50\n",
      "60000/60000 [==============================] - 7s 122us/sample - loss: 0.1029 - val_loss: 0.0955\n",
      "Epoch 3/50\n",
      "60000/60000 [==============================] - 7s 117us/sample - loss: 0.0946 - val_loss: 0.0918\n",
      "Epoch 4/50\n",
      "60000/60000 [==============================] - 7s 112us/sample - loss: 0.0922 - val_loss: 0.0903\n",
      "Epoch 5/50\n",
      "60000/60000 [==============================] - 8s 126us/sample - loss: 0.0909 - val_loss: 0.0893\n",
      "Epoch 6/50\n",
      "60000/60000 [==============================] - 8s 129us/sample - loss: 0.0899 - val_loss: 0.0884\n",
      "Epoch 7/50\n",
      "60000/60000 [==============================] - 8s 125us/sample - loss: 0.0891 - val_loss: 0.0877\n",
      "Epoch 8/50\n",
      "60000/60000 [==============================] - 7s 112us/sample - loss: 0.0885 - val_loss: 0.0872\n",
      "Epoch 9/50\n",
      "60000/60000 [==============================] - 7s 119us/sample - loss: 0.0880 - val_loss: 0.0867\n",
      "Epoch 10/50\n",
      "60000/60000 [==============================] - 7s 117us/sample - loss: 0.0876 - val_loss: 0.0865\n",
      "Epoch 11/50\n",
      "60000/60000 [==============================] - 7s 111us/sample - loss: 0.0873 - val_loss: 0.0862\n",
      "Epoch 12/50\n",
      "60000/60000 [==============================] - 6s 105us/sample - loss: 0.0870 - val_loss: 0.0859\n",
      "Epoch 13/50\n",
      "60000/60000 [==============================] - 6s 103us/sample - loss: 0.0868 - val_loss: 0.0857\n",
      "Epoch 14/50\n",
      "60000/60000 [==============================] - 7s 109us/sample - loss: 0.0866 - val_loss: 0.0855\n",
      "Epoch 15/50\n",
      "60000/60000 [==============================] - 8s 130us/sample - loss: 0.0864 - val_loss: 0.0854\n",
      "Epoch 16/50\n",
      "60000/60000 [==============================] - 8s 127us/sample - loss: 0.0862 - val_loss: 0.0852\n",
      "Epoch 17/50\n",
      "60000/60000 [==============================] - 7s 119us/sample - loss: 0.0861 - val_loss: 0.0852\n",
      "Epoch 18/50\n",
      "60000/60000 [==============================] - 7s 120us/sample - loss: 0.0860 - val_loss: 0.0850\n",
      "Epoch 19/50\n",
      "60000/60000 [==============================] - 8s 125us/sample - loss: 0.0859 - val_loss: 0.0850\n",
      "Epoch 20/50\n",
      "60000/60000 [==============================] - 7s 123us/sample - loss: 0.0859 - val_loss: 0.0849\n",
      "Epoch 21/50\n",
      "60000/60000 [==============================] - 7s 122us/sample - loss: 0.0858 - val_loss: 0.0849\n",
      "Epoch 22/50\n",
      "60000/60000 [==============================] - 7s 121us/sample - loss: 0.0857 - val_loss: 0.0848\n",
      "Epoch 23/50\n",
      "60000/60000 [==============================] - 7s 119us/sample - loss: 0.0857 - val_loss: 0.0848\n",
      "Epoch 24/50\n",
      "60000/60000 [==============================] - 7s 122us/sample - loss: 0.0856 - val_loss: 0.0848\n",
      "Epoch 25/50\n",
      "60000/60000 [==============================] - 7s 116us/sample - loss: 0.0856 - val_loss: 0.0847\n",
      "Epoch 26/50\n",
      "60000/60000 [==============================] - 7s 117us/sample - loss: 0.0855 - val_loss: 0.0848\n",
      "Epoch 27/50\n",
      "60000/60000 [==============================] - 7s 111us/sample - loss: 0.0855 - val_loss: 0.0846\n",
      "Epoch 28/50\n",
      "60000/60000 [==============================] - 6s 105us/sample - loss: 0.0855 - val_loss: 0.0846\n",
      "Epoch 29/50\n",
      "60000/60000 [==============================] - 6s 105us/sample - loss: 0.0854 - val_loss: 0.0846\n",
      "Epoch 30/50\n",
      "60000/60000 [==============================] - 7s 114us/sample - loss: 0.0854 - val_loss: 0.0845\n",
      "Epoch 31/50\n",
      "60000/60000 [==============================] - 7s 117us/sample - loss: 0.0854 - val_loss: 0.0846\n",
      "Epoch 32/50\n",
      "60000/60000 [==============================] - 7s 117us/sample - loss: 0.0853 - val_loss: 0.0845\n",
      "Epoch 33/50\n",
      "60000/60000 [==============================] - 7s 117us/sample - loss: 0.0853 - val_loss: 0.0845\n",
      "Epoch 34/50\n",
      "60000/60000 [==============================] - 7s 117us/sample - loss: 0.0853 - val_loss: 0.0844\n",
      "Epoch 35/50\n",
      "60000/60000 [==============================] - 7s 118us/sample - loss: 0.0853 - val_loss: 0.0844\n",
      "Epoch 36/50\n",
      "60000/60000 [==============================] - 7s 117us/sample - loss: 0.0853 - val_loss: 0.0844\n",
      "Epoch 37/50\n",
      "60000/60000 [==============================] - 7s 116us/sample - loss: 0.0853 - val_loss: 0.0844\n",
      "Epoch 38/50\n",
      "60000/60000 [==============================] - 7s 115us/sample - loss: 0.0852 - val_loss: 0.0844\n",
      "Epoch 39/50\n",
      "60000/60000 [==============================] - 7s 117us/sample - loss: 0.0852 - val_loss: 0.0844\n",
      "Epoch 40/50\n",
      "60000/60000 [==============================] - 7s 116us/sample - loss: 0.0852 - val_loss: 0.0844\n",
      "Epoch 41/50\n",
      "60000/60000 [==============================] - 7s 116us/sample - loss: 0.0852 - val_loss: 0.0844\n",
      "Epoch 42/50\n",
      "60000/60000 [==============================] - 7s 116us/sample - loss: 0.0852 - val_loss: 0.0843\n",
      "Epoch 43/50\n",
      "60000/60000 [==============================] - 7s 117us/sample - loss: 0.0852 - val_loss: 0.0843\n",
      "Epoch 44/50\n",
      "60000/60000 [==============================] - 7s 112us/sample - loss: 0.0852 - val_loss: 0.0845\n",
      "Epoch 45/50\n",
      "60000/60000 [==============================] - 7s 110us/sample - loss: 0.0852 - val_loss: 0.0843\n",
      "Epoch 46/50\n",
      "60000/60000 [==============================] - 6s 106us/sample - loss: 0.0851 - val_loss: 0.0844\n",
      "Epoch 47/50\n",
      "60000/60000 [==============================] - 6s 106us/sample - loss: 0.0852 - val_loss: 0.0844\n",
      "Epoch 48/50\n",
      "60000/60000 [==============================] - 6s 106us/sample - loss: 0.0851 - val_loss: 0.0843\n",
      "Epoch 49/50\n",
      "60000/60000 [==============================] - 6s 107us/sample - loss: 0.0851 - val_loss: 0.0843\n",
      "Epoch 50/50\n",
      "60000/60000 [==============================] - 6s 105us/sample - loss: 0.0851 - val_loss: 0.0843\n"
     ]
    },
    {
     "data": {
      "text/plain": [
       "<tensorflow.python.keras.callbacks.History at 0x17e511990>"
      ]
     },
     "execution_count": 89,
     "metadata": {},
     "output_type": "execute_result"
    }
   ],
   "source": [
    "# Train AutoEncoder\n",
    "model.fit(noise_dataset.reshape(-1, 28, 28, 1), \n",
    "          X_train.reshape(-1, 28, 28, 1), \n",
    "          epochs=50, \n",
    "          batch_size=200, \n",
    "          validation_data=(noise_test_set.reshape(-1, 28, 28, 1), X_test.reshape(-1, 28, 28, 1)))"
   ]
  },
  {
   "cell_type": "code",
   "execution_count": 90,
   "metadata": {},
   "outputs": [
    {
     "data": {
      "text/plain": [
       "(10, 28, 28, 1)"
      ]
     },
     "execution_count": 90,
     "metadata": {},
     "output_type": "execute_result"
    }
   ],
   "source": [
    "# Predict image\n",
    "predicted = model.predict(noise_test_set[:10].reshape(-1, 28, 28, 1))\n",
    "predicted.shape"
   ]
  },
  {
   "cell_type": "code",
   "execution_count": 91,
   "metadata": {},
   "outputs": [
    {
     "data": {
      "image/png": "[encoded data removed]",
      "text/plain": [
       "<Figure size 1440x288 with 20 Axes>"
      ]
     },
     "metadata": {
      "needs_background": "light"
     },
     "output_type": "display_data"
    }
   ],
   "source": [
    "# Visualize result\n",
    "fig, axes = plt.subplots(nrows=2, ncols=10, sharex=True, sharey=True, figsize=(20,4))\n",
    "for images, row in zip([noise_test_set[:10], predicted], axes):\n",
    "    for img, ax in zip(images, row):\n",
    "        ax.imshow(img.reshape((28, 28)), cmap='Greys_r')\n",
    "        ax.get_xaxis().set_visible(False)\n",
    "        ax.get_yaxis().set_visible(False)"
   ]
  },
  {
   "cell_type": "code",
   "execution_count": null,
   "metadata": {},
   "outputs": [],
   "source": []
  }
 ],
 "metadata": {
  "accelerator": "GPU",
  "colab": {
   "name": "AIML-Tensorflow2.0.ipynb",
   "provenance": [],
   "version": "0.3.2"
  },
  "kernelspec": {
   "display_name": "Python 3",
   "language": "python",
   "name": "python3"
  },
  "language_info": {
   "codemirror_mode": {
    "name": "ipython",
    "version": 3
   },
   "file_extension": ".py",
   "mimetype": "text/x-python",
   "name": "python",
   "nbconvert_exporter": "python",
   "pygments_lexer": "ipython3",
   "version": "3.7.4"
  }
 },
 "nbformat": 4,
 "nbformat_minor": 1
}
