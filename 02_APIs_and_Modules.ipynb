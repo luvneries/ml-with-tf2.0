{
 "cells": [
  {
   "cell_type": "markdown",
   "metadata": {},
   "source": [
    "### <center> APIs and Modules for Tensorflow </center> \n",
    "There are multiple APIs available to support different IOPS and Deep learning.\n",
    "1. Keras - High level API for deep learning.\n",
    "2. Data\n",
    "3. Estimator"
   ]
  },
  {
   "cell_type": "code",
   "execution_count": 6,
   "metadata": {},
   "outputs": [],
   "source": [
    "# Print out multiple lines in output\n",
    "from IPython.core.interactiveshell import InteractiveShell\n",
    "InteractiveShell.ast_node_interactivity = 'all'"
   ]
  },
  {
   "cell_type": "code",
   "execution_count": 3,
   "metadata": {},
   "outputs": [
    {
     "data": {
      "text/plain": [
       "'2.2.4-tf'"
      ]
     },
     "execution_count": 3,
     "metadata": {},
     "output_type": "execute_result"
    }
   ],
   "source": [
    "# Import modules\n",
    "import os\n",
    "import numpy as np \n",
    "\n",
    "import tensorflow as tf\n",
    "from tensorflow import keras\n",
    "tf.__version__\n",
    "keras.__version__"
   ]
  },
  {
   "cell_type": "code",
   "execution_count": 8,
   "metadata": {},
   "outputs": [],
   "source": [
    "from matplotlib import pyplot as plt\n",
    "%matplotlib notebook"
   ]
  },
  {
   "cell_type": "code",
   "execution_count": 9,
   "metadata": {},
   "outputs": [
    {
     "data": {
      "text/plain": [
       "(60000, 28, 28)"
      ]
     },
     "execution_count": 9,
     "metadata": {},
     "output_type": "execute_result"
    },
    {
     "data": {
      "text/plain": [
       "(10000, 28, 28)"
      ]
     },
     "execution_count": 9,
     "metadata": {},
     "output_type": "execute_result"
    }
   ],
   "source": [
    "# Import MNIST dataset\n",
    "(x_train, y_train), (x_test, y_test) = keras.datasets.mnist.load_data()\n",
    "x_train.shape\n",
    "x_test.shape\n",
    "\n",
    "# Normalize dataset\n",
    "x_train, x_test = x_train/255.0, x_test/255.0"
   ]
  },
  {
   "cell_type": "markdown",
   "metadata": {},
   "source": [
    "### 1. Keras API"
   ]
  },
  {
   "cell_type": "code",
   "execution_count": 6,
   "metadata": {},
   "outputs": [
    {
     "name": "stdout",
     "output_type": "stream",
     "text": [
      "Epoch 1/3\n",
      "60000/60000 [==============================] - 7s 114us/sample - loss: 0.2119 - accuracy: 0.9356\n",
      "Epoch 2/3\n",
      "60000/60000 [==============================] - 6s 106us/sample - loss: 0.0888 - accuracy: 0.9728\n",
      "Epoch 3/3\n",
      "60000/60000 [==============================] - 7s 112us/sample - loss: 0.0613 - accuracy: 0.9808\n"
     ]
    },
    {
     "data": {
      "text/plain": [
       "<tensorflow.python.keras.callbacks.History at 0xb32354748>"
      ]
     },
     "execution_count": 6,
     "metadata": {},
     "output_type": "execute_result"
    },
    {
     "name": "stdout",
     "output_type": "stream",
     "text": [
      "Model: \"sequential\"\n",
      "_________________________________________________________________\n",
      "Layer (type)                 Output Shape              Param #   \n",
      "=================================================================\n",
      "flatten (Flatten)            multiple                  0         \n",
      "_________________________________________________________________\n",
      "dense (Dense)                multiple                  401920    \n",
      "_________________________________________________________________\n",
      "dense_1 (Dense)              multiple                  65664     \n",
      "_________________________________________________________________\n",
      "dropout (Dropout)            multiple                  0         \n",
      "_________________________________________________________________\n",
      "dense_2 (Dense)              multiple                  1290      \n",
      "=================================================================\n",
      "Total params: 468,874\n",
      "Trainable params: 468,874\n",
      "Non-trainable params: 0\n",
      "_________________________________________________________________\n",
      "10000/10000 [==============================] - 0s 48us/sample - loss: 0.0801 - accuracy: 0.9753\n"
     ]
    },
    {
     "data": {
      "text/plain": [
       "[0.08005141494031413, 0.9753]"
      ]
     },
     "execution_count": 6,
     "metadata": {},
     "output_type": "execute_result"
    }
   ],
   "source": [
    "# Create and evaluate a sequential model in Keras\n",
    "epochs=3\n",
    "batch_size=32\n",
    "steps_per_epoch = len(x_train)//batch_size\n",
    "\n",
    "def build_estimator():\n",
    "    model = keras.Sequential()\n",
    "    model.add(keras.layers.Flatten())\n",
    "    model.add(keras.layers.Dense(512, activation=tf.nn.relu))\n",
    "    model.add(keras.layers.Dense(128, activation=tf.nn.relu))\n",
    "    model.add(keras.layers.Dropout(0.2))\n",
    "    model.add(keras.layers.Dense(10, activation=tf.nn.softmax))\n",
    "    model.compile(optimizer=keras.optimizers.Adam(),\n",
    "                  loss='sparse_categorical_crossentropy',\n",
    "                  metrics=['accuracy'])\n",
    "    return model\n",
    "\n",
    "model = build_estimator()\n",
    "model.fit(x_train, y_train, \n",
    "          batch_size=batch_size,\n",
    "         epochs=epochs)\n",
    "model.summary()\n",
    "model.evaluate(x_test, y_test)"
   ]
  },
  {
   "cell_type": "markdown",
   "metadata": {},
   "source": [
    "### Subclassing Keras Model"
   ]
  },
  {
   "cell_type": "code",
   "execution_count": 7,
   "metadata": {},
   "outputs": [
    {
     "name": "stderr",
     "output_type": "stream",
     "text": [
      "WARNING: Logging before flag parsing goes to stderr.\n",
      "W0513 13:29:31.057957 4559877568 hdf5_format.py:266] Sequential models without an `input_shape` passed to the first layer cannot reload their optimizer state. As a result, your model isstarting with a freshly initialized optimizer.\n"
     ]
    }
   ],
   "source": [
    "# Save and load keras models\n",
    "from tensorflow.keras.models import load_model\n",
    "\n",
    "model.save('./output/02/mnist_model.h5')\n",
    "model.save_weights('./output/02/mnist_model_weights.h5')\n",
    "new_model = load_model('./output/02/mnist_model.h5')\n",
    "new_model_weights = new_model.load_weights('./output/02/mnist_model_weights.h5')"
   ]
  },
  {
   "cell_type": "code",
   "execution_count": null,
   "metadata": {},
   "outputs": [],
   "source": [
    "class MyMnistModel(tf.keras.Model):\n",
    "    def __init__(self, num_classes=10):\n",
    "        super(MyMnistModel, self).__init__()\n",
    "        \n",
    "        # Define layers\n",
    "        inputs = tf.keras.Input((28,28))\n",
    "        self.x0 = tf.keras.layers.Flatten()\n",
    "        self.x1 = tf.keras.layers.Dense(512, activation=tf.nn.relu, name='d1')\n",
    "        self.x2 = tf.keras.layers.Dropout(0.2)\n",
    "        self.predictions = tf.layers.Dense(10, activation=tf.nn.softmax, name='d2')\n",
    "    \n",
    "    def call(self, inputs):\n",
    "        x = self.x0(inputs)\n",
    "        x = self.x1(x)\n",
    "        x = self.x2(x)\n",
    "        return self.predictions(x)\n",
    "\n",
    "sub_model = MyMnistModel()\n",
    "sub_model.compile(optimizer=tf.keras.optimizers.Adam(), \n",
    "              loss='sparse_categorical_crossentropy', \n",
    "              metrics = ['accuracy'])\n",
    "\n",
    "sub_model.fit(x_train, y_train, batch_size=batch_size, epochs=epochs)\n",
    "sub_model.summary()"
   ]
  },
  {
   "cell_type": "markdown",
   "metadata": {},
   "source": [
    "### 2. Data API - Building data pipelines\n",
    "\n",
    "To build data pipelines, we need to read data from different source and make iterable dataset function to feed into transformation and analytical pipelines.\n",
    "- Build from numpy array\n",
    "- From CSV\n",
    "- From TFRecord"
   ]
  },
  {
   "cell_type": "code",
   "execution_count": 20,
   "metadata": {},
   "outputs": [
    {
     "data": {
      "text/plain": [
       "<matplotlib.image.AxesImage at 0xb50aec470>"
      ]
     },
     "execution_count": 20,
     "metadata": {},
     "output_type": "execute_result"
    },
    {
     "data": {
      "image/png": "[encoded data removed]",
      "text/plain": [
       "<Figure size 432x288 with 1 Axes>"
      ]
     },
     "metadata": {
      "needs_background": "light"
     },
     "output_type": "display_data"
    },
    {
     "data": {
      "text/plain": [
       "<matplotlib.image.AxesImage at 0xb33e8f208>"
      ]
     },
     "execution_count": 20,
     "metadata": {},
     "output_type": "execute_result"
    },
    {
     "data": {
      "image/png": "[encoded data removed]",
      "text/plain": [
       "<Figure size 432x288 with 1 Axes>"
      ]
     },
     "metadata": {
      "needs_background": "light"
     },
     "output_type": "display_data"
    },
    {
     "data": {
      "text/plain": [
       "<matplotlib.image.AxesImage at 0xb3576c5f8>"
      ]
     },
     "execution_count": 20,
     "metadata": {},
     "output_type": "execute_result"
    },
    {
     "data": {
      "image/png": "[encoded data removed]",
      "text/plain": [
       "<Figure size 432x288 with 1 Axes>"
      ]
     },
     "metadata": {
      "needs_background": "light"
     },
     "output_type": "display_data"
    }
   ],
   "source": [
    "# Convert numpy arrays into dataset\n",
    "train_dataset = tf.data.Dataset.from_tensor_slices((x_train, y_train)).batch(10).shuffle(10000)\n",
    "\n",
    "# Map image functin to data `tf.image`\n",
    "train_dataset = train_dataset.map(lambda x, y: (tf.image.random_flip_left_right(x), y))\n",
    "iterator = tf.compat.v1.data.make_one_shot_iterator(train_dataset)\n",
    "\n",
    "for i, item in enumerate(train_dataset):\n",
    "    plt.imshow(tf.squeeze(iterator.get_next()[0]).numpy())\n",
    "    plt.show()\n",
    "    \n",
    "    if i==2:\n",
    "        break"
   ]
  },
  {
   "cell_type": "code",
   "execution_count": 79,
   "metadata": {},
   "outputs": [],
   "source": [
    "# Read from csv file\n",
    "file = './data/Data.csv'\n",
    "default_value = ['0','missing',0.0,0.0,'missing'] # replace Null with defaults\n",
    "dataset = tf.data.experimental.CsvDataset(file, \n",
    "                                          record_defaults=default_value,\n",
    "                                         header=True)"
   ]
  },
  {
   "cell_type": "code",
   "execution_count": 78,
   "metadata": {},
   "outputs": [
    {
     "data": {
      "text/plain": [
       "(<tf.Tensor: id=3307, shape=(4,), dtype=string, numpy=array([b'5', b'6', b'7', b'8'], dtype=object)>,\n",
       " <tf.Tensor: id=3308, shape=(4,), dtype=string, numpy=array([b'Germany', b'France', b'Spain', b'France'], dtype=object)>,\n",
       " <tf.Tensor: id=3309, shape=(4,), dtype=float32, numpy=array([40., 35.,  0., 48.], dtype=float32)>,\n",
       " <tf.Tensor: id=3310, shape=(4,), dtype=float32, numpy=array([    0., 58000., 52000., 79000.], dtype=float32)>,\n",
       " <tf.Tensor: id=3311, shape=(4,), dtype=string, numpy=array([b'Yes', b'Yes', b'No', b'Yes'], dtype=object)>)"
      ]
     },
     "execution_count": 78,
     "metadata": {},
     "output_type": "execute_result"
    },
    {
     "data": {
      "text/plain": [
       "(<tf.Tensor: id=3322, shape=(4,), dtype=string, numpy=array([b'1', b'2', b'3', b'4'], dtype=object)>,\n",
       " <tf.Tensor: id=3323, shape=(4,), dtype=string, numpy=array([b'France', b'Spain', b'Germany', b'Spain'], dtype=object)>,\n",
       " <tf.Tensor: id=3324, shape=(4,), dtype=float32, numpy=array([44., 27., 30., 38.], dtype=float32)>,\n",
       " <tf.Tensor: id=3325, shape=(4,), dtype=float32, numpy=array([72000., 48000., 54000., 61000.], dtype=float32)>,\n",
       " <tf.Tensor: id=3326, shape=(4,), dtype=string, numpy=array([b'No', b'Yes', b'No', b'No'], dtype=object)>)"
      ]
     },
     "execution_count": 78,
     "metadata": {},
     "output_type": "execute_result"
    }
   ],
   "source": [
    "# Batch add another dimension and group values as defined number \n",
    "# Shuffle data based on buffer size\n",
    "dataset = dataset.batch(4, drop_remainder=True).shuffle(15)\n",
    "iterator = tf.compat.v1.data.make_one_shot_iterator(dataset)\n",
    "\n",
    "for item in dataset:\n",
    "    iterator.get_next()"
   ]
  },
  {
   "cell_type": "code",
   "execution_count": 98,
   "metadata": {},
   "outputs": [],
   "source": [
    "# Write array to TF Record and read from it\n",
    "data = {\n",
    "    'ID': 1234,\n",
    "'Name': ['Pankaj','Sharma'],\n",
    "'Scores': [45.6, 97.2]\n",
    "}\n",
    "\n",
    "\n",
    "def write_to_tfrecord(fname, data):\n",
    "    writer = tf.io.TFRecordWriter(fname)\n",
    "    feature = {}\n",
    "    feature['ID'] = tf.train.Feature(int64_list=tf.train.Int64List(value=[data['ID']]))\n",
    "    feature['Name'] = tf.train.Feature(bytes_list=tf.train.BytesList(value=[n.encode('utf-8') for n in data['Name']]))\n",
    "    feature['Scores'] = tf.train.Feature(float_list=tf.train.FloatList(value=data['Scores']))\n",
    "    \n",
    "    example = tf.train.Example(features=tf.train.Features(feature=feature))\n",
    "    serialized = example.SerializeToString()\n",
    "    writer.write(serialized)\n",
    "    writer.close()\n",
    "\n",
    "write_to_tfrecord('./data/test.tfrecord', data)"
   ]
  },
  {
   "cell_type": "code",
   "execution_count": 104,
   "metadata": {},
   "outputs": [
    {
     "name": "stdout",
     "output_type": "stream",
     "text": [
      "tf.Tensor(b'\\nB\\n\\x1a\\n\\x04Name\\x12\\x12\\n\\x10\\n\\x06Pankaj\\n\\x06Sharma\\n\\x0c\\n\\x02ID\\x12\\x06\\x1a\\x04\\n\\x02\\xd2\\t\\n\\x16\\n\\x06Scores\\x12\\x0c\\x12\\n\\n\\x08ff6Bff\\xc2B', shape=(), dtype=string)\n"
     ]
    }
   ],
   "source": [
    "# Read from tf record file\n",
    "dataset = tf.data.TFRecordDataset('./data/test.tfrecord')\n",
    "\n",
    "# Data is in serialized format - decode \n",
    "for item in dataset:\n",
    "    print(item)"
   ]
  },
  {
   "cell_type": "code",
   "execution_count": 107,
   "metadata": {},
   "outputs": [
    {
     "name": "stdout",
     "output_type": "stream",
     "text": [
      "(<tf.Tensor: id=3794, shape=(), dtype=int64, numpy=1234>, <tensorflow.python.framework.sparse_tensor.SparseTensor object at 0xb5adc0780>, <tensorflow.python.framework.sparse_tensor.SparseTensor object at 0xb5ae25860>)\n"
     ]
    }
   ],
   "source": [
    "dataset = tf.data.TFRecordDataset('./data/test.tfrecord')\n",
    "\n",
    "def parse_function(example_proto):\n",
    "    keys_to_features = {'ID':tf.io.FixedLenFeature([], dtype=tf.int64),\n",
    "                       'Name': tf.io.VarLenFeature(dtype=tf.string),\n",
    "                        'Scores': tf.io.VarLenFeature(dtype=tf.float32)\n",
    "                       }\n",
    "    parsed_features = tf.io.parse_single_example(serialized=example_proto, features=keys_to_features)\n",
    "    return parsed_features['ID'], parsed_features['Name'], parsed_features['Scores']\n",
    "\n",
    "dataset = dataset.map(parse_function)\n",
    "iterator = tf.compat.v1.data.make_one_shot_iterator(dataset)\n",
    "# array is retrieved as one item\n",
    "item = iterator.get_next()\n",
    "print(item)\n",
    "#print(item.numpy())\n",
    "#print(item[2].numpy())"
   ]
  },
  {
   "cell_type": "code",
   "execution_count": 109,
   "metadata": {},
   "outputs": [
    {
     "name": "stdout",
     "output_type": "stream",
     "text": [
      "ID:  1234\n",
      "Name: Pankaj , Sharma\n",
      "Scores:  [45.6 97.2]\n"
     ]
    }
   ],
   "source": [
    "print(\"ID: \",item[0].numpy())\n",
    "name = item[1].values.numpy()\n",
    "name1= name[0].decode()\n",
    "name2 = name[1].decode('utf8')\n",
    "print(\"Name:\",name1,\",\",name2)\n",
    "print(\"Scores: \",item[2].values.numpy())"
   ]
  },
  {
   "cell_type": "markdown",
   "metadata": {},
   "source": [
    "### Write a function to ingest data in pipeline"
   ]
  },
  {
   "cell_type": "code",
   "execution_count": 1,
   "metadata": {},
   "outputs": [],
   "source": [
    "def read_dataset(filename, mode, batch_size = 512):\n",
    "    def _input_fn():\n",
    "        def decode_csv(value_column):\n",
    "            columns = tf.decode_csv(records = value_column, record_defaults = DEFAULTS)\n",
    "            features = dict(zip(CSV_COLUMNS, columns))          \n",
    "            label = features.pop(LABEL_COLUMN)         \n",
    "            return features, label\n",
    "\n",
    "        # Create list of files that match pattern\n",
    "        file_list = tf.gfile.Glob(filename = filename)\n",
    "\n",
    "        # Create dataset from file list\n",
    "        dataset = tf.data.TextLineDataset(filenames = file_list).map(map_func = decode_csv)\n",
    "\n",
    "        if mode == tf.estimator.ModeKeys.TRAIN:\n",
    "            num_epochs = None # indefinitely\n",
    "            dataset = dataset.shuffle(buffer_size = 10 * batch_size)\n",
    "        else:\n",
    "            num_epochs = 1 # end-of-input after this\n",
    "\n",
    "        dataset = dataset.repeat(count = num_epochs).batch(batch_size = batch_size)\n",
    "        return dataset.make_one_shot_iterator().get_next()\n",
    "    return _input_fn"
   ]
  },
  {
   "cell_type": "code",
   "execution_count": 9,
   "metadata": {},
   "outputs": [],
   "source": [
    "# Call function from model function snippet\n",
    "\n",
    "args = {'train_data_paths': 'path-for-train-files',\n",
    "       'batch_size': 512,\n",
    "       'train_steps': 100000,\n",
    "       'eval_data_paths': 'path-for-eval-files',\n",
    "       'start_delay_secs': 60,\n",
    "       'throttle_secs': 100}\n",
    "\n",
    "train_spec = tf.estimator.TrainSpec(\n",
    "    input_fn = read_dataset(filename = args['train_data_paths'], \n",
    "                            mode = tf.estimator.ModeKeys.TRAIN, \n",
    "                            batch_size = args['batch_size']),\n",
    "    max_steps = args['train_steps'])\n",
    "\n",
    "#exporter = tf.estimator.LatestExporter('exporter', serving_input_fn)\n",
    "\n",
    "eval_spec = tf.estimator.EvalSpec(\n",
    "    input_fn = read_dataset(filename = args['eval_data_paths'], \n",
    "                            mode = tf.estimator.ModeKeys.EVAL, \n",
    "                            batch_size = args['batch_size']),\n",
    "    steps = None,\n",
    "    start_delay_secs = args['start_delay_secs'],\n",
    "    throttle_secs = args['throttle_secs'],\n",
    "    #exporters = exporter\n",
    ")\n",
    "\n",
    "#tf.estimator.train_and_evaluate(estimator, train_spec, eval_spec)"
   ]
  },
  {
   "cell_type": "markdown",
   "metadata": {},
   "source": [
    "### 3. Estimator API"
   ]
  },
  {
   "cell_type": "code",
   "execution_count": null,
   "metadata": {},
   "outputs": [],
   "source": []
  },
  {
   "cell_type": "markdown",
   "metadata": {},
   "source": []
  }
 ],
 "metadata": {
  "kernelspec": {
   "display_name": "Python 3",
   "language": "python",
   "name": "python3"
  },
  "language_info": {
   "codemirror_mode": {
    "name": "ipython",
    "version": 3
   },
   "file_extension": ".py",
   "mimetype": "text/x-python",
   "name": "python",
   "nbconvert_exporter": "python",
   "pygments_lexer": "ipython3",
   "version": "3.7.4"
  }
 },
 "nbformat": 4,
 "nbformat_minor": 2
}
