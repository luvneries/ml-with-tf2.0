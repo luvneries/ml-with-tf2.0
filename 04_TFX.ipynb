{
 "cells": [
  {
   "cell_type": "markdown",
   "metadata": {},
   "source": [
    "   # Tensorflow Extended\n",
    "\n",
    "Tensorflow extended is especially designed module for building end to end pipeline for machine learning models.<br>\n",
    "\n",
    "1. Data ingestion - It can be done with high level tensoflow API tf.data\n",
    "2. Tensorflow Data Validation - TFDV\n",
    "3. Tensorflow Transform - Feature Engineering, Data transformation or preprocessing\n",
    "4. Trainer/Estimator - Train and build machine learning model\n",
    "5. Model Analysis and Evaluation - Analyse machine learning model \n",
    "4. Tensorflow Serving - Serving model\n",
    "\n",
    "\n",
    "<img src=https://miro.medium.com/max/1400/0*C1OfyKH1exd213lZ>"
   ]
  },
  {
   "cell_type": "markdown",
   "metadata": {},
   "source": [
    "# 1. Data Ingestion\n",
    "\n",
    "Please refer __02_APIs_and_Modules.ipynb__ notebook for different ingestion methods using tf.data module."
   ]
  },
  {
   "cell_type": "markdown",
   "metadata": {},
   "source": [
    "## 2. Tensorflow Data Validation\n",
    "Please refer **tensorflow-data-validation.ipynb** notebook.\n",
    "\n",
    "    TFDV is a library for analyzing and validating data used for ML model. TFDV allows one to Compute and visualize summary statistics with 2 lines of code across all features.\n",
    "    \n",
    "    Compares multiple datasets. Helps in identifying data and distribution skew between train, eval and serving datasets\n",
    "\n",
    "    Automatically generates schema based on underlying data as well as use the schema to inspect out of time datasets\n",
    "    \n",
    "    Identify anomalies, such as missing features, out-of-range values among others"
   ]
  },
  {
   "cell_type": "markdown",
   "metadata": {},
   "source": [
    "## 3. Tensorflow Transform\n",
    "Please refer **tensorflow-transform.ipynb** notebook.\n",
    "\n",
    "    TFT helps in the feature engineering part of machine learning pipeline. TFT transforms input features into a format that can directly be consumed by the training process. \n",
    "    \n",
    "    TFT can automatically generate a vocabulary from your latest data.\n",
    "    \n",
    "    Perform arbitrary transformations on your data before sending it to your model. An advantage of transforming data using TFT is it builds transformation into Tensorflow graph aiding in seamless deployment\n",
    "\n",
    "    Helps avoid training deployment skew\n"
   ]
  },
  {
   "cell_type": "markdown",
   "metadata": {},
   "source": [
    "## 4. Tensorflow Model Analysis (TFMA)\n",
    "\n",
    "Please refer **tensorflow-model-analysis.ipynb** notebook.\n",
    "\n",
    "TFMA allows one to perform model evaluations in the TFX pipeline, and view metrics and plots in a Jupyter notebook. TFMA is a reusable component that automatically evaluates and validates a model to ensure they are good before serving to users.\n",
    "    \n",
    "    TFMA helps with model performance analysis and in\n",
    "    \n",
    "    - Examining subsets of data\n",
    "    \n",
    "    - Identify key segments that are under-served\n",
    "    \n",
    "    - Model Fairness\n",
    "\n",
    " "
   ]
  },
  {
   "cell_type": "markdown",
   "metadata": {},
   "source": [
    "#### Full ML pipeline using different modules in TFX"
   ]
  },
  {
   "cell_type": "markdown",
   "metadata": {},
   "source": [
    "<img src=https://miro.medium.com/max/1400/0*uNE0bMWsyt5dpIbr>"
   ]
  },
  {
   "cell_type": "code",
   "execution_count": null,
   "metadata": {},
   "outputs": [],
   "source": []
  }
 ],
 "metadata": {
  "kernelspec": {
   "display_name": "Python 3",
   "language": "python",
   "name": "python3"
  },
  "language_info": {
   "codemirror_mode": {
    "name": "ipython",
    "version": 3
   },
   "file_extension": ".py",
   "mimetype": "text/x-python",
   "name": "python",
   "nbconvert_exporter": "python",
   "pygments_lexer": "ipython3",
   "version": "3.7.4"
  }
 },
 "nbformat": 4,
 "nbformat_minor": 2
}
