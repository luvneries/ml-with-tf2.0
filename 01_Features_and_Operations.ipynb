{
 "cells": [
  {
   "cell_type": "markdown",
   "metadata": {},
   "source": [
    "### <center> Key changes in Tensorflow 2.0 </center>\n",
    "- Eager execution is default in Tensorflow 2.0.\n",
    "- Use of Session, placeholder and feed_dict is not required.\n",
    "- Wrap python function into tensorflow function graph using `tf.function`\n",
    "### <center> Hands on with TF2.0 </center>"
   ]
  },
  {
   "cell_type": "code",
   "execution_count": 2,
   "metadata": {},
   "outputs": [],
   "source": [
    "# Print out multiple lines in output\n",
    "from IPython.core.interactiveshell import InteractiveShell\n",
    "InteractiveShell.ast_node_interactivity = 'all'"
   ]
  },
  {
   "cell_type": "code",
   "execution_count": 3,
   "metadata": {},
   "outputs": [
    {
     "data": {
      "text/plain": [
       "True"
      ]
     },
     "execution_count": 3,
     "metadata": {},
     "output_type": "execute_result"
    },
    {
     "data": {
      "text/plain": [
       "'2.0.0-beta1'"
      ]
     },
     "execution_count": 3,
     "metadata": {},
     "output_type": "execute_result"
    }
   ],
   "source": [
    "# Import modules\n",
    "import tensorflow as tf\n",
    "tf.executing_eagerly()\n",
    "tf.__version__\n",
    "tf.random.set_seed=123"
   ]
  },
  {
   "cell_type": "code",
   "execution_count": 33,
   "metadata": {},
   "outputs": [],
   "source": [
    "from matplotlib import pyplot as plt\n",
    "%matplotlib notebook"
   ]
  },
  {
   "cell_type": "code",
   "execution_count": 4,
   "metadata": {},
   "outputs": [
    {
     "data": {
      "text/plain": [
       "<tf.Variable 'Variable:0' shape=() dtype=int32, numpy=10>"
      ]
     },
     "execution_count": 4,
     "metadata": {},
     "output_type": "execute_result"
    },
    {
     "data": {
      "text/plain": [
       "<tf.Variable 'Variable:0' shape=(2,) dtype=int32, numpy=array([1, 2], dtype=int32)>"
      ]
     },
     "execution_count": 4,
     "metadata": {},
     "output_type": "execute_result"
    },
    {
     "data": {
      "text/plain": [
       "<tf.Variable 'Variable:0' shape=(3, 2) dtype=int32, numpy=\n",
       "array([[1, 2],\n",
       "       [3, 4],\n",
       "       [5, 6]], dtype=int32)>"
      ]
     },
     "execution_count": 4,
     "metadata": {},
     "output_type": "execute_result"
    },
    {
     "data": {
      "text/plain": [
       "<tf.Variable 'Variable:0' shape=(2, 2, 2) dtype=int32, numpy=\n",
       "array([[[1, 2],\n",
       "        [3, 4]],\n",
       "\n",
       "       [[5, 6],\n",
       "        [7, 8]]], dtype=int32)>"
      ]
     },
     "execution_count": 4,
     "metadata": {},
     "output_type": "execute_result"
    }
   ],
   "source": [
    "# Declaring a variable\n",
    "tf.Variable(10) # Scalar\n",
    "tf.Variable([1,2]) # Rank1 tensor (Vector)\n",
    "tf.Variable([[1,2],[3,4],[5,6]]) # Rank2 tensor (Matrix)\n",
    "tf.Variable([[[1,2],[3,4]], \n",
    "             [[5,6],[7,8]]]) # Rank 3 tensor"
   ]
  },
  {
   "cell_type": "code",
   "execution_count": 5,
   "metadata": {},
   "outputs": [
    {
     "data": {
      "text/plain": [
       "<tf.Tensor: id=37, shape=(), dtype=int32, numpy=10>"
      ]
     },
     "execution_count": 5,
     "metadata": {},
     "output_type": "execute_result"
    },
    {
     "data": {
      "text/plain": [
       "<tf.Tensor: id=39, shape=(2,), dtype=int32, numpy=array([1, 2], dtype=int32)>"
      ]
     },
     "execution_count": 5,
     "metadata": {},
     "output_type": "execute_result"
    },
    {
     "data": {
      "text/plain": [
       "<tf.Tensor: id=41, shape=(3, 2), dtype=int32, numpy=\n",
       "array([[1, 2],\n",
       "       [3, 4],\n",
       "       [5, 6]], dtype=int32)>"
      ]
     },
     "execution_count": 5,
     "metadata": {},
     "output_type": "execute_result"
    },
    {
     "data": {
      "text/plain": [
       "<tf.Tensor: id=43, shape=(2, 2, 2), dtype=int32, numpy=\n",
       "array([[[1, 2],\n",
       "        [3, 4]],\n",
       "\n",
       "       [[5, 6],\n",
       "        [7, 8]]], dtype=int32)>"
      ]
     },
     "execution_count": 5,
     "metadata": {},
     "output_type": "execute_result"
    }
   ],
   "source": [
    "# Declaring constant\n",
    "tf.constant(10) # Scalar\n",
    "tf.constant([1,2]) # Rank1 tensor (Vector)\n",
    "tf.constant([[1,2],[3,4],[5,6]]) # Rank2 tensor (Matrix)\n",
    "tf.constant([[[1,2],[3,4]], \n",
    "             [[5,6],[7,8]]]) # Rank 3 tensor"
   ]
  },
  {
   "cell_type": "code",
   "execution_count": 6,
   "metadata": {},
   "outputs": [
    {
     "data": {
      "text/plain": [
       "tf.RaggedTensor(values=tf.Tensor([1 2 3 4 5 6], shape=(6,), dtype=int32), row_splits=tf.Tensor([0 3 3 4 6], shape=(5,), dtype=int64))"
      ]
     },
     "execution_count": 6,
     "metadata": {},
     "output_type": "execute_result"
    },
    {
     "data": {
      "text/plain": [
       "<tf.Tensor: id=73, shape=(2,), dtype=int32, numpy=array([5, 6], dtype=int32)>"
      ]
     },
     "execution_count": 6,
     "metadata": {},
     "output_type": "execute_result"
    },
    {
     "name": "stdout",
     "output_type": "stream",
     "text": [
      "<tf.RaggedTensor [[1, 2, 3], [], [4, 5]]>\n"
     ]
    }
   ],
   "source": [
    "# Declaring ragged tensor\n",
    "# Ragged tensor is a tensor with ragged dimensions (slices have different length)\n",
    "ragged = tf.ragged.constant([[1,2,3], [], [4], [5,6]])\n",
    "ragged\n",
    "ragged[3,:]\n",
    "print(tf.RaggedTensor.from_row_splits(values=[1,2,3,4,5,6,7,8,9],\n",
    "                               row_splits=[0,3,3,5]))"
   ]
  },
  {
   "cell_type": "markdown",
   "metadata": {},
   "source": [
    "#### Operations on tensorflow decalaration "
   ]
  },
  {
   "cell_type": "code",
   "execution_count": 7,
   "metadata": {},
   "outputs": [
    {
     "data": {
      "text/plain": [
       "<tf.Tensor: id=79, shape=(2, 2), dtype=int64, numpy=\n",
       "array([[1, 2],\n",
       "       [3, 4]])>"
      ]
     },
     "execution_count": 7,
     "metadata": {},
     "output_type": "execute_result"
    },
    {
     "data": {
      "text/plain": [
       "tf.int64"
      ]
     },
     "execution_count": 7,
     "metadata": {},
     "output_type": "execute_result"
    },
    {
     "data": {
      "text/plain": [
       "TensorShape([2, 2])"
      ]
     },
     "execution_count": 7,
     "metadata": {},
     "output_type": "execute_result"
    },
    {
     "data": {
      "text/plain": [
       "2"
      ]
     },
     "execution_count": 7,
     "metadata": {},
     "output_type": "execute_result"
    },
    {
     "data": {
      "text/plain": [
       "4"
      ]
     },
     "execution_count": 7,
     "metadata": {},
     "output_type": "execute_result"
    },
    {
     "data": {
      "text/plain": [
       "array([[1, 2],\n",
       "       [3, 4]])"
      ]
     },
     "execution_count": 7,
     "metadata": {},
     "output_type": "execute_result"
    },
    {
     "data": {
      "text/plain": [
       "4"
      ]
     },
     "execution_count": 7,
     "metadata": {},
     "output_type": "execute_result"
    },
    {
     "data": {
      "text/plain": [
       "<tf.Tensor: id=92, shape=(1, 4), dtype=int64, numpy=array([[1, 2, 3, 4]])>"
      ]
     },
     "execution_count": 7,
     "metadata": {},
     "output_type": "execute_result"
    },
    {
     "data": {
      "text/plain": [
       "<tf.Tensor: id=94, shape=(2, 2), dtype=int64, numpy=\n",
       "array([[ 1,  4],\n",
       "       [ 9, 16]])>"
      ]
     },
     "execution_count": 7,
     "metadata": {},
     "output_type": "execute_result"
    },
    {
     "data": {
      "text/plain": [
       "<tf.Tensor: id=97, shape=(2, 2), dtype=int64, numpy=\n",
       "array([[2, 4],\n",
       "       [6, 8]])>"
      ]
     },
     "execution_count": 7,
     "metadata": {},
     "output_type": "execute_result"
    }
   ],
   "source": [
    "# Opeartions on Tensor\n",
    "tensor = tf.constant([[1,2],[3,4]], dtype=tf.int64, name = 'tensor') # Declare tensor\n",
    "tensor\n",
    "tensor.dtype # Get tensor datatype\n",
    "tensor.shape # Get shape of tensor\n",
    "tf.rank(tensor).numpy() # Get rank of tensor\n",
    "tf.size(tensor).numpy() # Get length/size of tensor\n",
    "tensor.numpy() # Get values\n",
    "tensor[1,1].numpy() # Slicing of tensor\n",
    "tf.reshape(tensor, [1,4]) # Reshaping tensor - not inplace \n",
    "tensor*tensor # Primitive operations\n",
    "tensor*2 # Broadcasting"
   ]
  },
  {
   "cell_type": "code",
   "execution_count": 8,
   "metadata": {},
   "outputs": [
    {
     "data": {
      "text/plain": [
       "<tf.Tensor: id=102, shape=(2, 2), dtype=float32, numpy=\n",
       "array([[1., 0.],\n",
       "       [0., 1.]], dtype=float32)>"
      ]
     },
     "execution_count": 8,
     "metadata": {},
     "output_type": "execute_result"
    },
    {
     "data": {
      "text/plain": [
       "<tf.Tensor: id=107, shape=(3, 1), dtype=float32, numpy=\n",
       "array([[1.],\n",
       "       [2.],\n",
       "       [3.]], dtype=float32)>"
      ]
     },
     "execution_count": 8,
     "metadata": {},
     "output_type": "execute_result"
    },
    {
     "data": {
      "text/plain": [
       "<tf.Tensor: id=111, shape=(1, 1), dtype=float32, numpy=array([[32.]], dtype=float32)>"
      ]
     },
     "execution_count": 8,
     "metadata": {},
     "output_type": "execute_result"
    },
    {
     "data": {
      "text/plain": [
       "<tf.Tensor: id=115, shape=(3, 2), dtype=float32, numpy=\n",
       "array([[0., 0.],\n",
       "       [0., 0.],\n",
       "       [0., 0.]], dtype=float32)>"
      ]
     },
     "execution_count": 8,
     "metadata": {},
     "output_type": "execute_result"
    },
    {
     "data": {
      "text/plain": [
       "<tf.Tensor: id=117, shape=(1, 3), dtype=float32, numpy=array([[0., 0., 0.]], dtype=float32)>"
      ]
     },
     "execution_count": 8,
     "metadata": {},
     "output_type": "execute_result"
    }
   ],
   "source": [
    "# Linalg/Matrix operations\n",
    "tf.linalg.eye(2) # Create identity matrix\n",
    "\n",
    "# Matrix operations can be performed on 2D array not on vector or 1D array.\n",
    "u = tf.constant([[4.,5.,6.]])\n",
    "v = tf.constant([[1.,2.,3.]])\n",
    "\n",
    "# [4, 5, 6] * [1,    = 4*1 + 5*2 + 6*3\n",
    "#             2,\n",
    "#             3]\n",
    "\n",
    "# we need to tranpose either of them based on required output shape\n",
    "tf.transpose(v) # Transpose a matrix\n",
    "tf.matmul(u,tf.transpose(v)) # Matrix multiplication\n",
    "tf.zeros([3,2]) # Create zero tensor\n",
    "tf.zeros_like(v) # Create zero tensor similar to other tensor"
   ]
  },
  {
   "cell_type": "code",
   "execution_count": 5,
   "metadata": {},
   "outputs": [
    {
     "data": {
      "text/plain": [
       "'Operations on values'"
      ]
     },
     "execution_count": 5,
     "metadata": {},
     "output_type": "execute_result"
    },
    {
     "data": {
      "text/plain": [
       "<tf.Tensor: id=1, shape=(), dtype=float32, numpy=2.56>"
      ]
     },
     "execution_count": 5,
     "metadata": {},
     "output_type": "execute_result"
    },
    {
     "data": {
      "text/plain": [
       "<tf.Tensor: id=4, shape=(), dtype=float32, numpy=2.0>"
      ]
     },
     "execution_count": 5,
     "metadata": {},
     "output_type": "execute_result"
    },
    {
     "data": {
      "text/plain": [
       "<tf.Tensor: id=6, shape=(2, 3), dtype=float32, numpy=\n",
       "array([[2., 3., 1.],\n",
       "       [5., 7., 6.]], dtype=float32)>"
      ]
     },
     "execution_count": 5,
     "metadata": {},
     "output_type": "execute_result"
    },
    {
     "data": {
      "text/plain": [
       "<tf.Tensor: id=8, shape=(2, 3), dtype=float32, numpy=\n",
       "array([[2., 3., 1.],\n",
       "       [5., 7., 6.]], dtype=float32)>"
      ]
     },
     "execution_count": 5,
     "metadata": {},
     "output_type": "execute_result"
    },
    {
     "data": {
      "text/plain": [
       "<tf.Tensor: id=10, shape=(2, 3), dtype=float64, numpy=\n",
       "array([[2., 3., 1.],\n",
       "       [5., 7., 6.]])>"
      ]
     },
     "execution_count": 5,
     "metadata": {},
     "output_type": "execute_result"
    },
    {
     "data": {
      "text/plain": [
       "<tf.Tensor: id=12, shape=(2, 3), dtype=float32, numpy=\n",
       "array([[ 4.,  9.,  1.],\n",
       "       [25., 49., 36.]], dtype=float32)>"
      ]
     },
     "execution_count": 5,
     "metadata": {},
     "output_type": "execute_result"
    },
    {
     "data": {
      "text/plain": [
       "<tf.Tensor: id=15, shape=(2, 3), dtype=float32, numpy=\n",
       "array([[ 7.,  8.,  6.],\n",
       "       [10., 12., 11.]], dtype=float32)>"
      ]
     },
     "execution_count": 5,
     "metadata": {},
     "output_type": "execute_result"
    },
    {
     "data": {
      "text/plain": [
       "<tf.Tensor: id=18, shape=(2, 3), dtype=float32, numpy=\n",
       "array([[-3., -2., -4.],\n",
       "       [ 0.,  2.,  1.]], dtype=float32)>"
      ]
     },
     "execution_count": 5,
     "metadata": {},
     "output_type": "execute_result"
    },
    {
     "data": {
      "text/plain": [
       "<tf.Tensor: id=24, shape=(3, 10), dtype=float32, numpy=\n",
       "array([[0., 1., 0., 0., 0., 0., 0., 0., 0., 0.],\n",
       "       [0., 0., 1., 0., 0., 0., 0., 0., 0., 0.],\n",
       "       [0., 0., 0., 1., 0., 0., 0., 0., 0., 0.]], dtype=float32)>"
      ]
     },
     "execution_count": 5,
     "metadata": {},
     "output_type": "execute_result"
    }
   ],
   "source": [
    "# Most of operations on tensorflow support float instead of int,\n",
    "\"Operations on values\"\n",
    "tf.abs(tf.constant(2.56))\n",
    "tf.floor(tf.constant(2.56))\n",
    "\n",
    "t = tf.constant([[2.,3.,1.], [5.,7.,6.]])\n",
    "t\n",
    "tf.squeeze(t) # Reduces dimension if extra present\n",
    "tf.cast(t, dtype=tf.float64) # Change datatype\n",
    "tf.square(t)\n",
    "\n",
    "tf.add(t, tf.constant([5.]))\n",
    "tf.subtract(t, tf.constant(5.))\n",
    "\n",
    "tf.one_hot([1,2,3], depth=10)"
   ]
  },
  {
   "cell_type": "code",
   "execution_count": 14,
   "metadata": {},
   "outputs": [
    {
     "data": {
      "text/plain": [
       "'Indices operations'"
      ]
     },
     "execution_count": 14,
     "metadata": {},
     "output_type": "execute_result"
    },
    {
     "data": {
      "text/plain": [
       "<tf.Tensor: id=6, shape=(2, 3), dtype=float32, numpy=\n",
       "array([[2., 3., 1.],\n",
       "       [5., 7., 6.]], dtype=float32)>"
      ]
     },
     "execution_count": 14,
     "metadata": {},
     "output_type": "execute_result"
    },
    {
     "data": {
      "text/plain": [
       "<tf.Tensor: id=230, shape=(2,), dtype=int64, numpy=array([1, 1])>"
      ]
     },
     "execution_count": 14,
     "metadata": {},
     "output_type": "execute_result"
    },
    {
     "data": {
      "text/plain": [
       "<tf.Tensor: id=233, shape=(2,), dtype=int64, numpy=array([2, 0])>"
      ]
     },
     "execution_count": 14,
     "metadata": {},
     "output_type": "execute_result"
    },
    {
     "data": {
      "text/plain": [
       "<tf.Tensor: id=245, shape=(2, 3), dtype=int32, numpy=\n",
       "array([[2, 0, 1],\n",
       "       [0, 2, 1]], dtype=int32)>"
      ]
     },
     "execution_count": 14,
     "metadata": {},
     "output_type": "execute_result"
    },
    {
     "data": {
      "text/plain": [
       "<tf.Tensor: id=248, shape=(2, 2), dtype=float32, numpy=\n",
       "array([[3., 2.],\n",
       "       [7., 6.]], dtype=float32)>"
      ]
     },
     "execution_count": 14,
     "metadata": {},
     "output_type": "execute_result"
    },
    {
     "data": {
      "text/plain": [
       "<tf.Tensor: id=253, shape=(2, 1), dtype=int32, numpy=\n",
       "array([[1],\n",
       "       [1]], dtype=int32)>"
      ]
     },
     "execution_count": 14,
     "metadata": {},
     "output_type": "execute_result"
    },
    {
     "data": {
      "text/plain": [
       "<tf.Tensor: id=257, shape=(2, 1), dtype=int32, numpy=\n",
       "array([[1],\n",
       "       [1]], dtype=int32)>"
      ]
     },
     "execution_count": 14,
     "metadata": {},
     "output_type": "execute_result"
    }
   ],
   "source": [
    "\"Indices operations\"\n",
    "t\n",
    "tf.argmax(t, axis=1) # Return index of maximum value in tensor based on row(axis=0) and column(axis=1)\n",
    "tf.argmin(t, axis=1) # Return index of minimum value in tensor\n",
    "tf.argsort(t, axis=1) # Return indexes of sorted values\n",
    "\n",
    "tf.nn.top_k(t, k=2)[0] # get top 2 values\n",
    "tf.nn.top_k(t)[1] # get indices of top value\n",
    "tf.nn.top_k(t).indices # get indices of top value"
   ]
  },
  {
   "cell_type": "code",
   "execution_count": 19,
   "metadata": {},
   "outputs": [
    {
     "data": {
      "text/plain": [
       "'Statistical operations'"
      ]
     },
     "execution_count": 19,
     "metadata": {},
     "output_type": "execute_result"
    },
    {
     "data": {
      "text/plain": [
       "<tf.Tensor: id=416, shape=(2, 1), dtype=float32, numpy=\n",
       "array([[2.],\n",
       "       [6.]], dtype=float32)>"
      ]
     },
     "execution_count": 19,
     "metadata": {},
     "output_type": "execute_result"
    },
    {
     "data": {
      "text/plain": [
       "<tf.Tensor: id=419, shape=(2, 1), dtype=float32, numpy=\n",
       "array([[3.],\n",
       "       [7.]], dtype=float32)>"
      ]
     },
     "execution_count": 19,
     "metadata": {},
     "output_type": "execute_result"
    },
    {
     "data": {
      "text/plain": [
       "<tf.Tensor: id=422, shape=(2, 1), dtype=float32, numpy=\n",
       "array([[1.],\n",
       "       [5.]], dtype=float32)>"
      ]
     },
     "execution_count": 19,
     "metadata": {},
     "output_type": "execute_result"
    },
    {
     "data": {
      "text/plain": [
       "<tf.Tensor: id=425, shape=(2, 1), dtype=float32, numpy=\n",
       "array([[ 6.],\n",
       "       [18.]], dtype=float32)>"
      ]
     },
     "execution_count": 19,
     "metadata": {},
     "output_type": "execute_result"
    },
    {
     "data": {
      "text/plain": [
       "<tf.Variable 'Variable:0' shape=(1000,) dtype=float64, numpy=\n",
       "array([ 1.14289987e+00,  3.17354653e+00,  1.67275821e+00,  2.40328995e+00,\n",
       "        1.91893927e+00,  4.37986604e+00,  3.49056945e+00,  3.99959811e+00,\n",
       "        1.62390995e+00,  6.74471776e-01,  5.47104908e-01,  1.77190071e+00,\n",
       "        4.81211063e+00,  5.51920649e+00,  3.47775547e+00,  2.33361537e+00,\n",
       "       -3.70741395e+00,  6.26450169e+00,  3.75774898e-02, -2.00391820e+00,\n",
       "        5.85485003e-01,  5.48264263e+00,  4.86293237e+00,  2.10178594e+00,\n",
       "        5.98179331e+00,  4.45894429e+00,  1.25486441e+00,  2.62786408e+00,\n",
       "        3.24149301e+00, -7.94401214e-01,  4.31749600e+00,  1.42625259e+00,\n",
       "        4.64387291e+00,  1.78429617e+00,  1.60024730e+00,  8.38005551e-01,\n",
       "        1.12675377e+00,  4.03842138e+00,  2.19776737e+00,  4.40050093e+00,\n",
       "        4.09114021e+00, -2.96864779e-01,  4.56025313e+00,  6.60892285e+00,\n",
       "        1.37730018e+00,  4.28551541e+00,  2.51041058e+00,  2.97791547e+00,\n",
       "        6.35914978e+00,  1.27033913e+00,  1.78291499e-01, -1.83447708e+00,\n",
       "        1.95113955e+00,  1.02295615e+00,  4.47368072e+00,  3.95319120e+00,\n",
       "        5.01632467e-01,  3.84013266e+00,  4.14398002e+00,  3.07046645e+00,\n",
       "        4.93060973e+00,  1.92597050e+00,  1.57421893e+00,  1.66944004e+00,\n",
       "        4.61383422e+00,  1.89342718e+00,  2.89793117e+00,  4.63810358e+00,\n",
       "        4.01294422e+00,  4.94063647e+00,  4.24580064e+00,  2.82610989e+00,\n",
       "        3.53745267e+00,  3.02205801e+00,  6.22959535e+00,  1.96010842e+00,\n",
       "       -1.59168178e+00,  5.30643376e+00,  4.85352580e+00,  1.28152113e+00,\n",
       "        3.51162160e+00,  1.76393540e+00,  2.03612625e+00,  2.61408286e+00,\n",
       "        3.09902539e+00,  1.73191049e+00,  1.36986534e+00, -3.58551641e-01,\n",
       "        2.96414222e+00,  4.68196231e+00,  1.51157951e+00,  1.79332290e+00,\n",
       "        1.44543322e+00,  2.16223840e+00,  1.92538220e-01,  8.45819312e-01,\n",
       "        3.37137355e+00,  1.31921514e+00,  1.75875196e+00,  4.65521640e+00,\n",
       "        4.26420694e+00,  1.65385412e+00, -2.71491423e-01,  3.42510337e+00,\n",
       "       -4.02153868e-02, -2.85577104e+00,  1.33824684e+00,  4.32878740e+00,\n",
       "        3.94843847e+00,  2.43149492e+00,  1.26522216e-01,  4.04567998e+00,\n",
       "        3.65234598e+00,  6.00327422e+00,  3.59743685e+00,  3.00835505e+00,\n",
       "        1.94066874e+00,  3.50742791e+00,  1.93911999e+00,  1.09800338e-02,\n",
       "        6.50710131e-01,  3.51028827e+00,  2.41804685e+00,  8.76943691e-01,\n",
       "        1.12363952e+00,  1.95757398e+00,  4.07249171e+00,  2.22941297e+00,\n",
       "        5.18112389e+00, -6.14628438e-01,  1.29051727e+00,  8.69029302e-02,\n",
       "        3.34077190e-01,  2.20072203e+00,  1.06261383e+00,  3.47311029e+00,\n",
       "        2.05663172e+00,  4.29285830e+00,  1.89957219e+00, -4.10141578e-01,\n",
       "        9.26617982e-01,  2.33314116e+00,  3.30815138e+00,  2.31054449e+00,\n",
       "        2.20603210e+00,  1.80021814e+00,  1.39417822e+00,  3.95322731e+00,\n",
       "        3.60078523e+00,  2.18369340e+00,  3.41629291e+00,  1.85338454e+00,\n",
       "        4.72329963e+00,  6.31620209e+00,  3.73751774e+00,  3.45290008e+00,\n",
       "        6.22495120e+00, -5.09430001e-01,  2.60638639e+00,  2.91626546e+00,\n",
       "        3.01143839e+00,  2.80806978e+00,  4.46465921e+00,  4.28179463e+00,\n",
       "        4.07754804e+00, -2.07944333e+00,  2.92308994e-01,  3.56679455e+00,\n",
       "        4.03495585e+00,  7.50784033e-01,  3.60019293e+00,  6.56652441e-01,\n",
       "        2.08680477e+00,  1.11341690e+00,  1.14514408e-02, -8.24178967e-01,\n",
       "        2.36839190e+00,  2.66492485e+00,  5.05157308e-01,  7.11512708e+00,\n",
       "        4.03958067e+00,  4.02830629e-01,  3.76512753e+00,  2.80047241e+00,\n",
       "        3.93399816e-01,  4.21721712e+00,  1.67492585e+00,  1.76715730e+00,\n",
       "        1.14239036e+00,  2.69194674e+00,  3.83715242e-01,  1.92802571e+00,\n",
       "        4.15169894e+00,  3.00481887e+00,  1.25706129e+00,  3.82678658e+00,\n",
       "        1.39916865e+00,  2.46395693e-01,  2.67561715e+00,  1.16536725e+00,\n",
       "        7.01198986e-01, -1.85439303e+00,  7.36641866e-01,  4.02328966e+00,\n",
       "        1.14757691e+00,  1.15276038e-01,  1.30540275e+00,  5.24559816e+00,\n",
       "       -7.79234377e-01,  4.10634085e+00, -1.80250244e+00,  1.91290943e+00,\n",
       "        1.60704176e+00,  1.88622095e+00,  2.07854126e+00,  2.46532519e+00,\n",
       "        8.75070651e-01, -9.15084029e-01,  1.13007176e+00,  3.98568958e+00,\n",
       "        3.74319929e+00,  3.55794765e+00,  6.15600499e-01,  2.55738167e-01,\n",
       "        2.84666900e+00,  3.09741969e-01,  4.42168803e-01,  2.19581295e+00,\n",
       "        8.50601634e-01,  4.28504141e+00,  4.05219457e+00,  7.03880185e-02,\n",
       "       -9.83530934e-02,  7.98399769e-01,  1.63583689e+00,  4.85161824e+00,\n",
       "        5.21133378e+00,  1.56420027e+00,  1.33578116e+00,  3.74764580e+00,\n",
       "        2.90744214e+00,  7.43104433e+00, -7.96535471e-01,  2.99013448e+00,\n",
       "        3.75758059e+00,  3.28220257e+00,  4.90177432e+00,  3.76066528e+00,\n",
       "       -2.58461537e+00,  4.56088216e+00,  3.35372027e+00,  5.51019280e+00,\n",
       "        1.37029087e+00, -1.34823981e+00,  4.06384593e+00,  3.99195673e+00,\n",
       "        2.60685225e+00,  1.98876543e+00, -6.75172738e-01,  4.00730321e+00,\n",
       "        3.56610906e+00,  1.40315807e+00,  2.33188502e-02,  2.40975277e+00,\n",
       "        4.23265105e+00, -7.47897802e-01,  8.24189092e-01,  6.38892029e+00,\n",
       "        3.73153858e+00,  4.10328422e+00, -8.89250776e-01,  8.58609028e-01,\n",
       "        4.94490610e+00,  4.55728292e+00,  8.25038305e+00,  2.85495476e+00,\n",
       "        4.40496990e+00,  4.86490815e+00, -8.98728112e-01,  4.95685079e+00,\n",
       "        4.07728615e+00,  1.11414941e+00,  3.52657644e+00,  2.23939501e+00,\n",
       "        2.65041453e+00,  3.07021874e+00,  6.05100154e+00,  4.66913357e+00,\n",
       "        4.37570726e+00,  1.43230881e+00,  1.14534853e+00,  2.36041039e+00,\n",
       "        9.90078919e-01,  3.05579719e+00,  4.37963135e+00,  5.15878464e+00,\n",
       "        6.56304370e+00,  3.05333086e+00,  5.50912316e+00,  2.43326844e+00,\n",
       "        2.14996829e+00,  3.37011842e+00,  5.25566771e+00,  4.25888810e+00,\n",
       "        2.33674444e+00,  4.23082760e+00,  2.28490962e+00,  2.87147108e+00,\n",
       "        3.11209057e+00,  3.75057367e+00,  4.96076899e-01,  2.66192681e+00,\n",
       "       -1.40248926e-01,  4.14298608e+00,  4.90218900e+00,  1.40055696e+00,\n",
       "        1.94341076e+00, -3.36805310e-01,  1.75191484e+00,  3.93648480e+00,\n",
       "        2.21574205e+00,  1.23769727e+00,  1.66257534e+00,  2.45151742e+00,\n",
       "        2.81623317e-01,  3.65144442e+00,  5.90309267e+00,  3.07417523e+00,\n",
       "        8.01281710e-01,  2.17989357e+00,  1.45360555e+00,  2.82376308e+00,\n",
       "        2.87382200e+00,  2.71841401e+00,  2.16981199e+00,  4.63983050e+00,\n",
       "        1.88174317e+00,  1.35889841e+00, -4.59569505e-02,  4.50141352e+00,\n",
       "        1.63190129e-01,  3.92125523e+00,  7.20267416e+00,  6.02300615e+00,\n",
       "        7.30308674e-01,  2.12022947e+00,  5.15486087e+00,  6.81854259e-01,\n",
       "        4.17746122e+00,  4.76403443e+00,  1.82838207e+00,  1.58097034e+00,\n",
       "        1.30602937e+00, -7.07567986e-02,  7.05605580e-01, -2.01756879e+00,\n",
       "        3.38672894e+00,  1.38511488e+00,  1.99482106e+00, -2.71536982e+00,\n",
       "        2.30677015e+00,  1.77451807e+00,  3.13474980e+00,  2.75424271e+00,\n",
       "        2.02318119e+00,  1.14679353e+00,  4.18265584e+00,  7.05283678e+00,\n",
       "        3.29536924e+00,  1.78425362e+00,  1.05522152e+00,  9.86356319e-01,\n",
       "       -5.28680374e-01,  3.12816214e+00,  2.81821001e-01,  6.72356563e-01,\n",
       "        2.85800828e+00, -2.31625033e-01,  4.56326659e+00,  3.07386653e+00,\n",
       "        1.28575107e+00,  4.02281072e+00,  1.79020307e+00,  7.55813390e+00,\n",
       "        3.11635224e+00,  6.78175044e-01,  4.81703294e+00,  3.87289622e-01,\n",
       "        3.52387185e+00,  3.09199185e+00,  4.65187138e+00,  9.00525207e-01,\n",
       "        7.52846804e-01, -7.12580473e-02,  4.17964141e+00,  3.39196132e+00,\n",
       "        4.10421387e+00,  3.34432185e-01,  3.00975308e+00,  5.07762822e+00,\n",
       "        2.08144546e+00,  1.90434526e+00,  4.54857072e+00,  2.56119680e-01,\n",
       "        7.17078273e+00,  2.10746848e+00,  1.20156216e+00,  1.32328522e+00,\n",
       "        6.72481638e+00,  4.86617070e+00,  5.18095126e+00,  3.31644793e+00,\n",
       "       -2.66772420e-01,  8.58786070e-01,  3.77735093e+00,  2.40105376e+00,\n",
       "        1.33813497e+00,  1.06268116e+00,  5.90464277e+00,  6.22189463e-01,\n",
       "       -3.52417883e-01,  4.19588215e+00,  4.42481152e+00,  2.16829372e+00,\n",
       "        6.64302235e+00,  3.05769820e+00,  4.68035654e+00,  3.51406109e+00,\n",
       "        4.35176396e+00,  4.89233168e+00,  1.59237370e+00,  1.63826506e+00,\n",
       "        3.20152442e+00,  1.45411430e+00, -1.12396134e+00,  3.07371211e+00,\n",
       "        2.05563270e+00,  4.47148712e+00,  8.64412833e-01,  1.63595677e+00,\n",
       "        2.31862896e+00,  6.65279094e+00,  1.00768198e+00,  2.29757445e+00,\n",
       "       -7.43994255e-01,  4.13596381e+00,  4.98705254e+00,  4.26321132e+00,\n",
       "       -2.63758288e+00, -2.95625179e-02,  2.32680338e+00,  7.36984348e-01,\n",
       "        4.14231683e+00,  5.25282554e+00,  1.54566517e+00,  3.56369933e+00,\n",
       "        3.84070409e+00, -1.66423941e+00,  1.28941761e+00,  3.22683234e+00,\n",
       "        3.14360597e+00, -5.42526481e-01,  6.33369536e+00,  1.27392183e+00,\n",
       "        3.40096620e-01,  1.45421953e+00,  8.14899021e-01,  2.12263398e+00,\n",
       "        3.02344882e+00,  2.66903174e+00,  1.96966560e+00,  1.60893164e+00,\n",
       "        4.64044566e+00,  1.76083021e+00,  1.46858136e+00,  1.78827001e+00,\n",
       "        1.74769874e+00,  1.71388068e-01,  2.44854565e+00, -1.68044376e+00,\n",
       "       -9.80311419e-01,  2.52221413e+00,  3.59125840e+00,  6.06863629e+00,\n",
       "        1.36743135e+00,  2.26747596e+00,  2.52215704e+00,  2.81893733e+00,\n",
       "       -2.52699097e-01,  2.27681091e+00,  2.85571244e+00,  5.41174504e+00,\n",
       "        3.77249891e+00,  3.05825853e+00,  2.53747705e+00,  4.27763983e+00,\n",
       "        3.97178688e+00,  2.48935150e+00,  2.48150117e+00,  4.78795847e+00,\n",
       "        3.24567830e+00,  3.22268136e+00,  4.29307371e+00,  5.56560831e+00,\n",
       "        3.71019144e+00,  3.27051304e+00,  7.42928222e+00,  1.70692840e+00,\n",
       "        6.35369877e-01,  2.05974100e+00, -1.75708086e-01,  3.32348815e+00,\n",
       "        3.74154727e+00,  4.73210795e+00, -8.12915288e-01,  4.34185394e+00,\n",
       "        6.05030588e-01,  4.92999780e+00,  7.24745370e+00,  1.49057794e+00,\n",
       "        2.17118864e+00, -5.47822986e-01,  3.01623364e+00,  2.92048215e+00,\n",
       "        4.51507911e+00,  6.25396131e+00,  2.75209005e+00,  8.52567197e+00,\n",
       "        2.23546542e+00,  1.35922768e+00,  1.87421121e+00,  5.24963259e-01,\n",
       "        3.26542223e+00,  3.21273925e+00,  8.87899903e-01, -1.00961391e+00,\n",
       "       -5.02518504e-02,  4.66706033e+00,  1.78145927e+00,  8.00590197e-01,\n",
       "       -1.63768379e+00,  3.57770369e+00,  1.41558568e+00,  1.92952172e+00,\n",
       "        1.58598834e-01, -2.52520657e-01,  1.10351963e+00,  5.01997091e-01,\n",
       "        5.07031804e+00,  1.68621393e+00,  5.27139509e+00, -8.04709849e-01,\n",
       "        3.32310275e+00,  4.75015481e-01,  4.91508325e+00,  1.56028332e+00,\n",
       "        2.75056157e+00,  3.26054584e+00,  2.72053876e+00,  4.57706841e+00,\n",
       "        6.71298785e+00,  6.44287598e+00,  3.10828775e+00,  2.39837722e+00,\n",
       "        9.26729405e-01,  3.15217695e+00,  3.47377984e+00,  5.20833848e+00,\n",
       "        3.31570337e-01,  7.19014625e+00,  5.96156579e-01,  3.18188583e+00,\n",
       "        1.94813352e+00,  1.56605125e+00,  2.01729771e+00,  2.86668178e+00,\n",
       "        1.43072923e+00,  2.28253644e-01,  3.26690501e+00,  4.73830308e-01,\n",
       "        4.79663358e+00,  2.52474372e+00,  2.49827538e+00,  1.01363394e+00,\n",
       "        3.06708957e-01, -2.14459652e+00,  1.98894196e+00,  5.79932773e+00,\n",
       "       -2.73027913e+00, -5.96823880e-01,  1.47914233e-01,  2.90410263e+00,\n",
       "       -3.94204685e-01,  1.32188127e+00, -4.63549951e-01,  6.05399896e+00,\n",
       "       -1.11520594e-01,  6.28011613e-01, -2.00579918e-01, -2.47088585e+00,\n",
       "        1.07468950e+00,  5.33635693e+00,  5.23223634e+00,  4.67322897e+00,\n",
       "        2.38357109e+00,  5.24777536e+00,  3.40242485e+00,  3.22342317e+00,\n",
       "       -2.62026914e-01,  2.11339118e+00,  4.53012571e-02,  6.14641480e+00,\n",
       "        2.28635195e+00,  1.20929213e+00,  9.95466858e-01,  3.92435273e+00,\n",
       "        4.22010520e+00,  5.08584429e+00, -6.76954340e-01,  5.96939580e+00,\n",
       "        1.83920844e+00,  3.05277026e+00,  1.81272250e+00,  4.50251199e+00,\n",
       "        1.08489641e+00,  3.20435048e+00,  2.52901324e+00,  5.26741300e+00,\n",
       "        2.88634754e+00,  2.05209899e+00,  1.62639966e+00,  3.78641210e+00,\n",
       "       -4.79131373e-01,  8.56224478e-01, -3.16550012e+00,  2.08096164e+00,\n",
       "        2.61682616e+00,  1.65425545e-01,  6.04091336e+00,  4.61402681e+00,\n",
       "        5.57716768e+00,  5.30660951e+00,  3.48361971e+00,  5.90378095e+00,\n",
       "        5.97601844e+00,  3.27268674e+00,  3.58109370e+00,  2.80752523e+00,\n",
       "        3.27651577e+00,  7.89036223e-01,  1.87985327e+00,  3.90648505e+00,\n",
       "        3.35764063e-03,  3.71133556e+00,  2.12371167e+00,  6.27163603e+00,\n",
       "        6.51154191e+00,  5.30845211e-02, -8.25929269e-01,  2.31077554e+00,\n",
       "        1.57907483e+00,  1.84955219e+00,  1.72933414e+00,  1.81838280e+00,\n",
       "        2.72223360e+00,  5.97262114e+00,  6.17554875e+00,  2.33222476e+00,\n",
       "        1.58704496e+00, -1.31602680e-01, -1.10842844e+00,  3.24007349e+00,\n",
       "        5.59908952e+00,  4.44010868e+00,  2.88025603e+00,  3.26905022e+00,\n",
       "        1.03792072e+00,  1.61357443e+00,  4.99479558e+00,  8.50324487e-01,\n",
       "       -8.14805952e-01,  5.87344811e+00,  3.70985388e+00,  4.24253759e+00,\n",
       "        2.49956757e+00,  5.58202918e+00, -4.41698648e-01, -1.46420626e+00,\n",
       "        6.33262925e+00,  6.59247680e+00, -3.61839580e+00,  5.04727272e-01,\n",
       "        2.42499056e+00,  1.34051790e+00,  4.44411949e+00, -5.29548218e-01,\n",
       "        4.79510645e+00,  1.45513841e+00,  2.43038043e+00,  4.10776143e+00,\n",
       "        3.36865007e-01,  3.13542551e+00, -9.70590581e-02,  4.70432643e-01,\n",
       "        1.81861532e+00,  4.48490803e+00,  2.55144723e+00,  4.51126409e+00,\n",
       "       -1.57610052e+00,  2.40906628e+00,  2.72299936e+00,  9.75552370e-01,\n",
       "        3.07717454e+00,  2.07140336e+00,  4.67303244e+00,  2.15394917e+00,\n",
       "        3.28039978e+00,  5.06816435e+00,  3.79389960e+00,  4.16799770e+00,\n",
       "        1.43159189e+00,  2.11497146e+00,  6.35997202e+00,  2.59447949e+00,\n",
       "       -7.96793168e-01,  3.09629364e+00,  3.68957901e+00,  2.23158278e+00,\n",
       "        3.86738238e+00,  6.19327926e+00, -3.81687887e-01,  3.10970158e+00,\n",
       "        3.68744207e+00, -1.43569169e+00,  5.14637000e+00,  3.11448176e+00,\n",
       "        4.39337946e+00,  1.43873572e+00,  1.30382855e+00,  5.77976036e+00,\n",
       "       -1.07377801e-01,  1.05448990e+00, -1.64129656e+00,  1.77483150e+00,\n",
       "       -5.19653556e-01,  7.61123173e-01,  4.12162511e+00, -1.62854535e-01,\n",
       "        6.44512201e+00, -1.27363746e+00,  7.68194446e-01,  1.88559591e+00,\n",
       "        9.84403770e-01,  2.69183318e+00,  8.15879133e-01,  5.02751660e+00,\n",
       "        3.21772107e+00,  4.08100779e+00,  1.33856252e+00,  5.03465902e+00,\n",
       "       -1.40790198e+00,  5.56424871e+00,  1.32582609e+00,  2.94480398e+00,\n",
       "        4.90727922e+00, -2.69971070e-01,  5.46263425e+00,  6.63344045e-01,\n",
       "       -7.19655859e-01,  2.30686758e+00,  8.43831984e-01,  4.01827497e+00,\n",
       "        9.72339645e-01,  2.06513919e+00,  6.97491401e+00,  1.49246152e+00,\n",
       "        1.76924056e+00,  1.80929831e+00,  2.47821268e+00,  2.56358061e+00,\n",
       "        1.95434368e+00,  3.06144910e+00,  1.82109771e+00,  4.89204545e+00,\n",
       "        1.61402192e+00,  3.06041672e+00,  3.62839497e+00,  2.71392106e-01,\n",
       "        4.65730191e+00,  1.63207712e+00,  3.50131696e+00, -4.88438768e-01,\n",
       "        4.11943174e+00, -7.99405725e-01,  5.03115562e+00,  6.11538013e+00,\n",
       "        6.96625081e+00,  3.64007606e-01,  1.24402207e+00,  1.00415627e+00,\n",
       "        2.44019910e-01,  8.05470218e+00,  4.65005827e+00, -2.23471205e+00,\n",
       "        2.02986461e-01,  3.08534556e+00,  5.13132204e-01,  2.81715572e+00,\n",
       "        3.02471707e+00,  1.62290340e+00,  3.13379876e+00, -2.34968222e-01,\n",
       "       -6.04507185e-01,  3.50039116e+00,  4.52961904e+00,  4.19411170e+00,\n",
       "        2.46769073e+00,  1.92893365e+00,  1.14874103e+00,  1.93921274e+00,\n",
       "        4.06091655e+00,  3.26831761e+00,  3.54050616e+00,  4.63939933e+00,\n",
       "        2.08189878e+00,  5.38923854e+00,  5.38856412e+00,  3.71491029e+00,\n",
       "        3.24462975e+00,  3.65340221e+00,  1.31155749e-01,  2.35642600e+00,\n",
       "        1.43336890e+00,  2.38333220e+00,  4.40665125e+00,  3.65546813e+00,\n",
       "        2.49686301e+00,  7.27601811e+00,  2.75143306e+00,  4.35354914e-02,\n",
       "        4.63874947e+00,  3.15895108e+00,  3.57700678e+00,  3.52218037e+00,\n",
       "        2.36024783e+00,  1.57785535e-03,  2.68560610e+00,  3.32722709e-01,\n",
       "        4.52376701e+00,  4.11781257e+00,  3.43006295e+00, -6.31839712e-01,\n",
       "        1.90607248e+00,  2.55841980e+00,  5.99913993e+00,  5.89426228e+00,\n",
       "        3.27147070e+00,  3.75765509e+00,  1.17350604e+00,  1.09095679e+00,\n",
       "        4.94388471e+00,  2.68010542e-01,  2.59324143e+00,  3.42020801e+00,\n",
       "        5.81549828e+00,  3.50674250e+00,  2.75066798e+00,  1.72876561e+00,\n",
       "        2.86784137e+00, -3.54531797e-01,  5.31821562e+00,  1.15089042e+00,\n",
       "        3.02635631e+00,  3.09178325e+00,  2.20704116e+00,  2.12959624e+00,\n",
       "        2.72638582e+00,  1.19641304e+00,  3.59411779e+00,  3.45371753e+00,\n",
       "        2.62533096e+00,  1.42619051e+00,  1.22220062e+00,  5.18207998e+00,\n",
       "       -5.49937800e-02,  1.77187325e+00,  3.61424848e+00,  5.74096617e+00,\n",
       "        2.91668804e+00,  3.87300654e+00,  3.10247724e+00,  3.83332038e+00,\n",
       "        3.47006319e+00, -5.64191685e-01,  9.06614894e-01,  5.66704002e+00,\n",
       "        3.92773242e-03,  1.01881952e+00,  3.15146528e+00, -1.85960492e+00,\n",
       "        2.65554857e+00,  4.81509965e+00,  3.34138460e+00,  1.18923856e+00,\n",
       "        2.05090246e+00,  2.69684551e+00,  4.51321092e-02, -1.04081006e-01,\n",
       "        2.18492944e+00,  3.74866110e+00, -7.26682910e-02,  4.07116615e+00,\n",
       "        2.72871023e+00,  3.74998868e+00,  3.07797058e+00,  2.17424051e+00,\n",
       "        2.45279849e+00,  8.31882827e-01,  4.68938103e-02,  1.89945915e+00,\n",
       "        2.28282113e+00,  3.41407363e+00,  1.43210680e+00,  4.02840147e+00,\n",
       "        3.00721528e+00,  2.64390403e+00,  5.73975413e+00,  1.29986831e+00,\n",
       "        2.55348123e+00, -8.26090558e-01,  1.51206123e-01,  2.24533950e+00,\n",
       "        1.72430129e+00,  2.92418489e+00,  4.12456102e+00,  1.76084054e+00,\n",
       "        4.96111915e+00,  4.27304053e+00, -2.03868959e+00,  3.26470082e+00,\n",
       "        6.62012635e+00,  5.01825351e+00,  3.76935310e+00,  2.53093166e+00,\n",
       "        3.17047121e+00,  2.04799053e+00,  2.93710817e+00,  1.53593683e+00,\n",
       "        3.28380476e+00, -3.73140283e-01, -1.59220486e+00,  1.13373836e+00,\n",
       "        2.85074438e+00, -3.78825438e-02,  4.55067259e+00,  2.18201609e+00,\n",
       "        6.10505859e+00,  3.53721398e-01,  7.92755832e+00,  5.29325120e+00,\n",
       "        2.32468935e+00, -2.05027785e+00,  2.66895997e+00,  1.99228994e+00,\n",
       "        5.64914368e-01,  7.95209338e-01,  1.50404015e+00,  4.42386693e+00,\n",
       "       -2.28081447e-01,  3.23104614e+00,  4.22820424e+00,  4.77739542e+00,\n",
       "       -4.57929394e-01, -1.18924366e-01,  3.03449126e+00,  4.03236200e+00,\n",
       "        5.52332701e+00,  1.24444627e+00, -2.67865535e+00, -7.20333413e-01,\n",
       "        1.90917997e+00,  4.22990169e+00,  1.59733357e+00,  1.80641219e-01,\n",
       "        1.04085902e+00,  1.42301384e+00,  1.73467324e+00,  3.07588482e+00,\n",
       "        4.25859416e+00,  2.92733384e+00,  3.00034136e+00,  3.52220192e+00,\n",
       "        5.36329141e+00,  9.47865712e-01,  1.63401060e+00,  3.29454921e+00,\n",
       "        1.54622450e+00,  1.86646195e+00,  2.85477853e+00,  3.08611056e+00])>"
      ]
     },
     "execution_count": 19,
     "metadata": {},
     "output_type": "execute_result"
    },
    {
     "data": {
      "text/plain": [
       "(array([ 2.,  0.,  1.,  2.,  4.,  1.,  7.,  4.,  7.,  5.,  2., 16., 15.,\n",
       "        16., 28., 28., 25., 26., 34., 37., 44., 46., 49., 45., 46., 38.,\n",
       "        41., 55., 43., 42., 33., 38., 35., 29., 30., 26., 20., 14.,  7.,\n",
       "        16., 11.,  9.,  7.,  3.,  6.,  2.,  1.,  1.,  2.,  1.]),\n",
       " array([-3.70741395, -3.46275223, -3.21809051, -2.9734288 , -2.72876708,\n",
       "        -2.48410536, -2.23944364, -1.99478192, -1.7501202 , -1.50545849,\n",
       "        -1.26079677, -1.01613505, -0.77147333, -0.52681161, -0.28214989,\n",
       "        -0.03748818,  0.20717354,  0.45183526,  0.69649698,  0.9411587 ,\n",
       "         1.18582042,  1.43048213,  1.67514385,  1.91980557,  2.16446729,\n",
       "         2.40912901,  2.65379073,  2.89845244,  3.14311416,  3.38777588,\n",
       "         3.6324376 ,  3.87709932,  4.12176104,  4.36642275,  4.61108447,\n",
       "         4.85574619,  5.10040791,  5.34506963,  5.58973135,  5.83439307,\n",
       "         6.07905478,  6.3237165 ,  6.56837822,  6.81303994,  7.05770166,\n",
       "         7.30236338,  7.54702509,  7.79168681,  8.03634853,  8.28101025,\n",
       "         8.52567197]),\n",
       " <a list of 50 Patch objects>)"
      ]
     },
     "execution_count": 19,
     "metadata": {},
     "output_type": "execute_result"
    },
    {
     "data": {
      "image/png": "[encoded data removed]",
      "text/plain": [
       "<Figure size 432x288 with 1 Axes>"
      ]
     },
     "metadata": {
      "needs_background": "light"
     },
     "output_type": "display_data"
    },
    {
     "data": {
      "text/plain": [
       "(array([23., 20., 13., 18., 20., 22., 18., 25., 20., 11., 19., 18., 19.,\n",
       "        18., 11., 23., 18., 28., 27., 17., 18., 21., 23., 19., 20., 25.,\n",
       "        24., 25., 14., 19., 26., 30., 21., 20., 19., 24., 24., 12., 23.,\n",
       "        16., 24., 16., 17., 16., 15., 18., 12., 28., 23., 20.]),\n",
       " array([0.02294463, 0.22241766, 0.42189069, 0.62136371, 0.82083674,\n",
       "        1.02030977, 1.21978279, 1.41925582, 1.61872885, 1.81820187,\n",
       "        2.0176749 , 2.21714793, 2.41662095, 2.61609398, 2.81556701,\n",
       "        3.01504003, 3.21451306, 3.41398609, 3.61345911, 3.81293214,\n",
       "        4.01240516, 4.21187819, 4.41135122, 4.61082424, 4.81029727,\n",
       "        5.0097703 , 5.20924332, 5.40871635, 5.60818938, 5.8076624 ,\n",
       "        6.00713543, 6.20660846, 6.40608148, 6.60555451, 6.80502754,\n",
       "        7.00450056, 7.20397359, 7.40344662, 7.60291964, 7.80239267,\n",
       "        8.0018657 , 8.20133872, 8.40081175, 8.60028478, 8.7997578 ,\n",
       "        8.99923083, 9.19870386, 9.39817688, 9.59764991, 9.79712294,\n",
       "        9.99659596]),\n",
       " <a list of 50 Patch objects>)"
      ]
     },
     "execution_count": 19,
     "metadata": {},
     "output_type": "execute_result"
    },
    {
     "data": {
      "image/png": "[encoded data removed]",
      "text/plain": [
       "<Figure size 432x288 with 1 Axes>"
      ]
     },
     "metadata": {
      "needs_background": "light"
     },
     "output_type": "display_data"
    },
    {
     "data": {
      "text/plain": [
       "(array([10.,  5.,  6.,  7., 10.,  8., 14., 12., 15., 19., 16., 17., 18.,\n",
       "        24., 27., 26., 30., 32., 23., 34., 34., 22., 30., 42., 38., 25.,\n",
       "        21., 26., 30., 38., 34., 32., 23., 24., 33., 24., 19., 22., 22.,\n",
       "        18., 16.,  9., 12.,  7., 10., 12.,  6.,  7.,  7.,  4.]),\n",
       " array([-1.4518375 , -1.293559  , -1.1352805 , -0.97700197, -0.81872344,\n",
       "        -0.66044486, -0.50216633, -0.3438878 , -0.18560928, -0.02733075,\n",
       "         0.13094778,  0.28922632,  0.44750485,  0.6057834 ,  0.7640619 ,\n",
       "         0.92234045,  1.080619  ,  1.2388976 ,  1.397176  ,  1.5554546 ,\n",
       "         1.7137331 ,  1.8720117 ,  2.0302901 ,  2.1885686 ,  2.3468473 ,\n",
       "         2.5051258 ,  2.6634042 ,  2.821683  ,  2.9799614 ,  3.1382399 ,\n",
       "         3.2965183 ,  3.454797  ,  3.6130755 ,  3.771354  ,  3.9296327 ,\n",
       "         4.087911  ,  4.2461896 ,  4.404468  ,  4.5627465 ,  4.721025  ,\n",
       "         4.879304  ,  5.0375824 ,  5.195861  ,  5.3541393 ,  5.512418  ,\n",
       "         5.6706963 ,  5.8289747 ,  5.9872537 ,  6.145532  ,  6.3038106 ,\n",
       "         6.462089  ], dtype=float32),\n",
       " <a list of 50 Patch objects>)"
      ]
     },
     "execution_count": 19,
     "metadata": {},
     "output_type": "execute_result"
    },
    {
     "data": {
      "image/png": "[encoded data removed]",
      "text/plain": [
       "<Figure size 432x288 with 1 Axes>"
      ]
     },
     "metadata": {
      "needs_background": "light"
     },
     "output_type": "display_data"
    }
   ],
   "source": [
    "\"Statistical operations\"\n",
    "tf.reduce_mean(t,axis=1, keepdims=True)\n",
    "tf.reduce_max(t,axis=1, keepdims=True)\n",
    "tf.reduce_min(t,axis=1, keepdims=True)\n",
    "tf.reduce_sum(t,axis=1, keepdims=True)\n",
    "random_distribution = tf.Variable(tf.random.normal([1000], mean=2.5, stddev=2, dtype=tf.float64))\n",
    "random_distribution\n",
    "plt.hist(random_distribution.numpy(), bins=50)\n",
    "plt.show()\n",
    "uniform_distribution = tf.Variable(tf.random.uniform([1000,1], minval=0, maxval=10, dtype=tf.float64))\n",
    "plt.hist(uniform_distribution.numpy(), bins=50)\n",
    "plt.show()\n",
    "plt.hist(tf.random.truncated_normal([1000], mean=2.5, stddev=2), bins=50)\n",
    "plt.show()"
   ]
  },
  {
   "cell_type": "code",
   "execution_count": 28,
   "metadata": {},
   "outputs": [
    {
     "data": {
      "text/plain": [
       "<tf.Tensor: id=752, shape=(10, 3), dtype=int32, numpy=\n",
       "array([[ 1,  4,  5],\n",
       "       [ 1,  2,  3],\n",
       "       [ 4,  4,  8],\n",
       "       [ 5,  3,  8],\n",
       "       [ 5,  5, 10],\n",
       "       [ 1,  6,  7],\n",
       "       [ 1,  6,  7],\n",
       "       [ 4,  1,  5],\n",
       "       [ 2,  2,  4],\n",
       "       [ 4,  3,  7]], dtype=int32)>"
      ]
     },
     "execution_count": 28,
     "metadata": {},
     "output_type": "execute_result"
    }
   ],
   "source": [
    "dice1 = tf.Variable(tf.random.uniform([10, 1], minval=1, maxval=7, dtype=tf.int32))\n",
    "dice =  tf.Variable(tf.random.uniform([10, 1], minval=1, maxval=7, dtype=tf.int32))\n",
    "dice_sum = dice1 + dice2\n",
    " \n",
    "# We've got three separate 10x1 matrices. To produce a single\n",
    "# 10x3 matrix, we'll concatenate them along dimension 1.\n",
    "tf.concat(values=[dice1, dice2, dice_sum], axis=1)"
   ]
  },
  {
   "cell_type": "code",
   "execution_count": 56,
   "metadata": {},
   "outputs": [
    {
     "data": {
      "text/plain": [
       "'Mathematical operations'"
      ]
     },
     "execution_count": 56,
     "metadata": {},
     "output_type": "execute_result"
    },
    {
     "data": {
      "text/plain": [
       "<tf.Tensor: id=1974, shape=(), dtype=float32, numpy=7.0>"
      ]
     },
     "execution_count": 56,
     "metadata": {},
     "output_type": "execute_result"
    },
    {
     "data": {
      "text/plain": [
       "<tf.Tensor: id=1977, shape=(), dtype=float32, numpy=2.0>"
      ]
     },
     "execution_count": 56,
     "metadata": {},
     "output_type": "execute_result"
    },
    {
     "data": {
      "text/plain": [
       "<tf.Tensor: id=1980, shape=(), dtype=float32, numpy=3.0>"
      ]
     },
     "execution_count": 56,
     "metadata": {},
     "output_type": "execute_result"
    },
    {
     "data": {
      "text/plain": [
       "<tf.Tensor: id=1983, shape=(2, 3), dtype=float32, numpy=\n",
       "array([[ 9.,  4., 16.],\n",
       "       [ 0.,  4.,  1.]], dtype=float32)>"
      ]
     },
     "execution_count": 56,
     "metadata": {},
     "output_type": "execute_result"
    },
    {
     "data": {
      "text/plain": [
       "<tf.Tensor: id=1986, shape=(2, 3), dtype=float32, numpy=\n",
       "array([[ 2.,  5.,  6.],\n",
       "       [ 5., 12., 18.]], dtype=float32)>"
      ]
     },
     "execution_count": 56,
     "metadata": {},
     "output_type": "execute_result"
    }
   ],
   "source": [
    "\"Mathematical operations\"\n",
    "tf.math.sqrt(tf.constant(49.))\n",
    "tf.math.floor(tf.constant(2.756))\n",
    "tf.math.ceil(tf.constant(2.456))\n",
    "tf.math.squared_difference(t, tf.constant(5.))\n",
    "tf.math.cumsum(t, axis=1)"
   ]
  },
  {
   "cell_type": "code",
   "execution_count": 57,
   "metadata": {},
   "outputs": [
    {
     "data": {
      "text/plain": [
       "'Trignometric operations'"
      ]
     },
     "execution_count": 57,
     "metadata": {},
     "output_type": "execute_result"
    },
    {
     "data": {
      "text/plain": [
       "[<matplotlib.lines.Line2D at 0xb2ffdeb00>]"
      ]
     },
     "execution_count": 57,
     "metadata": {},
     "output_type": "execute_result"
    },
    {
     "data": {
      "text/plain": [
       "[<matplotlib.lines.Line2D at 0xb2ffdc080>]"
      ]
     },
     "execution_count": 57,
     "metadata": {},
     "output_type": "execute_result"
    },
    {
     "data": {
      "text/plain": [
       "[<matplotlib.lines.Line2D at 0xb2ffdc470>]"
      ]
     },
     "execution_count": 57,
     "metadata": {},
     "output_type": "execute_result"
    },
    {
     "data": {
      "image/png": "[encoded data removed]",
      "text/plain": [
       "<Figure size 432x288 with 1 Axes>"
      ]
     },
     "metadata": {
      "needs_background": "light"
     },
     "output_type": "display_data"
    }
   ],
   "source": [
    "\"Trignometric operations\"\n",
    "plt.plot(tf.math.sin(tf.range(0,180,5, dtype=tf.float32)),'b')\n",
    "plt.plot(tf.math.cos(tf.range(0,180,5, dtype=tf.float32)),'r')\n",
    "plt.plot(tf.math.log1p(tf.range(0,180,5, dtype=tf.float32)),'g')\n"
   ]
  },
  {
   "cell_type": "code",
   "execution_count": 30,
   "metadata": {},
   "outputs": [
    {
     "data": {
      "text/plain": [
       "<tf.Variable 'UnreadVariable' shape=(2, 4) dtype=int32, numpy=\n",
       "array([[0, 0, 0, 0],\n",
       "       [1, 2, 2, 0]], dtype=int32)>"
      ]
     },
     "execution_count": 30,
     "metadata": {},
     "output_type": "execute_result"
    },
    {
     "data": {
      "text/plain": [
       "<tf.Variable 'Variable:0' shape=(2, 4) dtype=int32, numpy=\n",
       "array([[0, 0, 0, 0],\n",
       "       [1, 2, 2, 0]], dtype=int32)>"
      ]
     },
     "execution_count": 30,
     "metadata": {},
     "output_type": "execute_result"
    },
    {
     "data": {
      "text/plain": [
       "<tensorflow.python.training.tracking.util.CheckpointLoadStatus at 0xb29d64ef0>"
      ]
     },
     "execution_count": 30,
     "metadata": {},
     "output_type": "execute_result"
    },
    {
     "data": {
      "text/plain": [
       "<tf.Variable 'Variable:0' shape=(2, 4) dtype=int32, numpy=\n",
       "array([[1, 3, 4, 5],\n",
       "       [1, 2, 3, 4]], dtype=int32)>"
      ]
     },
     "execution_count": 30,
     "metadata": {},
     "output_type": "execute_result"
    }
   ],
   "source": [
    "# Saving and restoring tensor values using checkpoint\n",
    "variable = tf.Variable([[1,3,4,5], [1,2,3,4]])\n",
    "checkpoint = tf.train.Checkpoint(var=variable)\n",
    "save_path = checkpoint.save('./output/01/vars')\n",
    "variable.assign([[0,0,0,0],[1,2,2,0]])\n",
    "variable\n",
    "checkpoint.restore(save_path)\n",
    "variable"
   ]
  },
  {
   "cell_type": "markdown",
   "metadata": {},
   "source": [
    "#### Using tf.function "
   ]
  },
  {
   "cell_type": "code",
   "execution_count": 27,
   "metadata": {},
   "outputs": [],
   "source": [
    "# tf.function take Python function and return a Tensorflow graph \n",
    "# to apply optimization and parallelism.\n",
    "def f1(x, y):\n",
    "    return tf.reduce_mean(input_tensor=tf.multiply(x ** 2, 5) + y**2)\n",
    "\n",
    "f2 = tf.function(f1)\n",
    "\n",
    "@tf.function\n",
    "def f3(x, y):\n",
    "    return tf.reduce_mean(input_tensor=tf.multiply(x ** 2, 5) + y**2)\n",
    "\n",
    "x = tf.constant([4., -5.])\n",
    "y = tf.constant([2., 3.])\n",
    "\n",
    "# f1 and f2 return the same value, but f2 executes as a TensorFlow graph\n",
    "\n",
    "assert f1(x,y).numpy() == f2(x,y).numpy() ==f3(x,y).numpy()"
   ]
  },
  {
   "cell_type": "code",
   "execution_count": null,
   "metadata": {},
   "outputs": [],
   "source": []
  }
 ],
 "metadata": {
  "kernelspec": {
   "display_name": "Python 3",
   "language": "python",
   "name": "python3"
  },
  "language_info": {
   "codemirror_mode": {
    "name": "ipython",
    "version": 3
   },
   "file_extension": ".py",
   "mimetype": "text/x-python",
   "name": "python",
   "nbconvert_exporter": "python",
   "pygments_lexer": "ipython3",
   "version": "3.7.4"
  }
 },
 "nbformat": 4,
 "nbformat_minor": 2
}
