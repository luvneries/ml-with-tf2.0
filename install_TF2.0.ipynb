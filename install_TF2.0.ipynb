{
 "cells": [
  {
   "cell_type": "markdown",
   "metadata": {},
   "source": [
    "## <center> Tensorflow Installation </center>\n",
    "\n",
    "- There are 2 distinct version of Tensorflow - one for CPU and another for GPU execution. GPU requires libraries CUDA nad CuDNN installed and execution will be default to GPU wherever possible.\n",
    "- MACOS doesn't have GPU support so either you can run Colab or docker container but for this session we will be using MACOS and CPU execution.<br>\n",
    "You can check for GPU support : *tf.test.is_gpu_available()*\n",
    "\n",
    "Before installing TF2.0 create a Virutal env, if you have applications running on previous version.<br>\n",
    "<br>\n",
    "\n",
    "\n",
    "### Install TF2.0 in virtual env\n"
   ]
  },
  {
   "cell_type": "code",
   "execution_count": 1,
   "metadata": {},
   "outputs": [
    {
     "name": "stdout",
     "output_type": "stream",
     "text": [
      "Requirement already satisfied: virtualenv in /anaconda3/lib/python3.7/site-packages (16.4.3)\n",
      "Using base prefix '/anaconda3'\n",
      "New python executable in /Users/pankaj/PycharmProjects/ML-with-TF2.0/TF2.0/bin/python3\n",
      "Also creating executable in /Users/pankaj/PycharmProjects/ML-with-TF2.0/TF2.0/bin/python\n",
      "Installing setuptools, pip, wheel...\n",
      "done.\n",
      "Running virtualenv with interpreter /anaconda3/bin/python3\n"
     ]
    },
    {
     "name": "stderr",
     "output_type": "stream",
     "text": [
      "You are using pip version 19.0.3, however version 19.1.1 is available.\n",
      "You should consider upgrading via the 'pip install --upgrade pip' command.\n"
     ]
    }
   ],
   "source": [
    "%%bash\n",
    "pip install virtualenv\n",
    "virtualenv --python=python3 TF2.0\n",
    "source TF2.0/bin/activate"
   ]
  },
  {
   "cell_type": "markdown",
   "metadata": {},
   "source": [
    "### Run tensorflow on docker container\n",
    "\n",
    "Latest image of Tensorflow Docker container containes stable version of Tensorflow 1.13.1. You might need to install 2.0 as mentioned above along with jupyter notebook."
   ]
  },
  {
   "cell_type": "code",
   "execution_count": 4,
   "metadata": {},
   "outputs": [
    {
     "name": "stdout",
     "output_type": "stream",
     "text": [
      "Using default tag: latest\n",
      "latest: Pulling from tensorflow/tensorflow\n",
      "Digest: sha256:017ccbb4f0a944656f7dbccedc96cbb68d4ebfd24a9398592bd2515a304054a4\n",
      "Status: Image is up to date for tensorflow/tensorflow:latest\n"
     ]
    }
   ],
   "source": [
    "%%bash \n",
    "docker pull tensorflow/tensorflow                  # Download latest image\n",
    "\n",
    "# Run below command from TTY and install TF2.0 version and Jupyter notebook\n",
    "#docker run -it -p 8888:8888 tensorflow/tensorflow  \n",
    "\n",
    "# Start a Jupyter notebook server "
   ]
  },
  {
   "cell_type": "markdown",
   "metadata": {},
   "source": [
    "### Run on Colab\n",
    "\n",
    "[Colab](https://colab.research.google.com/) is Google provided research enviornment with support for GPU."
   ]
  },
  {
   "cell_type": "code",
   "execution_count": null,
   "metadata": {},
   "outputs": [],
   "source": []
  }
 ],
 "metadata": {
  "kernelspec": {
   "display_name": "Python 3",
   "language": "python",
   "name": "python3"
  },
  "language_info": {
   "codemirror_mode": {
    "name": "ipython",
    "version": 3
   },
   "file_extension": ".py",
   "mimetype": "text/x-python",
   "name": "python",
   "nbconvert_exporter": "python",
   "pygments_lexer": "ipython3",
   "version": "3.7.4"
  }
 },
 "nbformat": 4,
 "nbformat_minor": 2
}
